{
 "cells": [
  {
   "cell_type": "code",
   "execution_count": 123,
   "metadata": {},
   "outputs": [
    {
     "data": {
      "text/plain": [
       "show_id                     int64\n",
       "type                       object\n",
       "title                      object\n",
       "director                   object\n",
       "cast                       object\n",
       "country                    object\n",
       "date_added                 object\n",
       "Netflix release year        int64\n",
       "rating                     object\n",
       "duration                   object\n",
       "listed_in                  object\n",
       "description                object\n",
       "IMDB rating               float64\n",
       "Rotten Tomatoes rating    float64\n",
       "Award                      object\n",
       "Released Date              object\n",
       "IMDB rating group          object\n",
       "Title                      object\n",
       "Budget                      int64\n",
       "Movie ID                  float64\n",
       "Revenue                     int64\n",
       "dtype: object"
      ]
     },
     "execution_count": 123,
     "metadata": {},
     "output_type": "execute_result"
    }
   ],
   "source": [
    "# Dependencies and Setup\n",
    "import matplotlib.pyplot as plt\n",
    "import pandas as pd\n",
    "import numpy as np\n",
    "from scipy.interpolate import interp1d\n",
    "import requests\n",
    "import time\n",
    "from time import gmtime, strftime\n",
    "from scipy.stats import linregress\n",
    "import json\n",
    "from pprint import pprint\n",
    "import csv\n",
    "import chart_studio.plotly as py\n",
    "import plotly.express as px\n",
    "\n",
    "# Reading Netflix file\n",
    "netflix_titles_path = \"Output/TMDB_OMDB.CSV\"\n",
    "\n",
    "# Read the mouse data and the study results\n",
    "netflix_titles_temp = pd.read_csv(netflix_titles_path)\n",
    "netflix_titles_temp.replace('', np.nan, inplace=True) \n",
    "fill_values = {'Movie ID':0,'director': 'Director Not Available', 'Cast': 'Cast Not Available', 'country': 'Country Not Available', 'listed_in': 'Catagory not available'}\n",
    "netflix_titles_temp.fillna(value=fill_values, inplace=True)\n",
    "netflix_titles_temp.drop(columns=[\"Unnamed: 0\",\"Unnamed: 0.1\"],inplace=True)\n",
    "netflix_titles = netflix_titles.loc[netflix_titles['Movie ID'] != 0, :]\n",
    "netflix_titles.dtypes"
   ]
  },
  {
   "cell_type": "code",
   "execution_count": 124,
   "metadata": {},
   "outputs": [
    {
     "data": {
      "text/html": [
       "<div>\n",
       "<style scoped>\n",
       "    .dataframe tbody tr th:only-of-type {\n",
       "        vertical-align: middle;\n",
       "    }\n",
       "\n",
       "    .dataframe tbody tr th {\n",
       "        vertical-align: top;\n",
       "    }\n",
       "\n",
       "    .dataframe thead th {\n",
       "        text-align: right;\n",
       "    }\n",
       "</style>\n",
       "<table border=\"1\" class=\"dataframe\">\n",
       "  <thead>\n",
       "    <tr style=\"text-align: right;\">\n",
       "      <th></th>\n",
       "      <th>show_id</th>\n",
       "      <th>type</th>\n",
       "      <th>title</th>\n",
       "      <th>director</th>\n",
       "      <th>cast</th>\n",
       "      <th>country</th>\n",
       "      <th>date_added</th>\n",
       "      <th>Netflix release year</th>\n",
       "      <th>rating</th>\n",
       "      <th>duration</th>\n",
       "      <th>...</th>\n",
       "      <th>description</th>\n",
       "      <th>IMDB rating</th>\n",
       "      <th>Rotten Tomatoes rating</th>\n",
       "      <th>Award</th>\n",
       "      <th>Released Date</th>\n",
       "      <th>IMDB rating group</th>\n",
       "      <th>Title</th>\n",
       "      <th>Budget</th>\n",
       "      <th>Movie ID</th>\n",
       "      <th>Revenue</th>\n",
       "    </tr>\n",
       "  </thead>\n",
       "  <tbody>\n",
       "    <tr>\n",
       "      <th>2</th>\n",
       "      <td>80163890</td>\n",
       "      <td>TV Show</td>\n",
       "      <td>Apaches</td>\n",
       "      <td>Director Not Available</td>\n",
       "      <td>Alberto Ammann, Eloy Azorín, Verónica Echegui,...</td>\n",
       "      <td>Spain</td>\n",
       "      <td>September 8, 2017</td>\n",
       "      <td>2016</td>\n",
       "      <td>TV-MA</td>\n",
       "      <td>1 Season</td>\n",
       "      <td>...</td>\n",
       "      <td>A young journalist is forced into a life of cr...</td>\n",
       "      <td>5.0</td>\n",
       "      <td>31.0</td>\n",
       "      <td>2 nominations.</td>\n",
       "      <td>14 Aug 2013</td>\n",
       "      <td>5%</td>\n",
       "      <td>Apaches</td>\n",
       "      <td>0</td>\n",
       "      <td>164337.0</td>\n",
       "      <td>0</td>\n",
       "    </tr>\n",
       "    <tr>\n",
       "      <th>3</th>\n",
       "      <td>70304989</td>\n",
       "      <td>Movie</td>\n",
       "      <td>Automata</td>\n",
       "      <td>Gabe Ibáñez</td>\n",
       "      <td>Antonio Banderas, Dylan McDermott, Melanie Gri...</td>\n",
       "      <td>Bulgaria, United States, Spain, Canada</td>\n",
       "      <td>September 8, 2017</td>\n",
       "      <td>2014</td>\n",
       "      <td>R</td>\n",
       "      <td>110 min</td>\n",
       "      <td>...</td>\n",
       "      <td>In a dystopian future, an insurance adjuster f...</td>\n",
       "      <td>6.0</td>\n",
       "      <td>29.0</td>\n",
       "      <td>6 nominations.</td>\n",
       "      <td>17 Oct 2014</td>\n",
       "      <td>6%</td>\n",
       "      <td>Automata</td>\n",
       "      <td>7000000</td>\n",
       "      <td>262543.0</td>\n",
       "      <td>0</td>\n",
       "    </tr>\n",
       "    <tr>\n",
       "      <th>5</th>\n",
       "      <td>70304990</td>\n",
       "      <td>Movie</td>\n",
       "      <td>Good People</td>\n",
       "      <td>Henrik Ruben Genz</td>\n",
       "      <td>James Franco, Kate Hudson, Tom Wilkinson, Omar...</td>\n",
       "      <td>United States, United Kingdom, Denmark, Sweden</td>\n",
       "      <td>September 8, 2017</td>\n",
       "      <td>2014</td>\n",
       "      <td>R</td>\n",
       "      <td>90 min</td>\n",
       "      <td>...</td>\n",
       "      <td>A struggling couple can't believe their luck w...</td>\n",
       "      <td>5.0</td>\n",
       "      <td>12.0</td>\n",
       "      <td>NaN</td>\n",
       "      <td>21 Aug 2015</td>\n",
       "      <td>5%</td>\n",
       "      <td>Good People</td>\n",
       "      <td>0</td>\n",
       "      <td>262338.0</td>\n",
       "      <td>0</td>\n",
       "    </tr>\n",
       "    <tr>\n",
       "      <th>6</th>\n",
       "      <td>80169755</td>\n",
       "      <td>Movie</td>\n",
       "      <td>Joaquín Reyes: Una y no más</td>\n",
       "      <td>José Miguel Contreras</td>\n",
       "      <td>Joaquín Reyes</td>\n",
       "      <td>Country Not Available</td>\n",
       "      <td>September 8, 2017</td>\n",
       "      <td>2017</td>\n",
       "      <td>TV-MA</td>\n",
       "      <td>78 min</td>\n",
       "      <td>...</td>\n",
       "      <td>Comedian and celebrity impersonator Joaquín Re...</td>\n",
       "      <td>0.0</td>\n",
       "      <td>0.0</td>\n",
       "      <td>NaN</td>\n",
       "      <td>NaN</td>\n",
       "      <td>NaN</td>\n",
       "      <td>Joaquín Reyes: Una y no más</td>\n",
       "      <td>0</td>\n",
       "      <td>474599.0</td>\n",
       "      <td>0</td>\n",
       "    </tr>\n",
       "    <tr>\n",
       "      <th>7</th>\n",
       "      <td>70299204</td>\n",
       "      <td>Movie</td>\n",
       "      <td>Kidnapping Mr. Heineken</td>\n",
       "      <td>Daniel Alfredson</td>\n",
       "      <td>Jim Sturgess, Sam Worthington, Ryan Kwanten, A...</td>\n",
       "      <td>Netherlands, Belgium, United Kingdom, United S...</td>\n",
       "      <td>September 8, 2017</td>\n",
       "      <td>2015</td>\n",
       "      <td>R</td>\n",
       "      <td>95 min</td>\n",
       "      <td>...</td>\n",
       "      <td>When beer magnate Alfred \"Freddy\" Heineken is ...</td>\n",
       "      <td>6.0</td>\n",
       "      <td>19.0</td>\n",
       "      <td>NaN</td>\n",
       "      <td>06 Mar 2015</td>\n",
       "      <td>6%</td>\n",
       "      <td>Kidnapping Mr. Heineken</td>\n",
       "      <td>0</td>\n",
       "      <td>228968.0</td>\n",
       "      <td>2633527</td>\n",
       "    </tr>\n",
       "    <tr>\n",
       "      <th>...</th>\n",
       "      <td>...</td>\n",
       "      <td>...</td>\n",
       "      <td>...</td>\n",
       "      <td>...</td>\n",
       "      <td>...</td>\n",
       "      <td>...</td>\n",
       "      <td>...</td>\n",
       "      <td>...</td>\n",
       "      <td>...</td>\n",
       "      <td>...</td>\n",
       "      <td>...</td>\n",
       "      <td>...</td>\n",
       "      <td>...</td>\n",
       "      <td>...</td>\n",
       "      <td>...</td>\n",
       "      <td>...</td>\n",
       "      <td>...</td>\n",
       "      <td>...</td>\n",
       "      <td>...</td>\n",
       "      <td>...</td>\n",
       "      <td>...</td>\n",
       "    </tr>\n",
       "    <tr>\n",
       "      <th>4816</th>\n",
       "      <td>70227189</td>\n",
       "      <td>TV Show</td>\n",
       "      <td>Lost Girl</td>\n",
       "      <td>Director Not Available</td>\n",
       "      <td>Anna Silk, Kris Holden-Ried, Ksenia Solo, Rich...</td>\n",
       "      <td>Canada</td>\n",
       "      <td>April 17, 2016</td>\n",
       "      <td>2015</td>\n",
       "      <td>TV-14</td>\n",
       "      <td>5 Seasons</td>\n",
       "      <td>...</td>\n",
       "      <td>Discovering she's a succubus who sustains hers...</td>\n",
       "      <td>7.0</td>\n",
       "      <td>0.0</td>\n",
       "      <td>2 wins &amp; 13 nominations.</td>\n",
       "      <td>12 Sep 2010</td>\n",
       "      <td>7%</td>\n",
       "      <td>Lost Girl</td>\n",
       "      <td>0</td>\n",
       "      <td>240468.0</td>\n",
       "      <td>0</td>\n",
       "    </tr>\n",
       "    <tr>\n",
       "      <th>4820</th>\n",
       "      <td>70272742</td>\n",
       "      <td>TV Show</td>\n",
       "      <td>Justin Time</td>\n",
       "      <td>Director Not Available</td>\n",
       "      <td>Gage Munroe, Scott McCord, Jenna Warren</td>\n",
       "      <td>Canada</td>\n",
       "      <td>April 1, 2016</td>\n",
       "      <td>2012</td>\n",
       "      <td>TV-Y</td>\n",
       "      <td>2 Seasons</td>\n",
       "      <td>...</td>\n",
       "      <td>In Justin's dreams, he and his imaginary frien...</td>\n",
       "      <td>4.0</td>\n",
       "      <td>20.0</td>\n",
       "      <td>NaN</td>\n",
       "      <td>NaN</td>\n",
       "      <td>4%</td>\n",
       "      <td>Justin Time</td>\n",
       "      <td>0</td>\n",
       "      <td>34203.0</td>\n",
       "      <td>0</td>\n",
       "    </tr>\n",
       "    <tr>\n",
       "      <th>4822</th>\n",
       "      <td>70136122</td>\n",
       "      <td>TV Show</td>\n",
       "      <td>Weeds</td>\n",
       "      <td>Director Not Available</td>\n",
       "      <td>Mary-Louise Parker, Hunter Parrish, Alexander ...</td>\n",
       "      <td>United States</td>\n",
       "      <td>April 1, 2014</td>\n",
       "      <td>2012</td>\n",
       "      <td>TV-MA</td>\n",
       "      <td>8 Seasons</td>\n",
       "      <td>...</td>\n",
       "      <td>A suburban mother starts selling marijuana to ...</td>\n",
       "      <td>7.0</td>\n",
       "      <td>0.0</td>\n",
       "      <td>Won 1 Golden Globe. Another 14 wins &amp; 99 nomin...</td>\n",
       "      <td>07 Aug 2005</td>\n",
       "      <td>7%</td>\n",
       "      <td>Weeds</td>\n",
       "      <td>0</td>\n",
       "      <td>96333.0</td>\n",
       "      <td>0</td>\n",
       "    </tr>\n",
       "    <tr>\n",
       "      <th>4825</th>\n",
       "      <td>80005756</td>\n",
       "      <td>TV Show</td>\n",
       "      <td>The Adventures of Figaro Pho</td>\n",
       "      <td>Director Not Available</td>\n",
       "      <td>Luke Jurevicius, Craig Behenna, Charlotte Haml...</td>\n",
       "      <td>Australia</td>\n",
       "      <td>NaN</td>\n",
       "      <td>2015</td>\n",
       "      <td>TV-Y7</td>\n",
       "      <td>2 Seasons</td>\n",
       "      <td>...</td>\n",
       "      <td>Imagine your worst fears, then multiply them: ...</td>\n",
       "      <td>7.0</td>\n",
       "      <td>0.0</td>\n",
       "      <td>3 wins &amp; 2 nominations.</td>\n",
       "      <td>31 Oct 2012</td>\n",
       "      <td>7%</td>\n",
       "      <td>The Adventures of Figaro Pho</td>\n",
       "      <td>0</td>\n",
       "      <td>464127.0</td>\n",
       "      <td>0</td>\n",
       "    </tr>\n",
       "    <tr>\n",
       "      <th>4827</th>\n",
       "      <td>80005756</td>\n",
       "      <td>TV Show</td>\n",
       "      <td>The Adventures of Figaro Pho</td>\n",
       "      <td>Director Not Available</td>\n",
       "      <td>Luke Jurevicius, Craig Behenna, Charlotte Haml...</td>\n",
       "      <td>Australia</td>\n",
       "      <td>NaN</td>\n",
       "      <td>2015</td>\n",
       "      <td>TV-Y7</td>\n",
       "      <td>2 Seasons</td>\n",
       "      <td>...</td>\n",
       "      <td>Imagine your worst fears, then multiply them: ...</td>\n",
       "      <td>7.0</td>\n",
       "      <td>0.0</td>\n",
       "      <td>3 wins &amp; 2 nominations.</td>\n",
       "      <td>31 Oct 2012</td>\n",
       "      <td>7%</td>\n",
       "      <td>The Adventures of Figaro Pho</td>\n",
       "      <td>0</td>\n",
       "      <td>464127.0</td>\n",
       "      <td>0</td>\n",
       "    </tr>\n",
       "  </tbody>\n",
       "</table>\n",
       "<p>3611 rows × 21 columns</p>\n",
       "</div>"
      ],
      "text/plain": [
       "       show_id     type                         title                director  \\\n",
       "2     80163890  TV Show                       Apaches  Director Not Available   \n",
       "3     70304989    Movie                      Automata             Gabe Ibáñez   \n",
       "5     70304990    Movie                   Good People       Henrik Ruben Genz   \n",
       "6     80169755    Movie   Joaquín Reyes: Una y no más   José Miguel Contreras   \n",
       "7     70299204    Movie       Kidnapping Mr. Heineken        Daniel Alfredson   \n",
       "...        ...      ...                           ...                     ...   \n",
       "4816  70227189  TV Show                     Lost Girl  Director Not Available   \n",
       "4820  70272742  TV Show                   Justin Time  Director Not Available   \n",
       "4822  70136122  TV Show                         Weeds  Director Not Available   \n",
       "4825  80005756  TV Show  The Adventures of Figaro Pho  Director Not Available   \n",
       "4827  80005756  TV Show  The Adventures of Figaro Pho  Director Not Available   \n",
       "\n",
       "                                                   cast  \\\n",
       "2     Alberto Ammann, Eloy Azorín, Verónica Echegui,...   \n",
       "3     Antonio Banderas, Dylan McDermott, Melanie Gri...   \n",
       "5     James Franco, Kate Hudson, Tom Wilkinson, Omar...   \n",
       "6                                         Joaquín Reyes   \n",
       "7     Jim Sturgess, Sam Worthington, Ryan Kwanten, A...   \n",
       "...                                                 ...   \n",
       "4816  Anna Silk, Kris Holden-Ried, Ksenia Solo, Rich...   \n",
       "4820            Gage Munroe, Scott McCord, Jenna Warren   \n",
       "4822  Mary-Louise Parker, Hunter Parrish, Alexander ...   \n",
       "4825  Luke Jurevicius, Craig Behenna, Charlotte Haml...   \n",
       "4827  Luke Jurevicius, Craig Behenna, Charlotte Haml...   \n",
       "\n",
       "                                                country         date_added  \\\n",
       "2                                                 Spain  September 8, 2017   \n",
       "3                Bulgaria, United States, Spain, Canada  September 8, 2017   \n",
       "5        United States, United Kingdom, Denmark, Sweden  September 8, 2017   \n",
       "6                                 Country Not Available  September 8, 2017   \n",
       "7     Netherlands, Belgium, United Kingdom, United S...  September 8, 2017   \n",
       "...                                                 ...                ...   \n",
       "4816                                             Canada     April 17, 2016   \n",
       "4820                                             Canada      April 1, 2016   \n",
       "4822                                      United States      April 1, 2014   \n",
       "4825                                          Australia                NaN   \n",
       "4827                                          Australia                NaN   \n",
       "\n",
       "      Netflix release year rating   duration  ...  \\\n",
       "2                     2016  TV-MA   1 Season  ...   \n",
       "3                     2014      R    110 min  ...   \n",
       "5                     2014      R     90 min  ...   \n",
       "6                     2017  TV-MA     78 min  ...   \n",
       "7                     2015      R     95 min  ...   \n",
       "...                    ...    ...        ...  ...   \n",
       "4816                  2015  TV-14  5 Seasons  ...   \n",
       "4820                  2012   TV-Y  2 Seasons  ...   \n",
       "4822                  2012  TV-MA  8 Seasons  ...   \n",
       "4825                  2015  TV-Y7  2 Seasons  ...   \n",
       "4827                  2015  TV-Y7  2 Seasons  ...   \n",
       "\n",
       "                                            description IMDB rating  \\\n",
       "2     A young journalist is forced into a life of cr...         5.0   \n",
       "3     In a dystopian future, an insurance adjuster f...         6.0   \n",
       "5     A struggling couple can't believe their luck w...         5.0   \n",
       "6     Comedian and celebrity impersonator Joaquín Re...         0.0   \n",
       "7     When beer magnate Alfred \"Freddy\" Heineken is ...         6.0   \n",
       "...                                                 ...         ...   \n",
       "4816  Discovering she's a succubus who sustains hers...         7.0   \n",
       "4820  In Justin's dreams, he and his imaginary frien...         4.0   \n",
       "4822  A suburban mother starts selling marijuana to ...         7.0   \n",
       "4825  Imagine your worst fears, then multiply them: ...         7.0   \n",
       "4827  Imagine your worst fears, then multiply them: ...         7.0   \n",
       "\n",
       "      Rotten Tomatoes rating  \\\n",
       "2                       31.0   \n",
       "3                       29.0   \n",
       "5                       12.0   \n",
       "6                        0.0   \n",
       "7                       19.0   \n",
       "...                      ...   \n",
       "4816                     0.0   \n",
       "4820                    20.0   \n",
       "4822                     0.0   \n",
       "4825                     0.0   \n",
       "4827                     0.0   \n",
       "\n",
       "                                                  Award Released Date  \\\n",
       "2                                        2 nominations.   14 Aug 2013   \n",
       "3                                        6 nominations.   17 Oct 2014   \n",
       "5                                                   NaN   21 Aug 2015   \n",
       "6                                                   NaN           NaN   \n",
       "7                                                   NaN   06 Mar 2015   \n",
       "...                                                 ...           ...   \n",
       "4816                           2 wins & 13 nominations.   12 Sep 2010   \n",
       "4820                                                NaN           NaN   \n",
       "4822  Won 1 Golden Globe. Another 14 wins & 99 nomin...   07 Aug 2005   \n",
       "4825                            3 wins & 2 nominations.   31 Oct 2012   \n",
       "4827                            3 wins & 2 nominations.   31 Oct 2012   \n",
       "\n",
       "     IMDB rating group                         Title   Budget  Movie ID  \\\n",
       "2                   5%                       Apaches        0  164337.0   \n",
       "3                   6%                      Automata  7000000  262543.0   \n",
       "5                   5%                   Good People        0  262338.0   \n",
       "6                  NaN   Joaquín Reyes: Una y no más        0  474599.0   \n",
       "7                   6%       Kidnapping Mr. Heineken        0  228968.0   \n",
       "...                ...                           ...      ...       ...   \n",
       "4816                7%                     Lost Girl        0  240468.0   \n",
       "4820                4%                   Justin Time        0   34203.0   \n",
       "4822                7%                         Weeds        0   96333.0   \n",
       "4825                7%  The Adventures of Figaro Pho        0  464127.0   \n",
       "4827                7%  The Adventures of Figaro Pho        0  464127.0   \n",
       "\n",
       "      Revenue  \n",
       "2           0  \n",
       "3           0  \n",
       "5           0  \n",
       "6           0  \n",
       "7     2633527  \n",
       "...       ...  \n",
       "4816        0  \n",
       "4820        0  \n",
       "4822        0  \n",
       "4825        0  \n",
       "4827        0  \n",
       "\n",
       "[3611 rows x 21 columns]"
      ]
     },
     "execution_count": 124,
     "metadata": {},
     "output_type": "execute_result"
    }
   ],
   "source": [
    "netflix_titles2"
   ]
  },
  {
   "cell_type": "code",
   "execution_count": 125,
   "metadata": {},
   "outputs": [],
   "source": [
    "netflix_titles_countries = pd.DataFrame ({\"Titles\": netflix_titles[\"show_id\"],\n",
    "                                          \"Country\": netflix_titles[\"country\"]}) \n",
    "netflix_titles_listed_in = pd.DataFrame ({\"Titles\": netflix_titles[\"show_id\"],\n",
    "                                          \"ListedIn\": netflix_titles[\"listed_in\"]})\n",
    "netflix_titles_directors = pd.DataFrame ({\"Titles\": netflix_titles[\"show_id\"],\n",
    "                                          \"Director\": netflix_titles[\"director\"]})\n",
    "netflix_titles_casts = pd.DataFrame ({\"Titles\": netflix_titles[\"show_id\"],\n",
    "                                          \"Cast\": netflix_titles[\"cast\"]})"
   ]
  },
  {
   "cell_type": "code",
   "execution_count": 126,
   "metadata": {},
   "outputs": [],
   "source": [
    "netflix_titles_countries.Country = netflix_titles_countries.Country.str.split(', ')\n",
    "netflix_titles_listed_in.ListedIn = netflix_titles_listed_in.ListedIn.str.split(', ')\n",
    "netflix_titles_directors.Director = netflix_titles_directors.Director.str.split(', ')\n",
    "netflix_titles_casts.Cast = netflix_titles_casts.Cast.str.split(', ')"
   ]
  },
  {
   "cell_type": "code",
   "execution_count": 127,
   "metadata": {},
   "outputs": [],
   "source": [
    "netflix_titles_countries = netflix_titles_countries.explode('Country').reset_index(drop=True)\n",
    "netflix_titles_listed_in = netflix_titles_listed_in.explode('ListedIn').reset_index(drop=True)\n",
    "netflix_titles_directors = netflix_titles_directors.explode('Director').reset_index(drop=True)\n",
    "netflix_titles_casts = netflix_titles_casts.explode('Cast').reset_index(drop=True)"
   ]
  },
  {
   "cell_type": "code",
   "execution_count": 131,
   "metadata": {},
   "outputs": [
    {
     "data": {
      "text/html": [
       "<div>\n",
       "<style scoped>\n",
       "    .dataframe tbody tr th:only-of-type {\n",
       "        vertical-align: middle;\n",
       "    }\n",
       "\n",
       "    .dataframe tbody tr th {\n",
       "        vertical-align: top;\n",
       "    }\n",
       "\n",
       "    .dataframe thead th {\n",
       "        text-align: right;\n",
       "    }\n",
       "</style>\n",
       "<table border=\"1\" class=\"dataframe\">\n",
       "  <thead>\n",
       "    <tr style=\"text-align: right;\">\n",
       "      <th></th>\n",
       "      <th>Titles</th>\n",
       "      <th>Country</th>\n",
       "    </tr>\n",
       "  </thead>\n",
       "  <tbody>\n",
       "    <tr>\n",
       "      <th>0</th>\n",
       "      <td>80163890</td>\n",
       "      <td>Spain</td>\n",
       "    </tr>\n",
       "    <tr>\n",
       "      <th>1</th>\n",
       "      <td>70304989</td>\n",
       "      <td>Bulgaria</td>\n",
       "    </tr>\n",
       "    <tr>\n",
       "      <th>2</th>\n",
       "      <td>70304989</td>\n",
       "      <td>United States</td>\n",
       "    </tr>\n",
       "    <tr>\n",
       "      <th>3</th>\n",
       "      <td>70304989</td>\n",
       "      <td>Spain</td>\n",
       "    </tr>\n",
       "    <tr>\n",
       "      <th>4</th>\n",
       "      <td>70304989</td>\n",
       "      <td>Canada</td>\n",
       "    </tr>\n",
       "    <tr>\n",
       "      <th>5</th>\n",
       "      <td>70304990</td>\n",
       "      <td>United States</td>\n",
       "    </tr>\n",
       "    <tr>\n",
       "      <th>6</th>\n",
       "      <td>70304990</td>\n",
       "      <td>United Kingdom</td>\n",
       "    </tr>\n",
       "    <tr>\n",
       "      <th>7</th>\n",
       "      <td>70304990</td>\n",
       "      <td>Denmark</td>\n",
       "    </tr>\n",
       "    <tr>\n",
       "      <th>8</th>\n",
       "      <td>70304990</td>\n",
       "      <td>Sweden</td>\n",
       "    </tr>\n",
       "    <tr>\n",
       "      <th>9</th>\n",
       "      <td>80169755</td>\n",
       "      <td>Country Not Available</td>\n",
       "    </tr>\n",
       "    <tr>\n",
       "      <th>10</th>\n",
       "      <td>70299204</td>\n",
       "      <td>Netherlands</td>\n",
       "    </tr>\n",
       "    <tr>\n",
       "      <th>11</th>\n",
       "      <td>70299204</td>\n",
       "      <td>Belgium</td>\n",
       "    </tr>\n",
       "    <tr>\n",
       "      <th>12</th>\n",
       "      <td>70299204</td>\n",
       "      <td>United Kingdom</td>\n",
       "    </tr>\n",
       "    <tr>\n",
       "      <th>13</th>\n",
       "      <td>70299204</td>\n",
       "      <td>United States</td>\n",
       "    </tr>\n",
       "    <tr>\n",
       "      <th>14</th>\n",
       "      <td>80060297</td>\n",
       "      <td>United States</td>\n",
       "    </tr>\n",
       "    <tr>\n",
       "      <th>15</th>\n",
       "      <td>80046728</td>\n",
       "      <td>France</td>\n",
       "    </tr>\n",
       "    <tr>\n",
       "      <th>16</th>\n",
       "      <td>80046728</td>\n",
       "      <td>Belgium</td>\n",
       "    </tr>\n",
       "    <tr>\n",
       "      <th>17</th>\n",
       "      <td>80046727</td>\n",
       "      <td>United States</td>\n",
       "    </tr>\n",
       "    <tr>\n",
       "      <th>18</th>\n",
       "      <td>80046727</td>\n",
       "      <td>Uruguay</td>\n",
       "    </tr>\n",
       "    <tr>\n",
       "      <th>19</th>\n",
       "      <td>70304988</td>\n",
       "      <td>United States</td>\n",
       "    </tr>\n",
       "    <tr>\n",
       "      <th>20</th>\n",
       "      <td>80057700</td>\n",
       "      <td>United States</td>\n",
       "    </tr>\n",
       "    <tr>\n",
       "      <th>21</th>\n",
       "      <td>80045922</td>\n",
       "      <td>United States</td>\n",
       "    </tr>\n",
       "    <tr>\n",
       "      <th>22</th>\n",
       "      <td>80203094</td>\n",
       "      <td>United States,</td>\n",
       "    </tr>\n",
       "    <tr>\n",
       "      <th>23</th>\n",
       "      <td>80190843</td>\n",
       "      <td>Country Not Available</td>\n",
       "    </tr>\n",
       "    <tr>\n",
       "      <th>24</th>\n",
       "      <td>70241607</td>\n",
       "      <td>Thailand</td>\n",
       "    </tr>\n",
       "    <tr>\n",
       "      <th>25</th>\n",
       "      <td>80988892</td>\n",
       "      <td>China</td>\n",
       "    </tr>\n",
       "    <tr>\n",
       "      <th>26</th>\n",
       "      <td>80988892</td>\n",
       "      <td>Canada</td>\n",
       "    </tr>\n",
       "    <tr>\n",
       "      <th>27</th>\n",
       "      <td>80988892</td>\n",
       "      <td>United States</td>\n",
       "    </tr>\n",
       "    <tr>\n",
       "      <th>28</th>\n",
       "      <td>80159586</td>\n",
       "      <td>Belgium</td>\n",
       "    </tr>\n",
       "    <tr>\n",
       "      <th>29</th>\n",
       "      <td>80159586</td>\n",
       "      <td>United Kingdom</td>\n",
       "    </tr>\n",
       "  </tbody>\n",
       "</table>\n",
       "</div>"
      ],
      "text/plain": [
       "      Titles                Country\n",
       "0   80163890                  Spain\n",
       "1   70304989               Bulgaria\n",
       "2   70304989          United States\n",
       "3   70304989                  Spain\n",
       "4   70304989                 Canada\n",
       "5   70304990          United States\n",
       "6   70304990         United Kingdom\n",
       "7   70304990                Denmark\n",
       "8   70304990                 Sweden\n",
       "9   80169755  Country Not Available\n",
       "10  70299204            Netherlands\n",
       "11  70299204                Belgium\n",
       "12  70299204         United Kingdom\n",
       "13  70299204          United States\n",
       "14  80060297          United States\n",
       "15  80046728                 France\n",
       "16  80046728                Belgium\n",
       "17  80046727          United States\n",
       "18  80046727                Uruguay\n",
       "19  70304988          United States\n",
       "20  80057700          United States\n",
       "21  80045922          United States\n",
       "22  80203094         United States,\n",
       "23  80190843  Country Not Available\n",
       "24  70241607               Thailand\n",
       "25  80988892                  China\n",
       "26  80988892                 Canada\n",
       "27  80988892          United States\n",
       "28  80159586                Belgium\n",
       "29  80159586         United Kingdom"
      ]
     },
     "execution_count": 131,
     "metadata": {},
     "output_type": "execute_result"
    }
   ],
   "source": [
    "netflix_titles_countries.head (30)"
   ]
  },
  {
   "cell_type": "code",
   "execution_count": 132,
   "metadata": {},
   "outputs": [
    {
     "data": {
      "text/html": [
       "<div>\n",
       "<style scoped>\n",
       "    .dataframe tbody tr th:only-of-type {\n",
       "        vertical-align: middle;\n",
       "    }\n",
       "\n",
       "    .dataframe tbody tr th {\n",
       "        vertical-align: top;\n",
       "    }\n",
       "\n",
       "    .dataframe thead th {\n",
       "        text-align: right;\n",
       "    }\n",
       "</style>\n",
       "<table border=\"1\" class=\"dataframe\">\n",
       "  <thead>\n",
       "    <tr style=\"text-align: right;\">\n",
       "      <th></th>\n",
       "      <th>Titles</th>\n",
       "      <th>ListedIn</th>\n",
       "    </tr>\n",
       "  </thead>\n",
       "  <tbody>\n",
       "    <tr>\n",
       "      <th>0</th>\n",
       "      <td>80163890</td>\n",
       "      <td>Crime TV Shows</td>\n",
       "    </tr>\n",
       "    <tr>\n",
       "      <th>1</th>\n",
       "      <td>80163890</td>\n",
       "      <td>International TV Shows</td>\n",
       "    </tr>\n",
       "    <tr>\n",
       "      <th>2</th>\n",
       "      <td>80163890</td>\n",
       "      <td>Spanish-Language TV Shows</td>\n",
       "    </tr>\n",
       "    <tr>\n",
       "      <th>3</th>\n",
       "      <td>70304989</td>\n",
       "      <td>International Movies</td>\n",
       "    </tr>\n",
       "    <tr>\n",
       "      <th>4</th>\n",
       "      <td>70304989</td>\n",
       "      <td>Sci-Fi &amp; Fantasy</td>\n",
       "    </tr>\n",
       "    <tr>\n",
       "      <th>5</th>\n",
       "      <td>70304989</td>\n",
       "      <td>Thrillers</td>\n",
       "    </tr>\n",
       "    <tr>\n",
       "      <th>6</th>\n",
       "      <td>70304990</td>\n",
       "      <td>Action &amp; Adventure</td>\n",
       "    </tr>\n",
       "    <tr>\n",
       "      <th>7</th>\n",
       "      <td>70304990</td>\n",
       "      <td>Thrillers</td>\n",
       "    </tr>\n",
       "    <tr>\n",
       "      <th>8</th>\n",
       "      <td>80169755</td>\n",
       "      <td>Stand-Up Comedy</td>\n",
       "    </tr>\n",
       "    <tr>\n",
       "      <th>9</th>\n",
       "      <td>70299204</td>\n",
       "      <td>Action &amp; Adventure</td>\n",
       "    </tr>\n",
       "    <tr>\n",
       "      <th>10</th>\n",
       "      <td>70299204</td>\n",
       "      <td>Dramas</td>\n",
       "    </tr>\n",
       "    <tr>\n",
       "      <th>11</th>\n",
       "      <td>70299204</td>\n",
       "      <td>International Movies</td>\n",
       "    </tr>\n",
       "    <tr>\n",
       "      <th>12</th>\n",
       "      <td>80060297</td>\n",
       "      <td>Comedies</td>\n",
       "    </tr>\n",
       "    <tr>\n",
       "      <th>13</th>\n",
       "      <td>80060297</td>\n",
       "      <td>Independent Movies</td>\n",
       "    </tr>\n",
       "    <tr>\n",
       "      <th>14</th>\n",
       "      <td>80060297</td>\n",
       "      <td>Romantic Movies</td>\n",
       "    </tr>\n",
       "    <tr>\n",
       "      <th>15</th>\n",
       "      <td>80046728</td>\n",
       "      <td>Action &amp; Adventure</td>\n",
       "    </tr>\n",
       "    <tr>\n",
       "      <th>16</th>\n",
       "      <td>80046728</td>\n",
       "      <td>Comedies</td>\n",
       "    </tr>\n",
       "    <tr>\n",
       "      <th>17</th>\n",
       "      <td>80046728</td>\n",
       "      <td>International Movies</td>\n",
       "    </tr>\n",
       "    <tr>\n",
       "      <th>18</th>\n",
       "      <td>80046727</td>\n",
       "      <td>Documentaries</td>\n",
       "    </tr>\n",
       "    <tr>\n",
       "      <th>19</th>\n",
       "      <td>70304988</td>\n",
       "      <td>Horror Movies</td>\n",
       "    </tr>\n",
       "    <tr>\n",
       "      <th>20</th>\n",
       "      <td>70304988</td>\n",
       "      <td>Thrillers</td>\n",
       "    </tr>\n",
       "    <tr>\n",
       "      <th>21</th>\n",
       "      <td>80057700</td>\n",
       "      <td>Dramas</td>\n",
       "    </tr>\n",
       "    <tr>\n",
       "      <th>22</th>\n",
       "      <td>80057700</td>\n",
       "      <td>Independent Movies</td>\n",
       "    </tr>\n",
       "    <tr>\n",
       "      <th>23</th>\n",
       "      <td>80045922</td>\n",
       "      <td>Dramas</td>\n",
       "    </tr>\n",
       "    <tr>\n",
       "      <th>24</th>\n",
       "      <td>80045922</td>\n",
       "      <td>Independent Movies</td>\n",
       "    </tr>\n",
       "    <tr>\n",
       "      <th>25</th>\n",
       "      <td>80045922</td>\n",
       "      <td>Romantic Movies</td>\n",
       "    </tr>\n",
       "    <tr>\n",
       "      <th>26</th>\n",
       "      <td>80203094</td>\n",
       "      <td>Documentaries</td>\n",
       "    </tr>\n",
       "    <tr>\n",
       "      <th>27</th>\n",
       "      <td>80190843</td>\n",
       "      <td>Docuseries</td>\n",
       "    </tr>\n",
       "    <tr>\n",
       "      <th>28</th>\n",
       "      <td>70241607</td>\n",
       "      <td>Horror Movies</td>\n",
       "    </tr>\n",
       "    <tr>\n",
       "      <th>29</th>\n",
       "      <td>70241607</td>\n",
       "      <td>International Movies</td>\n",
       "    </tr>\n",
       "  </tbody>\n",
       "</table>\n",
       "</div>"
      ],
      "text/plain": [
       "      Titles                   ListedIn\n",
       "0   80163890             Crime TV Shows\n",
       "1   80163890     International TV Shows\n",
       "2   80163890  Spanish-Language TV Shows\n",
       "3   70304989       International Movies\n",
       "4   70304989           Sci-Fi & Fantasy\n",
       "5   70304989                  Thrillers\n",
       "6   70304990         Action & Adventure\n",
       "7   70304990                  Thrillers\n",
       "8   80169755            Stand-Up Comedy\n",
       "9   70299204         Action & Adventure\n",
       "10  70299204                     Dramas\n",
       "11  70299204       International Movies\n",
       "12  80060297                   Comedies\n",
       "13  80060297         Independent Movies\n",
       "14  80060297            Romantic Movies\n",
       "15  80046728         Action & Adventure\n",
       "16  80046728                   Comedies\n",
       "17  80046728       International Movies\n",
       "18  80046727              Documentaries\n",
       "19  70304988              Horror Movies\n",
       "20  70304988                  Thrillers\n",
       "21  80057700                     Dramas\n",
       "22  80057700         Independent Movies\n",
       "23  80045922                     Dramas\n",
       "24  80045922         Independent Movies\n",
       "25  80045922            Romantic Movies\n",
       "26  80203094              Documentaries\n",
       "27  80190843                 Docuseries\n",
       "28  70241607              Horror Movies\n",
       "29  70241607       International Movies"
      ]
     },
     "execution_count": 132,
     "metadata": {},
     "output_type": "execute_result"
    }
   ],
   "source": [
    "netflix_titles_listed_in.head (30)"
   ]
  },
  {
   "cell_type": "code",
   "execution_count": 133,
   "metadata": {},
   "outputs": [
    {
     "data": {
      "text/html": [
       "<div>\n",
       "<style scoped>\n",
       "    .dataframe tbody tr th:only-of-type {\n",
       "        vertical-align: middle;\n",
       "    }\n",
       "\n",
       "    .dataframe tbody tr th {\n",
       "        vertical-align: top;\n",
       "    }\n",
       "\n",
       "    .dataframe thead th {\n",
       "        text-align: right;\n",
       "    }\n",
       "</style>\n",
       "<table border=\"1\" class=\"dataframe\">\n",
       "  <thead>\n",
       "    <tr style=\"text-align: right;\">\n",
       "      <th></th>\n",
       "      <th>Titles</th>\n",
       "      <th>Director</th>\n",
       "    </tr>\n",
       "  </thead>\n",
       "  <tbody>\n",
       "    <tr>\n",
       "      <th>0</th>\n",
       "      <td>80163890</td>\n",
       "      <td>Director Not Available</td>\n",
       "    </tr>\n",
       "    <tr>\n",
       "      <th>1</th>\n",
       "      <td>70304989</td>\n",
       "      <td>Gabe Ibáñez</td>\n",
       "    </tr>\n",
       "    <tr>\n",
       "      <th>2</th>\n",
       "      <td>70304990</td>\n",
       "      <td>Henrik Ruben Genz</td>\n",
       "    </tr>\n",
       "    <tr>\n",
       "      <th>3</th>\n",
       "      <td>80169755</td>\n",
       "      <td>José Miguel Contreras</td>\n",
       "    </tr>\n",
       "    <tr>\n",
       "      <th>4</th>\n",
       "      <td>70299204</td>\n",
       "      <td>Daniel Alfredson</td>\n",
       "    </tr>\n",
       "    <tr>\n",
       "      <th>5</th>\n",
       "      <td>80060297</td>\n",
       "      <td>Tom O'Brien</td>\n",
       "    </tr>\n",
       "    <tr>\n",
       "      <th>6</th>\n",
       "      <td>80046728</td>\n",
       "      <td>Antoine Bardou-Jacquet</td>\n",
       "    </tr>\n",
       "    <tr>\n",
       "      <th>7</th>\n",
       "      <td>80046727</td>\n",
       "      <td>Mitch Dickman</td>\n",
       "    </tr>\n",
       "    <tr>\n",
       "      <th>8</th>\n",
       "      <td>70304988</td>\n",
       "      <td>Brad Anderson</td>\n",
       "    </tr>\n",
       "    <tr>\n",
       "      <th>9</th>\n",
       "      <td>80057700</td>\n",
       "      <td>Austin Stark</td>\n",
       "    </tr>\n",
       "    <tr>\n",
       "      <th>10</th>\n",
       "      <td>80045922</td>\n",
       "      <td>Hannah Fidell</td>\n",
       "    </tr>\n",
       "    <tr>\n",
       "      <th>11</th>\n",
       "      <td>80203094</td>\n",
       "      <td>Madeleine Gavin</td>\n",
       "    </tr>\n",
       "    <tr>\n",
       "      <th>12</th>\n",
       "      <td>80190843</td>\n",
       "      <td>Director Not Available</td>\n",
       "    </tr>\n",
       "    <tr>\n",
       "      <th>13</th>\n",
       "      <td>70241607</td>\n",
       "      <td>Sopon Sukdapisit</td>\n",
       "    </tr>\n",
       "    <tr>\n",
       "      <th>14</th>\n",
       "      <td>80988892</td>\n",
       "      <td>Kevin R. Adams</td>\n",
       "    </tr>\n",
       "    <tr>\n",
       "      <th>15</th>\n",
       "      <td>80988892</td>\n",
       "      <td>Joe Ksander</td>\n",
       "    </tr>\n",
       "    <tr>\n",
       "      <th>16</th>\n",
       "      <td>80159586</td>\n",
       "      <td>Franck Ribière</td>\n",
       "    </tr>\n",
       "    <tr>\n",
       "      <th>17</th>\n",
       "      <td>81154455</td>\n",
       "      <td>Anubhav Sinha</td>\n",
       "    </tr>\n",
       "    <tr>\n",
       "      <th>18</th>\n",
       "      <td>81052275</td>\n",
       "      <td>Tharun Bhascker</td>\n",
       "    </tr>\n",
       "    <tr>\n",
       "      <th>19</th>\n",
       "      <td>80162141</td>\n",
       "      <td>Robert Osman</td>\n",
       "    </tr>\n",
       "    <tr>\n",
       "      <th>20</th>\n",
       "      <td>80162141</td>\n",
       "      <td>Nathanael Wiseman</td>\n",
       "    </tr>\n",
       "    <tr>\n",
       "      <th>21</th>\n",
       "      <td>80095641</td>\n",
       "      <td>Jon Spira</td>\n",
       "    </tr>\n",
       "    <tr>\n",
       "      <th>22</th>\n",
       "      <td>80159880</td>\n",
       "      <td>Mez Tharatorn</td>\n",
       "    </tr>\n",
       "    <tr>\n",
       "      <th>23</th>\n",
       "      <td>81016045</td>\n",
       "      <td>Banjong Pisanthanakun</td>\n",
       "    </tr>\n",
       "    <tr>\n",
       "      <th>24</th>\n",
       "      <td>81016045</td>\n",
       "      <td>Banjong Pisanthanakun</td>\n",
       "    </tr>\n",
       "    <tr>\n",
       "      <th>25</th>\n",
       "      <td>70184051</td>\n",
       "      <td>Lone Scherfig</td>\n",
       "    </tr>\n",
       "    <tr>\n",
       "      <th>26</th>\n",
       "      <td>70184051</td>\n",
       "      <td>Lone Scherfig</td>\n",
       "    </tr>\n",
       "    <tr>\n",
       "      <th>27</th>\n",
       "      <td>70142798</td>\n",
       "      <td>Banjong Pisanthanakun</td>\n",
       "    </tr>\n",
       "    <tr>\n",
       "      <th>28</th>\n",
       "      <td>70142798</td>\n",
       "      <td>Paween Purikitpanya</td>\n",
       "    </tr>\n",
       "    <tr>\n",
       "      <th>29</th>\n",
       "      <td>70142798</td>\n",
       "      <td>Songyos Sugmakanan</td>\n",
       "    </tr>\n",
       "  </tbody>\n",
       "</table>\n",
       "</div>"
      ],
      "text/plain": [
       "      Titles                Director\n",
       "0   80163890  Director Not Available\n",
       "1   70304989             Gabe Ibáñez\n",
       "2   70304990       Henrik Ruben Genz\n",
       "3   80169755   José Miguel Contreras\n",
       "4   70299204        Daniel Alfredson\n",
       "5   80060297             Tom O'Brien\n",
       "6   80046728  Antoine Bardou-Jacquet\n",
       "7   80046727           Mitch Dickman\n",
       "8   70304988           Brad Anderson\n",
       "9   80057700            Austin Stark\n",
       "10  80045922           Hannah Fidell\n",
       "11  80203094         Madeleine Gavin\n",
       "12  80190843  Director Not Available\n",
       "13  70241607        Sopon Sukdapisit\n",
       "14  80988892          Kevin R. Adams\n",
       "15  80988892             Joe Ksander\n",
       "16  80159586          Franck Ribière\n",
       "17  81154455           Anubhav Sinha\n",
       "18  81052275         Tharun Bhascker\n",
       "19  80162141            Robert Osman\n",
       "20  80162141       Nathanael Wiseman\n",
       "21  80095641               Jon Spira\n",
       "22  80159880           Mez Tharatorn\n",
       "23  81016045   Banjong Pisanthanakun\n",
       "24  81016045   Banjong Pisanthanakun\n",
       "25  70184051           Lone Scherfig\n",
       "26  70184051           Lone Scherfig\n",
       "27  70142798   Banjong Pisanthanakun\n",
       "28  70142798     Paween Purikitpanya\n",
       "29  70142798      Songyos Sugmakanan"
      ]
     },
     "execution_count": 133,
     "metadata": {},
     "output_type": "execute_result"
    }
   ],
   "source": [
    "netflix_titles_directors.head(30)"
   ]
  },
  {
   "cell_type": "code",
   "execution_count": 134,
   "metadata": {},
   "outputs": [
    {
     "data": {
      "text/html": [
       "<div>\n",
       "<style scoped>\n",
       "    .dataframe tbody tr th:only-of-type {\n",
       "        vertical-align: middle;\n",
       "    }\n",
       "\n",
       "    .dataframe tbody tr th {\n",
       "        vertical-align: top;\n",
       "    }\n",
       "\n",
       "    .dataframe thead th {\n",
       "        text-align: right;\n",
       "    }\n",
       "</style>\n",
       "<table border=\"1\" class=\"dataframe\">\n",
       "  <thead>\n",
       "    <tr style=\"text-align: right;\">\n",
       "      <th></th>\n",
       "      <th>Titles</th>\n",
       "      <th>Cast</th>\n",
       "    </tr>\n",
       "  </thead>\n",
       "  <tbody>\n",
       "    <tr>\n",
       "      <th>0</th>\n",
       "      <td>80163890</td>\n",
       "      <td>Alberto Ammann</td>\n",
       "    </tr>\n",
       "    <tr>\n",
       "      <th>1</th>\n",
       "      <td>80163890</td>\n",
       "      <td>Eloy Azorín</td>\n",
       "    </tr>\n",
       "    <tr>\n",
       "      <th>2</th>\n",
       "      <td>80163890</td>\n",
       "      <td>Verónica Echegui</td>\n",
       "    </tr>\n",
       "    <tr>\n",
       "      <th>3</th>\n",
       "      <td>80163890</td>\n",
       "      <td>Lucía Jiménez</td>\n",
       "    </tr>\n",
       "    <tr>\n",
       "      <th>4</th>\n",
       "      <td>80163890</td>\n",
       "      <td>Claudia Traisac</td>\n",
       "    </tr>\n",
       "    <tr>\n",
       "      <th>5</th>\n",
       "      <td>70304989</td>\n",
       "      <td>Antonio Banderas</td>\n",
       "    </tr>\n",
       "    <tr>\n",
       "      <th>6</th>\n",
       "      <td>70304989</td>\n",
       "      <td>Dylan McDermott</td>\n",
       "    </tr>\n",
       "    <tr>\n",
       "      <th>7</th>\n",
       "      <td>70304989</td>\n",
       "      <td>Melanie Griffith</td>\n",
       "    </tr>\n",
       "    <tr>\n",
       "      <th>8</th>\n",
       "      <td>70304989</td>\n",
       "      <td>Birgitte Hjort Sørensen</td>\n",
       "    </tr>\n",
       "    <tr>\n",
       "      <th>9</th>\n",
       "      <td>70304989</td>\n",
       "      <td>Robert Forster</td>\n",
       "    </tr>\n",
       "    <tr>\n",
       "      <th>10</th>\n",
       "      <td>70304989</td>\n",
       "      <td>Christa Campbell</td>\n",
       "    </tr>\n",
       "    <tr>\n",
       "      <th>11</th>\n",
       "      <td>70304989</td>\n",
       "      <td>Tim McInnerny</td>\n",
       "    </tr>\n",
       "    <tr>\n",
       "      <th>12</th>\n",
       "      <td>70304989</td>\n",
       "      <td>Andy Nyman</td>\n",
       "    </tr>\n",
       "    <tr>\n",
       "      <th>13</th>\n",
       "      <td>70304989</td>\n",
       "      <td>David Ryall</td>\n",
       "    </tr>\n",
       "    <tr>\n",
       "      <th>14</th>\n",
       "      <td>70304990</td>\n",
       "      <td>James Franco</td>\n",
       "    </tr>\n",
       "    <tr>\n",
       "      <th>15</th>\n",
       "      <td>70304990</td>\n",
       "      <td>Kate Hudson</td>\n",
       "    </tr>\n",
       "    <tr>\n",
       "      <th>16</th>\n",
       "      <td>70304990</td>\n",
       "      <td>Tom Wilkinson</td>\n",
       "    </tr>\n",
       "    <tr>\n",
       "      <th>17</th>\n",
       "      <td>70304990</td>\n",
       "      <td>Omar Sy</td>\n",
       "    </tr>\n",
       "    <tr>\n",
       "      <th>18</th>\n",
       "      <td>70304990</td>\n",
       "      <td>Sam Spruell</td>\n",
       "    </tr>\n",
       "    <tr>\n",
       "      <th>19</th>\n",
       "      <td>70304990</td>\n",
       "      <td>Anna Friel</td>\n",
       "    </tr>\n",
       "    <tr>\n",
       "      <th>20</th>\n",
       "      <td>70304990</td>\n",
       "      <td>Thomas Arnold</td>\n",
       "    </tr>\n",
       "    <tr>\n",
       "      <th>21</th>\n",
       "      <td>70304990</td>\n",
       "      <td>Oliver Dimsdale</td>\n",
       "    </tr>\n",
       "    <tr>\n",
       "      <th>22</th>\n",
       "      <td>70304990</td>\n",
       "      <td>Diana Hardcastle</td>\n",
       "    </tr>\n",
       "    <tr>\n",
       "      <th>23</th>\n",
       "      <td>70304990</td>\n",
       "      <td>Michael Jibson</td>\n",
       "    </tr>\n",
       "    <tr>\n",
       "      <th>24</th>\n",
       "      <td>70304990</td>\n",
       "      <td>Diarmaid Murtagh</td>\n",
       "    </tr>\n",
       "    <tr>\n",
       "      <th>25</th>\n",
       "      <td>80169755</td>\n",
       "      <td>Joaquín Reyes</td>\n",
       "    </tr>\n",
       "    <tr>\n",
       "      <th>26</th>\n",
       "      <td>70299204</td>\n",
       "      <td>Jim Sturgess</td>\n",
       "    </tr>\n",
       "    <tr>\n",
       "      <th>27</th>\n",
       "      <td>70299204</td>\n",
       "      <td>Sam Worthington</td>\n",
       "    </tr>\n",
       "    <tr>\n",
       "      <th>28</th>\n",
       "      <td>70299204</td>\n",
       "      <td>Ryan Kwanten</td>\n",
       "    </tr>\n",
       "    <tr>\n",
       "      <th>29</th>\n",
       "      <td>70299204</td>\n",
       "      <td>Anthony Hopkins</td>\n",
       "    </tr>\n",
       "  </tbody>\n",
       "</table>\n",
       "</div>"
      ],
      "text/plain": [
       "      Titles                     Cast\n",
       "0   80163890           Alberto Ammann\n",
       "1   80163890              Eloy Azorín\n",
       "2   80163890         Verónica Echegui\n",
       "3   80163890            Lucía Jiménez\n",
       "4   80163890          Claudia Traisac\n",
       "5   70304989         Antonio Banderas\n",
       "6   70304989          Dylan McDermott\n",
       "7   70304989         Melanie Griffith\n",
       "8   70304989  Birgitte Hjort Sørensen\n",
       "9   70304989           Robert Forster\n",
       "10  70304989         Christa Campbell\n",
       "11  70304989            Tim McInnerny\n",
       "12  70304989               Andy Nyman\n",
       "13  70304989              David Ryall\n",
       "14  70304990             James Franco\n",
       "15  70304990              Kate Hudson\n",
       "16  70304990            Tom Wilkinson\n",
       "17  70304990                  Omar Sy\n",
       "18  70304990              Sam Spruell\n",
       "19  70304990               Anna Friel\n",
       "20  70304990            Thomas Arnold\n",
       "21  70304990          Oliver Dimsdale\n",
       "22  70304990         Diana Hardcastle\n",
       "23  70304990           Michael Jibson\n",
       "24  70304990         Diarmaid Murtagh\n",
       "25  80169755            Joaquín Reyes\n",
       "26  70299204             Jim Sturgess\n",
       "27  70299204          Sam Worthington\n",
       "28  70299204             Ryan Kwanten\n",
       "29  70299204          Anthony Hopkins"
      ]
     },
     "execution_count": 134,
     "metadata": {},
     "output_type": "execute_result"
    }
   ],
   "source": [
    "netflix_titles_casts.head(30)"
   ]
  },
  {
   "cell_type": "code",
   "execution_count": 135,
   "metadata": {},
   "outputs": [
    {
     "data": {
      "text/html": [
       "<div>\n",
       "<style scoped>\n",
       "    .dataframe tbody tr th:only-of-type {\n",
       "        vertical-align: middle;\n",
       "    }\n",
       "\n",
       "    .dataframe tbody tr th {\n",
       "        vertical-align: top;\n",
       "    }\n",
       "\n",
       "    .dataframe thead th {\n",
       "        text-align: right;\n",
       "    }\n",
       "</style>\n",
       "<table border=\"1\" class=\"dataframe\">\n",
       "  <thead>\n",
       "    <tr style=\"text-align: right;\">\n",
       "      <th></th>\n",
       "      <th>country</th>\n",
       "      <th>latitude</th>\n",
       "      <th>longitude</th>\n",
       "      <th>name</th>\n",
       "    </tr>\n",
       "  </thead>\n",
       "  <tbody>\n",
       "    <tr>\n",
       "      <th>0</th>\n",
       "      <td>AD</td>\n",
       "      <td>42.546245</td>\n",
       "      <td>1.601554</td>\n",
       "      <td>Andorra</td>\n",
       "    </tr>\n",
       "    <tr>\n",
       "      <th>1</th>\n",
       "      <td>AE</td>\n",
       "      <td>23.424076</td>\n",
       "      <td>53.847818</td>\n",
       "      <td>United Arab Emirates</td>\n",
       "    </tr>\n",
       "    <tr>\n",
       "      <th>2</th>\n",
       "      <td>AF</td>\n",
       "      <td>33.939110</td>\n",
       "      <td>67.709953</td>\n",
       "      <td>Afghanistan</td>\n",
       "    </tr>\n",
       "    <tr>\n",
       "      <th>3</th>\n",
       "      <td>AG</td>\n",
       "      <td>17.060816</td>\n",
       "      <td>-61.796428</td>\n",
       "      <td>Antigua and Barbuda</td>\n",
       "    </tr>\n",
       "    <tr>\n",
       "      <th>4</th>\n",
       "      <td>AI</td>\n",
       "      <td>18.220554</td>\n",
       "      <td>-63.068615</td>\n",
       "      <td>Anguilla</td>\n",
       "    </tr>\n",
       "  </tbody>\n",
       "</table>\n",
       "</div>"
      ],
      "text/plain": [
       "  country   latitude  longitude                  name\n",
       "0      AD  42.546245   1.601554               Andorra\n",
       "1      AE  23.424076  53.847818  United Arab Emirates\n",
       "2      AF  33.939110  67.709953           Afghanistan\n",
       "3      AG  17.060816 -61.796428   Antigua and Barbuda\n",
       "4      AI  18.220554 -63.068615              Anguilla"
      ]
     },
     "execution_count": 135,
     "metadata": {},
     "output_type": "execute_result"
    }
   ],
   "source": [
    "Countries_path = 'data\\countries.csv'\n",
    "lats, lons = [], []\n",
    "\n",
    "Countries = pd.read_csv(Countries_path)\n",
    "lats = [float(i) for i in Countries.latitude.tolist()]\n",
    "lons = [float(i) for i in Countries.longitude.tolist()]\n",
    "Countries.head()"
   ]
  },
  {
   "cell_type": "code",
   "execution_count": 136,
   "metadata": {},
   "outputs": [],
   "source": [
    "netflix_titles_countries_count = netflix_titles_countries.groupby(\"Country\").count()\n",
    "\n",
    "netflix_titles_countries_count.head()\n",
    "netflix_titles_countries_count_merged_position = netflix_titles_countries_count.merge (Countries, left_on='Country', right_on='name')\n",
    "netflix_titles_countries_count_merged_names = netflix_titles_countries_count_merged_position.name.tolist()"
   ]
  },
  {
   "cell_type": "code",
   "execution_count": 138,
   "metadata": {},
   "outputs": [],
   "source": [
    "m = interp1d ([1,max(list1)],[1,20])\n",
    "circle_radius = m(list1)\n",
    "\"\"\"\n",
    "list1 = netflix_titles_countries_count.Titles.tolist()\n",
    "\n",
    "list2 = []\n",
    "\n",
    "#list2 = [int(j) / max(list1[i]) for j,i in zip(list1, range(len(list1)))]\n",
    "max_value = max(list1)\n",
    "print (list1)\n",
    "#list2.remove(max_value)\n",
    "\n",
    "for i in range(len(list1)):\n",
    "    if list1[i] == max_value:\n",
    "        list1[i] = 100\n",
    "        \n",
    "        \n",
    "\n",
    "list2 = [(int(number) // 100 * 10) for number in list1]\n",
    "\n",
    "#print(max(list2))\n",
    "\"\"\"\n",
    "typelist = ['open-street-map','white-bg','carto-positron','carto-darkmatter','stamen-terrain','stamen-watercolor','satellite-streets']"
   ]
  },
  {
   "cell_type": "code",
   "execution_count": 141,
   "metadata": {},
   "outputs": [
    {
     "data": {
      "text/plain": [
       "\"for i in typelist:\\n        print (i)\\n        fig = px.density_mapbox (netflix_titles_countries_count_merged_position, lat='latitude', lon='longitude', radius=circle_radius,\\n                                zoom=1, mapbox_style=i)\\n        fig.show ()\""
      ]
     },
     "execution_count": 141,
     "metadata": {},
     "output_type": "execute_result"
    }
   ],
   "source": [
    "\"\"\"for i in typelist:\n",
    "        print (i)\n",
    "        fig = px.density_mapbox (netflix_titles_countries_count_merged_position, lat='latitude', lon='longitude', radius=circle_radius,\n",
    "                                zoom=1, mapbox_style=i)\n",
    "        fig.show ()\"\"\""
   ]
  },
  {
   "cell_type": "code",
   "execution_count": 142,
   "metadata": {},
   "outputs": [
    {
     "data": {
      "application/vnd.plotly.v1+json": {
       "config": {
        "plotlyServerURL": "https://plot.ly"
       },
       "data": [
        {
         "coloraxis": "coloraxis",
         "customdata": [
          [
           "Afghanistan",
           1
          ],
          [
           "Albania",
           1
          ],
          [
           "Argentina",
           33
          ],
          [
           "Armenia",
           1
          ],
          [
           "Australia",
           80
          ],
          [
           "Austria",
           6
          ],
          [
           "Azerbaijan",
           1
          ],
          [
           "Bangladesh",
           2
          ],
          [
           "Belgium",
           47
          ],
          [
           "Bermuda",
           1
          ],
          [
           "Botswana",
           1
          ],
          [
           "Brazil",
           34
          ],
          [
           "Bulgaria",
           7
          ],
          [
           "Cambodia",
           3
          ],
          [
           "Canada",
           199
          ],
          [
           "Cayman Islands",
           1
          ],
          [
           "Chile",
           14
          ],
          [
           "China",
           74
          ],
          [
           "Colombia",
           12
          ],
          [
           "Croatia",
           3
          ],
          [
           "Czech Republic",
           8
          ],
          [
           "Denmark",
           23
          ],
          [
           "Ecuador",
           1
          ],
          [
           "Egypt",
           21
          ],
          [
           "Finland",
           6
          ],
          [
           "France",
           159
          ],
          [
           "Georgia",
           1
          ],
          [
           "Germany",
           107
          ],
          [
           "Ghana",
           2
          ],
          [
           "Greece",
           2
          ],
          [
           "Hong Kong",
           67
          ],
          [
           "Hungary",
           4
          ],
          [
           "Iceland",
           5
          ],
          [
           "India",
           575
          ],
          [
           "Indonesia",
           30
          ],
          [
           "Iran",
           2
          ],
          [
           "Iraq",
           2
          ],
          [
           "Ireland",
           24
          ],
          [
           "Israel",
           15
          ],
          [
           "Italy",
           43
          ],
          [
           "Japan",
           65
          ],
          [
           "Jordan",
           4
          ],
          [
           "Kazakhstan",
           1
          ],
          [
           "Kenya",
           1
          ],
          [
           "Latvia",
           1
          ],
          [
           "Lebanon",
           3
          ],
          [
           "Liechtenstein",
           1
          ],
          [
           "Luxembourg",
           7
          ],
          [
           "Malawi",
           1
          ],
          [
           "Malaysia",
           11
          ],
          [
           "Malta",
           2
          ],
          [
           "Mexico",
           59
          ],
          [
           "Mongolia",
           1
          ],
          [
           "Montenegro",
           1
          ],
          [
           "Morocco",
           5
          ],
          [
           "Namibia",
           1
          ],
          [
           "Nepal",
           1
          ],
          [
           "Netherlands",
           23
          ],
          [
           "New Zealand",
           15
          ],
          [
           "Nicaragua",
           1
          ],
          [
           "Nigeria",
           28
          ],
          [
           "Norway",
           12
          ],
          [
           "Pakistan",
           13
          ],
          [
           "Panama",
           1
          ],
          [
           "Peru",
           6
          ],
          [
           "Philippines",
           36
          ],
          [
           "Poland",
           16
          ],
          [
           "Portugal",
           3
          ],
          [
           "Qatar",
           5
          ],
          [
           "Romania",
           4
          ],
          [
           "Russia",
           9
          ],
          [
           "Samoa",
           1
          ],
          [
           "Saudi Arabia",
           1
          ],
          [
           "Senegal",
           2
          ],
          [
           "Serbia",
           3
          ],
          [
           "Singapore",
           20
          ],
          [
           "Slovenia",
           2
          ],
          [
           "Somalia",
           1
          ],
          [
           "South Africa",
           20
          ],
          [
           "South Korea",
           50
          ],
          [
           "Spain",
           110
          ],
          [
           "Sri Lanka",
           1
          ],
          [
           "Sudan",
           1
          ],
          [
           "Sweden",
           23
          ],
          [
           "Switzerland",
           10
          ],
          [
           "Taiwan",
           16
          ],
          [
           "Thailand",
           24
          ],
          [
           "Turkey",
           27
          ],
          [
           "Uganda",
           1
          ],
          [
           "Ukraine",
           1
          ],
          [
           "United Arab Emirates",
           19
          ],
          [
           "United Kingdom",
           371
          ],
          [
           "United States",
           1772
          ],
          [
           "Uruguay",
           5
          ],
          [
           "Vatican City",
           1
          ],
          [
           "Venezuela",
           3
          ],
          [
           "Vietnam",
           2
          ],
          [
           "Zimbabwe",
           2
          ]
         ],
         "hovertemplate": "latitude=%{lat}<br>longitude=%{lon}<br>name=%{customdata[0]}<br>Titles=%{customdata[1]}<extra></extra>",
         "lat": [
          33.93911,
          41.153332,
          -38.416097,
          40.069099,
          -25.274398,
          47.516231,
          40.143105,
          23.684994,
          50.503887,
          32.321384,
          -22.328474,
          -14.235004,
          42.733883,
          12.565679,
          56.130366,
          19.513469,
          -35.675146999999996,
          35.86166,
          4.570868,
          45.1,
          49.817492,
          56.26392,
          -1.8312389999999998,
          26.820553000000004,
          61.92411,
          46.227638,
          42.315407,
          51.165690999999995,
          7.946527000000001,
          39.074208,
          22.396428,
          47.162494,
          64.96305100000001,
          20.593684,
          -0.789275,
          32.427908,
          33.223191,
          53.41291,
          31.046051000000002,
          41.87194,
          36.204824,
          30.585164000000002,
          48.019573,
          -0.023559,
          56.879635,
          33.854721000000005,
          47.166000000000004,
          49.815273,
          -13.254307999999998,
          4.210483999999999,
          35.937496,
          23.634501,
          46.862496,
          42.708678000000006,
          31.791702,
          -22.957639999999998,
          28.394857000000002,
          52.132633,
          -40.900557,
          12.865416,
          9.081999,
          60.472024,
          30.375321000000003,
          8.537981,
          -9.189967,
          12.879721,
          51.919438,
          39.399871999999995,
          25.354826,
          45.943160999999996,
          61.52401,
          -13.759029,
          23.885942,
          14.497401000000002,
          44.016521000000004,
          1.352083,
          46.151241,
          5.152149,
          -30.559482,
          35.907757000000004,
          40.463667,
          7.873054,
          12.862807,
          60.128161,
          46.818188,
          23.69781,
          15.870032,
          38.963745,
          1.373333,
          48.379433,
          23.424076,
          55.378051,
          37.09024,
          -32.522779,
          41.902916,
          6.42375,
          14.058323999999999,
          -19.015438
         ],
         "lon": [
          67.709953,
          20.168331,
          -63.616671999999994,
          45.038189,
          133.775136,
          14.550072,
          47.576927000000005,
          90.35633100000001,
          4.469936,
          -64.75737,
          24.684866,
          -51.92528,
          25.48583,
          104.990963,
          -106.34677099999999,
          -80.566956,
          -71.542969,
          104.195397,
          -74.297333,
          15.2,
          15.472961999999999,
          9.501785,
          -78.183406,
          30.802497999999996,
          25.748151,
          2.213749,
          43.356891999999995,
          10.451526,
          -1.0231940000000002,
          21.824312,
          114.10949699999999,
          19.503304,
          -19.020835,
          78.96288,
          113.921327,
          53.68804599999999,
          43.679291,
          -8.243889999999999,
          34.851612,
          12.56738,
          138.252924,
          36.238414,
          66.923684,
          37.906193,
          24.603189,
          35.862285,
          9.555373,
          6.129583,
          34.301525,
          101.97576600000001,
          14.375416,
          -102.552784,
          103.84665600000001,
          19.37439,
          -7.09262,
          18.49041,
          84.12400799999999,
          5.291266,
          174.88597099999998,
          -85.207229,
          8.675277000000001,
          8.468946,
          69.345116,
          -80.782127,
          -75.015152,
          121.77401699999999,
          19.145135999999997,
          -8.224454,
          51.183884,
          24.96676,
          105.31875600000001,
          -172.10462900000002,
          45.079162,
          -14.452361999999999,
          21.005859,
          103.819836,
          14.995463,
          46.199616,
          22.937506,
          127.766922,
          -3.7492199999999998,
          80.77179699999999,
          30.217636,
          18.643501,
          8.227511999999999,
          120.96051499999999,
          100.992541,
          35.243322,
          32.290275,
          31.16558,
          53.847818000000004,
          -3.435973,
          -95.712891,
          -55.765834999999996,
          12.453389,
          -66.58973,
          108.277199,
          29.154857
         ],
         "name": "",
         "radius": [
          1,
          1,
          2.5209080047789727,
          1,
          3.837514934289128,
          1.2043010752688172,
          1,
          1.045400238948626,
          2.4755077658303466,
          1,
          1,
          2.4755077658303466,
          1.1589008363201911,
          1.045400238948626,
          8.195937873357229,
          1,
          1.4994026284348865,
          3.70131421744325,
          1.794504181600956,
          11.782556750298687,
          1.0681003584229392,
          1,
          1,
          1.3178016726403823,
          1.839904420549582,
          1.022700119474313,
          1,
          1,
          2.2031063321385904,
          1.1816009557945042,
          7.129032258064517,
          1.022700119474313,
          4.405017921146953,
          1.022700119474313,
          1.1589008363201911,
          1,
          3.1792114695340503,
          1.0908004778972522,
          1.113500597371565,
          20,
          2.1577060931899643,
          1.0681003584229392,
          1.022700119474313,
          1.7264038231780168,
          1.5675029868578256,
          2.4982078853046596,
          6.221027479091996,
          1.113500597371565,
          1,
          1,
          1,
          1,
          1.1816009557945042,
          1,
          1.136200716845878,
          1,
          1.4540023894862606,
          1.022700119474313,
          1,
          3.905615292712067,
          1,
          1,
          1.113500597371565,
          1,
          1.022700119474313,
          1.817204301075269,
          1.4994026284348865,
          1,
          1.794504181600956,
          1.4540023894862606,
          1.4994026284348865,
          1,
          1,
          1.1816009557945042,
          2.044205495818399,
          1.5675029868578256,
          1,
          1.0681003584229392,
          1.113500597371565,
          1.113500597371565,
          1.4540023894862606,
          1,
          1.022700119474313,
          1.022700119474313,
          1.0908004778972522,
          1.6583034647550776,
          1,
          1.045400238948626,
          1,
          1.6583034647550776,
          4.6547192353643965,
          1.045400238948626,
          5.017921146953405,
          1,
          1,
          1.7264038231780168,
          1.3178016726403823,
          1,
          2.679808841099164,
          2.2485065710872165,
          2.95221027479092,
          1,
          1.045400238948626,
          1.4540023894862606,
          14.620071684587815,
          1,
          3.2473118279569895,
          1,
          1.1816009557945042,
          1,
          1.045400238948626,
          1.0681003584229392,
          1.0908004778972522,
          1.022700119474313
         ],
         "subplot": "mapbox",
         "type": "densitymapbox"
        }
       ],
       "layout": {
        "coloraxis": {
         "colorscale": [
          [
           0,
           "#0d0887"
          ],
          [
           0.1111111111111111,
           "#46039f"
          ],
          [
           0.2222222222222222,
           "#7201a8"
          ],
          [
           0.3333333333333333,
           "#9c179e"
          ],
          [
           0.4444444444444444,
           "#bd3786"
          ],
          [
           0.5555555555555556,
           "#d8576b"
          ],
          [
           0.6666666666666666,
           "#ed7953"
          ],
          [
           0.7777777777777778,
           "#fb9f3a"
          ],
          [
           0.8888888888888888,
           "#fdca26"
          ],
          [
           1,
           "#f0f921"
          ]
         ]
        },
        "legend": {
         "tracegroupgap": 0
        },
        "mapbox": {
         "center": {
          "lat": 25.570922081632656,
          "lon": 23.507272571428572
         },
         "domain": {
          "x": [
           0,
           1
          ],
          "y": [
           0,
           1
          ]
         },
         "style": "carto-positron",
         "zoom": 1
        },
        "margin": {
         "t": 60
        },
        "template": {
         "data": {
          "bar": [
           {
            "error_x": {
             "color": "#2a3f5f"
            },
            "error_y": {
             "color": "#2a3f5f"
            },
            "marker": {
             "line": {
              "color": "#E5ECF6",
              "width": 0.5
             }
            },
            "type": "bar"
           }
          ],
          "barpolar": [
           {
            "marker": {
             "line": {
              "color": "#E5ECF6",
              "width": 0.5
             }
            },
            "type": "barpolar"
           }
          ],
          "carpet": [
           {
            "aaxis": {
             "endlinecolor": "#2a3f5f",
             "gridcolor": "white",
             "linecolor": "white",
             "minorgridcolor": "white",
             "startlinecolor": "#2a3f5f"
            },
            "baxis": {
             "endlinecolor": "#2a3f5f",
             "gridcolor": "white",
             "linecolor": "white",
             "minorgridcolor": "white",
             "startlinecolor": "#2a3f5f"
            },
            "type": "carpet"
           }
          ],
          "choropleth": [
           {
            "colorbar": {
             "outlinewidth": 0,
             "ticks": ""
            },
            "type": "choropleth"
           }
          ],
          "contour": [
           {
            "colorbar": {
             "outlinewidth": 0,
             "ticks": ""
            },
            "colorscale": [
             [
              0,
              "#0d0887"
             ],
             [
              0.1111111111111111,
              "#46039f"
             ],
             [
              0.2222222222222222,
              "#7201a8"
             ],
             [
              0.3333333333333333,
              "#9c179e"
             ],
             [
              0.4444444444444444,
              "#bd3786"
             ],
             [
              0.5555555555555556,
              "#d8576b"
             ],
             [
              0.6666666666666666,
              "#ed7953"
             ],
             [
              0.7777777777777778,
              "#fb9f3a"
             ],
             [
              0.8888888888888888,
              "#fdca26"
             ],
             [
              1,
              "#f0f921"
             ]
            ],
            "type": "contour"
           }
          ],
          "contourcarpet": [
           {
            "colorbar": {
             "outlinewidth": 0,
             "ticks": ""
            },
            "type": "contourcarpet"
           }
          ],
          "heatmap": [
           {
            "colorbar": {
             "outlinewidth": 0,
             "ticks": ""
            },
            "colorscale": [
             [
              0,
              "#0d0887"
             ],
             [
              0.1111111111111111,
              "#46039f"
             ],
             [
              0.2222222222222222,
              "#7201a8"
             ],
             [
              0.3333333333333333,
              "#9c179e"
             ],
             [
              0.4444444444444444,
              "#bd3786"
             ],
             [
              0.5555555555555556,
              "#d8576b"
             ],
             [
              0.6666666666666666,
              "#ed7953"
             ],
             [
              0.7777777777777778,
              "#fb9f3a"
             ],
             [
              0.8888888888888888,
              "#fdca26"
             ],
             [
              1,
              "#f0f921"
             ]
            ],
            "type": "heatmap"
           }
          ],
          "heatmapgl": [
           {
            "colorbar": {
             "outlinewidth": 0,
             "ticks": ""
            },
            "colorscale": [
             [
              0,
              "#0d0887"
             ],
             [
              0.1111111111111111,
              "#46039f"
             ],
             [
              0.2222222222222222,
              "#7201a8"
             ],
             [
              0.3333333333333333,
              "#9c179e"
             ],
             [
              0.4444444444444444,
              "#bd3786"
             ],
             [
              0.5555555555555556,
              "#d8576b"
             ],
             [
              0.6666666666666666,
              "#ed7953"
             ],
             [
              0.7777777777777778,
              "#fb9f3a"
             ],
             [
              0.8888888888888888,
              "#fdca26"
             ],
             [
              1,
              "#f0f921"
             ]
            ],
            "type": "heatmapgl"
           }
          ],
          "histogram": [
           {
            "marker": {
             "colorbar": {
              "outlinewidth": 0,
              "ticks": ""
             }
            },
            "type": "histogram"
           }
          ],
          "histogram2d": [
           {
            "colorbar": {
             "outlinewidth": 0,
             "ticks": ""
            },
            "colorscale": [
             [
              0,
              "#0d0887"
             ],
             [
              0.1111111111111111,
              "#46039f"
             ],
             [
              0.2222222222222222,
              "#7201a8"
             ],
             [
              0.3333333333333333,
              "#9c179e"
             ],
             [
              0.4444444444444444,
              "#bd3786"
             ],
             [
              0.5555555555555556,
              "#d8576b"
             ],
             [
              0.6666666666666666,
              "#ed7953"
             ],
             [
              0.7777777777777778,
              "#fb9f3a"
             ],
             [
              0.8888888888888888,
              "#fdca26"
             ],
             [
              1,
              "#f0f921"
             ]
            ],
            "type": "histogram2d"
           }
          ],
          "histogram2dcontour": [
           {
            "colorbar": {
             "outlinewidth": 0,
             "ticks": ""
            },
            "colorscale": [
             [
              0,
              "#0d0887"
             ],
             [
              0.1111111111111111,
              "#46039f"
             ],
             [
              0.2222222222222222,
              "#7201a8"
             ],
             [
              0.3333333333333333,
              "#9c179e"
             ],
             [
              0.4444444444444444,
              "#bd3786"
             ],
             [
              0.5555555555555556,
              "#d8576b"
             ],
             [
              0.6666666666666666,
              "#ed7953"
             ],
             [
              0.7777777777777778,
              "#fb9f3a"
             ],
             [
              0.8888888888888888,
              "#fdca26"
             ],
             [
              1,
              "#f0f921"
             ]
            ],
            "type": "histogram2dcontour"
           }
          ],
          "mesh3d": [
           {
            "colorbar": {
             "outlinewidth": 0,
             "ticks": ""
            },
            "type": "mesh3d"
           }
          ],
          "parcoords": [
           {
            "line": {
             "colorbar": {
              "outlinewidth": 0,
              "ticks": ""
             }
            },
            "type": "parcoords"
           }
          ],
          "pie": [
           {
            "automargin": true,
            "type": "pie"
           }
          ],
          "scatter": [
           {
            "marker": {
             "colorbar": {
              "outlinewidth": 0,
              "ticks": ""
             }
            },
            "type": "scatter"
           }
          ],
          "scatter3d": [
           {
            "line": {
             "colorbar": {
              "outlinewidth": 0,
              "ticks": ""
             }
            },
            "marker": {
             "colorbar": {
              "outlinewidth": 0,
              "ticks": ""
             }
            },
            "type": "scatter3d"
           }
          ],
          "scattercarpet": [
           {
            "marker": {
             "colorbar": {
              "outlinewidth": 0,
              "ticks": ""
             }
            },
            "type": "scattercarpet"
           }
          ],
          "scattergeo": [
           {
            "marker": {
             "colorbar": {
              "outlinewidth": 0,
              "ticks": ""
             }
            },
            "type": "scattergeo"
           }
          ],
          "scattergl": [
           {
            "marker": {
             "colorbar": {
              "outlinewidth": 0,
              "ticks": ""
             }
            },
            "type": "scattergl"
           }
          ],
          "scattermapbox": [
           {
            "marker": {
             "colorbar": {
              "outlinewidth": 0,
              "ticks": ""
             }
            },
            "type": "scattermapbox"
           }
          ],
          "scatterpolar": [
           {
            "marker": {
             "colorbar": {
              "outlinewidth": 0,
              "ticks": ""
             }
            },
            "type": "scatterpolar"
           }
          ],
          "scatterpolargl": [
           {
            "marker": {
             "colorbar": {
              "outlinewidth": 0,
              "ticks": ""
             }
            },
            "type": "scatterpolargl"
           }
          ],
          "scatterternary": [
           {
            "marker": {
             "colorbar": {
              "outlinewidth": 0,
              "ticks": ""
             }
            },
            "type": "scatterternary"
           }
          ],
          "surface": [
           {
            "colorbar": {
             "outlinewidth": 0,
             "ticks": ""
            },
            "colorscale": [
             [
              0,
              "#0d0887"
             ],
             [
              0.1111111111111111,
              "#46039f"
             ],
             [
              0.2222222222222222,
              "#7201a8"
             ],
             [
              0.3333333333333333,
              "#9c179e"
             ],
             [
              0.4444444444444444,
              "#bd3786"
             ],
             [
              0.5555555555555556,
              "#d8576b"
             ],
             [
              0.6666666666666666,
              "#ed7953"
             ],
             [
              0.7777777777777778,
              "#fb9f3a"
             ],
             [
              0.8888888888888888,
              "#fdca26"
             ],
             [
              1,
              "#f0f921"
             ]
            ],
            "type": "surface"
           }
          ],
          "table": [
           {
            "cells": {
             "fill": {
              "color": "#EBF0F8"
             },
             "line": {
              "color": "white"
             }
            },
            "header": {
             "fill": {
              "color": "#C8D4E3"
             },
             "line": {
              "color": "white"
             }
            },
            "type": "table"
           }
          ]
         },
         "layout": {
          "annotationdefaults": {
           "arrowcolor": "#2a3f5f",
           "arrowhead": 0,
           "arrowwidth": 1
          },
          "coloraxis": {
           "colorbar": {
            "outlinewidth": 0,
            "ticks": ""
           }
          },
          "colorscale": {
           "diverging": [
            [
             0,
             "#8e0152"
            ],
            [
             0.1,
             "#c51b7d"
            ],
            [
             0.2,
             "#de77ae"
            ],
            [
             0.3,
             "#f1b6da"
            ],
            [
             0.4,
             "#fde0ef"
            ],
            [
             0.5,
             "#f7f7f7"
            ],
            [
             0.6,
             "#e6f5d0"
            ],
            [
             0.7,
             "#b8e186"
            ],
            [
             0.8,
             "#7fbc41"
            ],
            [
             0.9,
             "#4d9221"
            ],
            [
             1,
             "#276419"
            ]
           ],
           "sequential": [
            [
             0,
             "#0d0887"
            ],
            [
             0.1111111111111111,
             "#46039f"
            ],
            [
             0.2222222222222222,
             "#7201a8"
            ],
            [
             0.3333333333333333,
             "#9c179e"
            ],
            [
             0.4444444444444444,
             "#bd3786"
            ],
            [
             0.5555555555555556,
             "#d8576b"
            ],
            [
             0.6666666666666666,
             "#ed7953"
            ],
            [
             0.7777777777777778,
             "#fb9f3a"
            ],
            [
             0.8888888888888888,
             "#fdca26"
            ],
            [
             1,
             "#f0f921"
            ]
           ],
           "sequentialminus": [
            [
             0,
             "#0d0887"
            ],
            [
             0.1111111111111111,
             "#46039f"
            ],
            [
             0.2222222222222222,
             "#7201a8"
            ],
            [
             0.3333333333333333,
             "#9c179e"
            ],
            [
             0.4444444444444444,
             "#bd3786"
            ],
            [
             0.5555555555555556,
             "#d8576b"
            ],
            [
             0.6666666666666666,
             "#ed7953"
            ],
            [
             0.7777777777777778,
             "#fb9f3a"
            ],
            [
             0.8888888888888888,
             "#fdca26"
            ],
            [
             1,
             "#f0f921"
            ]
           ]
          },
          "colorway": [
           "#636efa",
           "#EF553B",
           "#00cc96",
           "#ab63fa",
           "#FFA15A",
           "#19d3f3",
           "#FF6692",
           "#B6E880",
           "#FF97FF",
           "#FECB52"
          ],
          "font": {
           "color": "#2a3f5f"
          },
          "geo": {
           "bgcolor": "white",
           "lakecolor": "white",
           "landcolor": "#E5ECF6",
           "showlakes": true,
           "showland": true,
           "subunitcolor": "white"
          },
          "hoverlabel": {
           "align": "left"
          },
          "hovermode": "closest",
          "mapbox": {
           "style": "light"
          },
          "paper_bgcolor": "white",
          "plot_bgcolor": "#E5ECF6",
          "polar": {
           "angularaxis": {
            "gridcolor": "white",
            "linecolor": "white",
            "ticks": ""
           },
           "bgcolor": "#E5ECF6",
           "radialaxis": {
            "gridcolor": "white",
            "linecolor": "white",
            "ticks": ""
           }
          },
          "scene": {
           "xaxis": {
            "backgroundcolor": "#E5ECF6",
            "gridcolor": "white",
            "gridwidth": 2,
            "linecolor": "white",
            "showbackground": true,
            "ticks": "",
            "zerolinecolor": "white"
           },
           "yaxis": {
            "backgroundcolor": "#E5ECF6",
            "gridcolor": "white",
            "gridwidth": 2,
            "linecolor": "white",
            "showbackground": true,
            "ticks": "",
            "zerolinecolor": "white"
           },
           "zaxis": {
            "backgroundcolor": "#E5ECF6",
            "gridcolor": "white",
            "gridwidth": 2,
            "linecolor": "white",
            "showbackground": true,
            "ticks": "",
            "zerolinecolor": "white"
           }
          },
          "shapedefaults": {
           "line": {
            "color": "#2a3f5f"
           }
          },
          "ternary": {
           "aaxis": {
            "gridcolor": "white",
            "linecolor": "white",
            "ticks": ""
           },
           "baxis": {
            "gridcolor": "white",
            "linecolor": "white",
            "ticks": ""
           },
           "bgcolor": "#E5ECF6",
           "caxis": {
            "gridcolor": "white",
            "linecolor": "white",
            "ticks": ""
           }
          },
          "title": {
           "x": 0.05
          },
          "xaxis": {
           "automargin": true,
           "gridcolor": "white",
           "linecolor": "white",
           "ticks": "",
           "title": {
            "standoff": 15
           },
           "zerolinecolor": "white",
           "zerolinewidth": 2
          },
          "yaxis": {
           "automargin": true,
           "gridcolor": "white",
           "linecolor": "white",
           "ticks": "",
           "title": {
            "standoff": 15
           },
           "zerolinecolor": "white",
           "zerolinewidth": 2
          }
         }
        }
       }
      },
      "text/html": [
       "<div>                            <div id=\"4080c37b-5203-4fab-884c-49276ddb4872\" class=\"plotly-graph-div\" style=\"height:525px; width:100%;\"></div>            <script type=\"text/javascript\">                require([\"plotly\"], function(Plotly) {                    window.PLOTLYENV=window.PLOTLYENV || {};                                    if (document.getElementById(\"4080c37b-5203-4fab-884c-49276ddb4872\")) {                    Plotly.newPlot(                        \"4080c37b-5203-4fab-884c-49276ddb4872\",                        [{\"coloraxis\": \"coloraxis\", \"customdata\": [[\"Afghanistan\", 1], [\"Albania\", 1], [\"Argentina\", 33], [\"Armenia\", 1], [\"Australia\", 80], [\"Austria\", 6], [\"Azerbaijan\", 1], [\"Bangladesh\", 2], [\"Belgium\", 47], [\"Bermuda\", 1], [\"Botswana\", 1], [\"Brazil\", 34], [\"Bulgaria\", 7], [\"Cambodia\", 3], [\"Canada\", 199], [\"Cayman Islands\", 1], [\"Chile\", 14], [\"China\", 74], [\"Colombia\", 12], [\"Croatia\", 3], [\"Czech Republic\", 8], [\"Denmark\", 23], [\"Ecuador\", 1], [\"Egypt\", 21], [\"Finland\", 6], [\"France\", 159], [\"Georgia\", 1], [\"Germany\", 107], [\"Ghana\", 2], [\"Greece\", 2], [\"Hong Kong\", 67], [\"Hungary\", 4], [\"Iceland\", 5], [\"India\", 575], [\"Indonesia\", 30], [\"Iran\", 2], [\"Iraq\", 2], [\"Ireland\", 24], [\"Israel\", 15], [\"Italy\", 43], [\"Japan\", 65], [\"Jordan\", 4], [\"Kazakhstan\", 1], [\"Kenya\", 1], [\"Latvia\", 1], [\"Lebanon\", 3], [\"Liechtenstein\", 1], [\"Luxembourg\", 7], [\"Malawi\", 1], [\"Malaysia\", 11], [\"Malta\", 2], [\"Mexico\", 59], [\"Mongolia\", 1], [\"Montenegro\", 1], [\"Morocco\", 5], [\"Namibia\", 1], [\"Nepal\", 1], [\"Netherlands\", 23], [\"New Zealand\", 15], [\"Nicaragua\", 1], [\"Nigeria\", 28], [\"Norway\", 12], [\"Pakistan\", 13], [\"Panama\", 1], [\"Peru\", 6], [\"Philippines\", 36], [\"Poland\", 16], [\"Portugal\", 3], [\"Qatar\", 5], [\"Romania\", 4], [\"Russia\", 9], [\"Samoa\", 1], [\"Saudi Arabia\", 1], [\"Senegal\", 2], [\"Serbia\", 3], [\"Singapore\", 20], [\"Slovenia\", 2], [\"Somalia\", 1], [\"South Africa\", 20], [\"South Korea\", 50], [\"Spain\", 110], [\"Sri Lanka\", 1], [\"Sudan\", 1], [\"Sweden\", 23], [\"Switzerland\", 10], [\"Taiwan\", 16], [\"Thailand\", 24], [\"Turkey\", 27], [\"Uganda\", 1], [\"Ukraine\", 1], [\"United Arab Emirates\", 19], [\"United Kingdom\", 371], [\"United States\", 1772], [\"Uruguay\", 5], [\"Vatican City\", 1], [\"Venezuela\", 3], [\"Vietnam\", 2], [\"Zimbabwe\", 2]], \"hovertemplate\": \"latitude=%{lat}<br>longitude=%{lon}<br>name=%{customdata[0]}<br>Titles=%{customdata[1]}<extra></extra>\", \"lat\": [33.93911, 41.153332, -38.416097, 40.069099, -25.274398, 47.516231, 40.143105, 23.684994, 50.503887, 32.321384, -22.328474, -14.235004, 42.733883, 12.565679, 56.130366, 19.513469, -35.675146999999996, 35.86166, 4.570868, 45.1, 49.817492, 56.26392, -1.8312389999999998, 26.820553000000004, 61.92411, 46.227638, 42.315407, 51.165690999999995, 7.946527000000001, 39.074208, 22.396428, 47.162494, 64.96305100000001, 20.593684, -0.789275, 32.427908, 33.223191, 53.41291, 31.046051000000002, 41.87194, 36.204824, 30.585164000000002, 48.019573, -0.023559, 56.879635, 33.854721000000005, 47.166000000000004, 49.815273, -13.254307999999998, 4.210483999999999, 35.937496, 23.634501, 46.862496, 42.708678000000006, 31.791702, -22.957639999999998, 28.394857000000002, 52.132633, -40.900557, 12.865416, 9.081999, 60.472024, 30.375321000000003, 8.537981, -9.189967, 12.879721, 51.919438, 39.399871999999995, 25.354826, 45.943160999999996, 61.52401, -13.759029, 23.885942, 14.497401000000002, 44.016521000000004, 1.352083, 46.151241, 5.152149, -30.559482, 35.907757000000004, 40.463667, 7.873054, 12.862807, 60.128161, 46.818188, 23.69781, 15.870032, 38.963745, 1.373333, 48.379433, 23.424076, 55.378051, 37.09024, -32.522779, 41.902916, 6.42375, 14.058323999999999, -19.015438], \"lon\": [67.709953, 20.168331, -63.616671999999994, 45.038189, 133.775136, 14.550072, 47.576927000000005, 90.35633100000001, 4.469936, -64.75737, 24.684866, -51.92528, 25.48583, 104.990963, -106.34677099999999, -80.566956, -71.542969, 104.195397, -74.297333, 15.2, 15.472961999999999, 9.501785, -78.183406, 30.802497999999996, 25.748151, 2.213749, 43.356891999999995, 10.451526, -1.0231940000000002, 21.824312, 114.10949699999999, 19.503304, -19.020835, 78.96288, 113.921327, 53.68804599999999, 43.679291, -8.243889999999999, 34.851612, 12.56738, 138.252924, 36.238414, 66.923684, 37.906193, 24.603189, 35.862285, 9.555373, 6.129583, 34.301525, 101.97576600000001, 14.375416, -102.552784, 103.84665600000001, 19.37439, -7.09262, 18.49041, 84.12400799999999, 5.291266, 174.88597099999998, -85.207229, 8.675277000000001, 8.468946, 69.345116, -80.782127, -75.015152, 121.77401699999999, 19.145135999999997, -8.224454, 51.183884, 24.96676, 105.31875600000001, -172.10462900000002, 45.079162, -14.452361999999999, 21.005859, 103.819836, 14.995463, 46.199616, 22.937506, 127.766922, -3.7492199999999998, 80.77179699999999, 30.217636, 18.643501, 8.227511999999999, 120.96051499999999, 100.992541, 35.243322, 32.290275, 31.16558, 53.847818000000004, -3.435973, -95.712891, -55.765834999999996, 12.453389, -66.58973, 108.277199, 29.154857], \"name\": \"\", \"radius\": [1.0, 1.0, 2.5209080047789727, 1.0, 3.837514934289128, 1.2043010752688172, 1.0, 1.045400238948626, 2.4755077658303466, 1.0, 1.0, 2.4755077658303466, 1.1589008363201911, 1.045400238948626, 8.195937873357229, 1.0, 1.4994026284348865, 3.70131421744325, 1.794504181600956, 11.782556750298687, 1.0681003584229392, 1.0, 1.0, 1.3178016726403823, 1.839904420549582, 1.022700119474313, 1.0, 1.0, 2.2031063321385904, 1.1816009557945042, 7.129032258064517, 1.022700119474313, 4.405017921146953, 1.022700119474313, 1.1589008363201911, 1.0, 3.1792114695340503, 1.0908004778972522, 1.113500597371565, 20.0, 2.1577060931899643, 1.0681003584229392, 1.022700119474313, 1.7264038231780168, 1.5675029868578256, 2.4982078853046596, 6.221027479091996, 1.113500597371565, 1.0, 1.0, 1.0, 1.0, 1.1816009557945042, 1.0, 1.136200716845878, 1.0, 1.4540023894862606, 1.022700119474313, 1.0, 3.905615292712067, 1.0, 1.0, 1.113500597371565, 1.0, 1.022700119474313, 1.817204301075269, 1.4994026284348865, 1.0, 1.794504181600956, 1.4540023894862606, 1.4994026284348865, 1.0, 1.0, 1.1816009557945042, 2.044205495818399, 1.5675029868578256, 1.0, 1.0681003584229392, 1.113500597371565, 1.113500597371565, 1.4540023894862606, 1.0, 1.022700119474313, 1.022700119474313, 1.0908004778972522, 1.6583034647550776, 1.0, 1.045400238948626, 1.0, 1.6583034647550776, 4.6547192353643965, 1.045400238948626, 5.017921146953405, 1.0, 1.0, 1.7264038231780168, 1.3178016726403823, 1.0, 2.679808841099164, 2.2485065710872165, 2.95221027479092, 1.0, 1.045400238948626, 1.4540023894862606, 14.620071684587815, 1.0, 3.2473118279569895, 1.0, 1.1816009557945042, 1.0, 1.045400238948626, 1.0681003584229392, 1.0908004778972522, 1.022700119474313], \"subplot\": \"mapbox\", \"type\": \"densitymapbox\"}],                        {\"coloraxis\": {\"colorscale\": [[0.0, \"#0d0887\"], [0.1111111111111111, \"#46039f\"], [0.2222222222222222, \"#7201a8\"], [0.3333333333333333, \"#9c179e\"], [0.4444444444444444, \"#bd3786\"], [0.5555555555555556, \"#d8576b\"], [0.6666666666666666, \"#ed7953\"], [0.7777777777777778, \"#fb9f3a\"], [0.8888888888888888, \"#fdca26\"], [1.0, \"#f0f921\"]]}, \"legend\": {\"tracegroupgap\": 0}, \"mapbox\": {\"center\": {\"lat\": 25.570922081632656, \"lon\": 23.507272571428572}, \"domain\": {\"x\": [0.0, 1.0], \"y\": [0.0, 1.0]}, \"style\": \"carto-positron\", \"zoom\": 1}, \"margin\": {\"t\": 60}, \"template\": {\"data\": {\"bar\": [{\"error_x\": {\"color\": \"#2a3f5f\"}, \"error_y\": {\"color\": \"#2a3f5f\"}, \"marker\": {\"line\": {\"color\": \"#E5ECF6\", \"width\": 0.5}}, \"type\": \"bar\"}], \"barpolar\": [{\"marker\": {\"line\": {\"color\": \"#E5ECF6\", \"width\": 0.5}}, \"type\": \"barpolar\"}], \"carpet\": [{\"aaxis\": {\"endlinecolor\": \"#2a3f5f\", \"gridcolor\": \"white\", \"linecolor\": \"white\", \"minorgridcolor\": \"white\", \"startlinecolor\": \"#2a3f5f\"}, \"baxis\": {\"endlinecolor\": \"#2a3f5f\", \"gridcolor\": \"white\", \"linecolor\": \"white\", \"minorgridcolor\": \"white\", \"startlinecolor\": \"#2a3f5f\"}, \"type\": \"carpet\"}], \"choropleth\": [{\"colorbar\": {\"outlinewidth\": 0, \"ticks\": \"\"}, \"type\": \"choropleth\"}], \"contour\": [{\"colorbar\": {\"outlinewidth\": 0, \"ticks\": \"\"}, \"colorscale\": [[0.0, \"#0d0887\"], [0.1111111111111111, \"#46039f\"], [0.2222222222222222, \"#7201a8\"], [0.3333333333333333, \"#9c179e\"], [0.4444444444444444, \"#bd3786\"], [0.5555555555555556, \"#d8576b\"], [0.6666666666666666, \"#ed7953\"], [0.7777777777777778, \"#fb9f3a\"], [0.8888888888888888, \"#fdca26\"], [1.0, \"#f0f921\"]], \"type\": \"contour\"}], \"contourcarpet\": [{\"colorbar\": {\"outlinewidth\": 0, \"ticks\": \"\"}, \"type\": \"contourcarpet\"}], \"heatmap\": [{\"colorbar\": {\"outlinewidth\": 0, \"ticks\": \"\"}, \"colorscale\": [[0.0, \"#0d0887\"], [0.1111111111111111, \"#46039f\"], [0.2222222222222222, \"#7201a8\"], [0.3333333333333333, \"#9c179e\"], [0.4444444444444444, \"#bd3786\"], [0.5555555555555556, \"#d8576b\"], [0.6666666666666666, \"#ed7953\"], [0.7777777777777778, \"#fb9f3a\"], [0.8888888888888888, \"#fdca26\"], [1.0, \"#f0f921\"]], \"type\": \"heatmap\"}], \"heatmapgl\": [{\"colorbar\": {\"outlinewidth\": 0, \"ticks\": \"\"}, \"colorscale\": [[0.0, \"#0d0887\"], [0.1111111111111111, \"#46039f\"], [0.2222222222222222, \"#7201a8\"], [0.3333333333333333, \"#9c179e\"], [0.4444444444444444, \"#bd3786\"], [0.5555555555555556, \"#d8576b\"], [0.6666666666666666, \"#ed7953\"], [0.7777777777777778, \"#fb9f3a\"], [0.8888888888888888, \"#fdca26\"], [1.0, \"#f0f921\"]], \"type\": \"heatmapgl\"}], \"histogram\": [{\"marker\": {\"colorbar\": {\"outlinewidth\": 0, \"ticks\": \"\"}}, \"type\": \"histogram\"}], \"histogram2d\": [{\"colorbar\": {\"outlinewidth\": 0, \"ticks\": \"\"}, \"colorscale\": [[0.0, \"#0d0887\"], [0.1111111111111111, \"#46039f\"], [0.2222222222222222, \"#7201a8\"], [0.3333333333333333, \"#9c179e\"], [0.4444444444444444, \"#bd3786\"], [0.5555555555555556, \"#d8576b\"], [0.6666666666666666, \"#ed7953\"], [0.7777777777777778, \"#fb9f3a\"], [0.8888888888888888, \"#fdca26\"], [1.0, \"#f0f921\"]], \"type\": \"histogram2d\"}], \"histogram2dcontour\": [{\"colorbar\": {\"outlinewidth\": 0, \"ticks\": \"\"}, \"colorscale\": [[0.0, \"#0d0887\"], [0.1111111111111111, \"#46039f\"], [0.2222222222222222, \"#7201a8\"], [0.3333333333333333, \"#9c179e\"], [0.4444444444444444, \"#bd3786\"], [0.5555555555555556, \"#d8576b\"], [0.6666666666666666, \"#ed7953\"], [0.7777777777777778, \"#fb9f3a\"], [0.8888888888888888, \"#fdca26\"], [1.0, \"#f0f921\"]], \"type\": \"histogram2dcontour\"}], \"mesh3d\": [{\"colorbar\": {\"outlinewidth\": 0, \"ticks\": \"\"}, \"type\": \"mesh3d\"}], \"parcoords\": [{\"line\": {\"colorbar\": {\"outlinewidth\": 0, \"ticks\": \"\"}}, \"type\": \"parcoords\"}], \"pie\": [{\"automargin\": true, \"type\": \"pie\"}], \"scatter\": [{\"marker\": {\"colorbar\": {\"outlinewidth\": 0, \"ticks\": \"\"}}, \"type\": \"scatter\"}], \"scatter3d\": [{\"line\": {\"colorbar\": {\"outlinewidth\": 0, \"ticks\": \"\"}}, \"marker\": {\"colorbar\": {\"outlinewidth\": 0, \"ticks\": \"\"}}, \"type\": \"scatter3d\"}], \"scattercarpet\": [{\"marker\": {\"colorbar\": {\"outlinewidth\": 0, \"ticks\": \"\"}}, \"type\": \"scattercarpet\"}], \"scattergeo\": [{\"marker\": {\"colorbar\": {\"outlinewidth\": 0, \"ticks\": \"\"}}, \"type\": \"scattergeo\"}], \"scattergl\": [{\"marker\": {\"colorbar\": {\"outlinewidth\": 0, \"ticks\": \"\"}}, \"type\": \"scattergl\"}], \"scattermapbox\": [{\"marker\": {\"colorbar\": {\"outlinewidth\": 0, \"ticks\": \"\"}}, \"type\": \"scattermapbox\"}], \"scatterpolar\": [{\"marker\": {\"colorbar\": {\"outlinewidth\": 0, \"ticks\": \"\"}}, \"type\": \"scatterpolar\"}], \"scatterpolargl\": [{\"marker\": {\"colorbar\": {\"outlinewidth\": 0, \"ticks\": \"\"}}, \"type\": \"scatterpolargl\"}], \"scatterternary\": [{\"marker\": {\"colorbar\": {\"outlinewidth\": 0, \"ticks\": \"\"}}, \"type\": \"scatterternary\"}], \"surface\": [{\"colorbar\": {\"outlinewidth\": 0, \"ticks\": \"\"}, \"colorscale\": [[0.0, \"#0d0887\"], [0.1111111111111111, \"#46039f\"], [0.2222222222222222, \"#7201a8\"], [0.3333333333333333, \"#9c179e\"], [0.4444444444444444, \"#bd3786\"], [0.5555555555555556, \"#d8576b\"], [0.6666666666666666, \"#ed7953\"], [0.7777777777777778, \"#fb9f3a\"], [0.8888888888888888, \"#fdca26\"], [1.0, \"#f0f921\"]], \"type\": \"surface\"}], \"table\": [{\"cells\": {\"fill\": {\"color\": \"#EBF0F8\"}, \"line\": {\"color\": \"white\"}}, \"header\": {\"fill\": {\"color\": \"#C8D4E3\"}, \"line\": {\"color\": \"white\"}}, \"type\": \"table\"}]}, \"layout\": {\"annotationdefaults\": {\"arrowcolor\": \"#2a3f5f\", \"arrowhead\": 0, \"arrowwidth\": 1}, \"coloraxis\": {\"colorbar\": {\"outlinewidth\": 0, \"ticks\": \"\"}}, \"colorscale\": {\"diverging\": [[0, \"#8e0152\"], [0.1, \"#c51b7d\"], [0.2, \"#de77ae\"], [0.3, \"#f1b6da\"], [0.4, \"#fde0ef\"], [0.5, \"#f7f7f7\"], [0.6, \"#e6f5d0\"], [0.7, \"#b8e186\"], [0.8, \"#7fbc41\"], [0.9, \"#4d9221\"], [1, \"#276419\"]], \"sequential\": [[0.0, \"#0d0887\"], [0.1111111111111111, \"#46039f\"], [0.2222222222222222, \"#7201a8\"], [0.3333333333333333, \"#9c179e\"], [0.4444444444444444, \"#bd3786\"], [0.5555555555555556, \"#d8576b\"], [0.6666666666666666, \"#ed7953\"], [0.7777777777777778, \"#fb9f3a\"], [0.8888888888888888, \"#fdca26\"], [1.0, \"#f0f921\"]], \"sequentialminus\": [[0.0, \"#0d0887\"], [0.1111111111111111, \"#46039f\"], [0.2222222222222222, \"#7201a8\"], [0.3333333333333333, \"#9c179e\"], [0.4444444444444444, \"#bd3786\"], [0.5555555555555556, \"#d8576b\"], [0.6666666666666666, \"#ed7953\"], [0.7777777777777778, \"#fb9f3a\"], [0.8888888888888888, \"#fdca26\"], [1.0, \"#f0f921\"]]}, \"colorway\": [\"#636efa\", \"#EF553B\", \"#00cc96\", \"#ab63fa\", \"#FFA15A\", \"#19d3f3\", \"#FF6692\", \"#B6E880\", \"#FF97FF\", \"#FECB52\"], \"font\": {\"color\": \"#2a3f5f\"}, \"geo\": {\"bgcolor\": \"white\", \"lakecolor\": \"white\", \"landcolor\": \"#E5ECF6\", \"showlakes\": true, \"showland\": true, \"subunitcolor\": \"white\"}, \"hoverlabel\": {\"align\": \"left\"}, \"hovermode\": \"closest\", \"mapbox\": {\"style\": \"light\"}, \"paper_bgcolor\": \"white\", \"plot_bgcolor\": \"#E5ECF6\", \"polar\": {\"angularaxis\": {\"gridcolor\": \"white\", \"linecolor\": \"white\", \"ticks\": \"\"}, \"bgcolor\": \"#E5ECF6\", \"radialaxis\": {\"gridcolor\": \"white\", \"linecolor\": \"white\", \"ticks\": \"\"}}, \"scene\": {\"xaxis\": {\"backgroundcolor\": \"#E5ECF6\", \"gridcolor\": \"white\", \"gridwidth\": 2, \"linecolor\": \"white\", \"showbackground\": true, \"ticks\": \"\", \"zerolinecolor\": \"white\"}, \"yaxis\": {\"backgroundcolor\": \"#E5ECF6\", \"gridcolor\": \"white\", \"gridwidth\": 2, \"linecolor\": \"white\", \"showbackground\": true, \"ticks\": \"\", \"zerolinecolor\": \"white\"}, \"zaxis\": {\"backgroundcolor\": \"#E5ECF6\", \"gridcolor\": \"white\", \"gridwidth\": 2, \"linecolor\": \"white\", \"showbackground\": true, \"ticks\": \"\", \"zerolinecolor\": \"white\"}}, \"shapedefaults\": {\"line\": {\"color\": \"#2a3f5f\"}}, \"ternary\": {\"aaxis\": {\"gridcolor\": \"white\", \"linecolor\": \"white\", \"ticks\": \"\"}, \"baxis\": {\"gridcolor\": \"white\", \"linecolor\": \"white\", \"ticks\": \"\"}, \"bgcolor\": \"#E5ECF6\", \"caxis\": {\"gridcolor\": \"white\", \"linecolor\": \"white\", \"ticks\": \"\"}}, \"title\": {\"x\": 0.05}, \"xaxis\": {\"automargin\": true, \"gridcolor\": \"white\", \"linecolor\": \"white\", \"ticks\": \"\", \"title\": {\"standoff\": 15}, \"zerolinecolor\": \"white\", \"zerolinewidth\": 2}, \"yaxis\": {\"automargin\": true, \"gridcolor\": \"white\", \"linecolor\": \"white\", \"ticks\": \"\", \"title\": {\"standoff\": 15}, \"zerolinecolor\": \"white\", \"zerolinewidth\": 2}}}},                        {\"responsive\": true}                    ).then(function(){\n",
       "                            \n",
       "var gd = document.getElementById('4080c37b-5203-4fab-884c-49276ddb4872');\n",
       "var x = new MutationObserver(function (mutations, observer) {{\n",
       "        var display = window.getComputedStyle(gd).display;\n",
       "        if (!display || display === 'none') {{\n",
       "            console.log([gd, 'removed!']);\n",
       "            Plotly.purge(gd);\n",
       "            observer.disconnect();\n",
       "        }}\n",
       "}});\n",
       "\n",
       "// Listen for the removal of the full notebook cells\n",
       "var notebookContainer = gd.closest('#notebook-container');\n",
       "if (notebookContainer) {{\n",
       "    x.observe(notebookContainer, {childList: true});\n",
       "}}\n",
       "\n",
       "// Listen for the clearing of the current output cell\n",
       "var outputEl = gd.closest('.output');\n",
       "if (outputEl) {{\n",
       "    x.observe(outputEl, {childList: true});\n",
       "}}\n",
       "\n",
       "                        })                };                });            </script>        </div>"
      ]
     },
     "metadata": {},
     "output_type": "display_data"
    }
   ],
   "source": [
    "fig = px.density_mapbox (netflix_titles_countries_count_merged_position, lat='latitude', lon='longitude', radius=circle_radius,\n",
    "                                zoom=1, mapbox_style='carto-positron', hover_data=['name','Titles'])\n",
    "fig.show ()"
   ]
  },
  {
   "cell_type": "code",
   "execution_count": null,
   "metadata": {},
   "outputs": [],
   "source": []
  }
 ],
 "metadata": {
  "kernelspec": {
   "display_name": "Python 3",
   "language": "python",
   "name": "python3"
  },
  "language_info": {
   "codemirror_mode": {
    "name": "ipython",
    "version": 3
   },
   "file_extension": ".py",
   "mimetype": "text/x-python",
   "name": "python",
   "nbconvert_exporter": "python",
   "pygments_lexer": "ipython3",
   "version": "3.8.3"
  }
 },
 "nbformat": 4,
 "nbformat_minor": 4
}
