{
 "cells": [
  {
   "cell_type": "code",
   "execution_count": 1,
   "metadata": {},
   "outputs": [
    {
     "data": {
      "text/html": [
       "<div>\n",
       "<style scoped>\n",
       "    .dataframe tbody tr th:only-of-type {\n",
       "        vertical-align: middle;\n",
       "    }\n",
       "\n",
       "    .dataframe tbody tr th {\n",
       "        vertical-align: top;\n",
       "    }\n",
       "\n",
       "    .dataframe thead th {\n",
       "        text-align: right;\n",
       "    }\n",
       "</style>\n",
       "<table border=\"1\" class=\"dataframe\">\n",
       "  <thead>\n",
       "    <tr style=\"text-align: right;\">\n",
       "      <th></th>\n",
       "      <th>show_id</th>\n",
       "      <th>type</th>\n",
       "      <th>title</th>\n",
       "      <th>director</th>\n",
       "      <th>cast</th>\n",
       "      <th>country</th>\n",
       "      <th>date_added</th>\n",
       "      <th>Netflix release year</th>\n",
       "      <th>rating</th>\n",
       "      <th>duration</th>\n",
       "      <th>...</th>\n",
       "      <th>description</th>\n",
       "      <th>IMDB rating</th>\n",
       "      <th>Rotten Tomatoes rating</th>\n",
       "      <th>Award</th>\n",
       "      <th>Released Date</th>\n",
       "      <th>IMDB rating group</th>\n",
       "      <th>Title</th>\n",
       "      <th>Budget</th>\n",
       "      <th>Movie ID</th>\n",
       "      <th>Revenue</th>\n",
       "    </tr>\n",
       "  </thead>\n",
       "  <tbody>\n",
       "    <tr>\n",
       "      <th>2</th>\n",
       "      <td>80163890</td>\n",
       "      <td>TV Show</td>\n",
       "      <td>Apaches</td>\n",
       "      <td>Director Not Available</td>\n",
       "      <td>Alberto Ammann, Eloy Azorín, Verónica Echegui,...</td>\n",
       "      <td>Spain</td>\n",
       "      <td>September 8, 2017</td>\n",
       "      <td>2016</td>\n",
       "      <td>TV-MA</td>\n",
       "      <td>1 Season</td>\n",
       "      <td>...</td>\n",
       "      <td>A young journalist is forced into a life of cr...</td>\n",
       "      <td>5.0</td>\n",
       "      <td>31.0</td>\n",
       "      <td>2 nominations.</td>\n",
       "      <td>14 Aug 2013</td>\n",
       "      <td>5%</td>\n",
       "      <td>Apaches</td>\n",
       "      <td>0</td>\n",
       "      <td>164337.0</td>\n",
       "      <td>0</td>\n",
       "    </tr>\n",
       "    <tr>\n",
       "      <th>3</th>\n",
       "      <td>70304989</td>\n",
       "      <td>Movie</td>\n",
       "      <td>Automata</td>\n",
       "      <td>Gabe Ibáñez</td>\n",
       "      <td>Antonio Banderas, Dylan McDermott, Melanie Gri...</td>\n",
       "      <td>Bulgaria, United States, Spain, Canada</td>\n",
       "      <td>September 8, 2017</td>\n",
       "      <td>2014</td>\n",
       "      <td>R</td>\n",
       "      <td>110 min</td>\n",
       "      <td>...</td>\n",
       "      <td>In a dystopian future, an insurance adjuster f...</td>\n",
       "      <td>6.0</td>\n",
       "      <td>29.0</td>\n",
       "      <td>6 nominations.</td>\n",
       "      <td>17 Oct 2014</td>\n",
       "      <td>6%</td>\n",
       "      <td>Automata</td>\n",
       "      <td>7000000</td>\n",
       "      <td>262543.0</td>\n",
       "      <td>0</td>\n",
       "    </tr>\n",
       "    <tr>\n",
       "      <th>5</th>\n",
       "      <td>70304990</td>\n",
       "      <td>Movie</td>\n",
       "      <td>Good People</td>\n",
       "      <td>Henrik Ruben Genz</td>\n",
       "      <td>James Franco, Kate Hudson, Tom Wilkinson, Omar...</td>\n",
       "      <td>United States, United Kingdom, Denmark, Sweden</td>\n",
       "      <td>September 8, 2017</td>\n",
       "      <td>2014</td>\n",
       "      <td>R</td>\n",
       "      <td>90 min</td>\n",
       "      <td>...</td>\n",
       "      <td>A struggling couple can't believe their luck w...</td>\n",
       "      <td>5.0</td>\n",
       "      <td>12.0</td>\n",
       "      <td>NaN</td>\n",
       "      <td>21 Aug 2015</td>\n",
       "      <td>5%</td>\n",
       "      <td>Good People</td>\n",
       "      <td>0</td>\n",
       "      <td>262338.0</td>\n",
       "      <td>0</td>\n",
       "    </tr>\n",
       "    <tr>\n",
       "      <th>6</th>\n",
       "      <td>80169755</td>\n",
       "      <td>Movie</td>\n",
       "      <td>Joaquín Reyes: Una y no más</td>\n",
       "      <td>José Miguel Contreras</td>\n",
       "      <td>Joaquín Reyes</td>\n",
       "      <td>Country Not Available</td>\n",
       "      <td>September 8, 2017</td>\n",
       "      <td>2017</td>\n",
       "      <td>TV-MA</td>\n",
       "      <td>78 min</td>\n",
       "      <td>...</td>\n",
       "      <td>Comedian and celebrity impersonator Joaquín Re...</td>\n",
       "      <td>0.0</td>\n",
       "      <td>0.0</td>\n",
       "      <td>NaN</td>\n",
       "      <td>NaN</td>\n",
       "      <td>NaN</td>\n",
       "      <td>Joaquín Reyes: Una y no más</td>\n",
       "      <td>0</td>\n",
       "      <td>474599.0</td>\n",
       "      <td>0</td>\n",
       "    </tr>\n",
       "    <tr>\n",
       "      <th>7</th>\n",
       "      <td>70299204</td>\n",
       "      <td>Movie</td>\n",
       "      <td>Kidnapping Mr. Heineken</td>\n",
       "      <td>Daniel Alfredson</td>\n",
       "      <td>Jim Sturgess, Sam Worthington, Ryan Kwanten, A...</td>\n",
       "      <td>Netherlands, Belgium, United Kingdom, United S...</td>\n",
       "      <td>September 8, 2017</td>\n",
       "      <td>2015</td>\n",
       "      <td>R</td>\n",
       "      <td>95 min</td>\n",
       "      <td>...</td>\n",
       "      <td>When beer magnate Alfred \"Freddy\" Heineken is ...</td>\n",
       "      <td>6.0</td>\n",
       "      <td>19.0</td>\n",
       "      <td>NaN</td>\n",
       "      <td>06 Mar 2015</td>\n",
       "      <td>6%</td>\n",
       "      <td>Kidnapping Mr. Heineken</td>\n",
       "      <td>0</td>\n",
       "      <td>228968.0</td>\n",
       "      <td>2633527</td>\n",
       "    </tr>\n",
       "  </tbody>\n",
       "</table>\n",
       "<p>5 rows × 21 columns</p>\n",
       "</div>"
      ],
      "text/plain": [
       "    show_id     type                        title                director  \\\n",
       "2  80163890  TV Show                      Apaches  Director Not Available   \n",
       "3  70304989    Movie                     Automata             Gabe Ibáñez   \n",
       "5  70304990    Movie                  Good People       Henrik Ruben Genz   \n",
       "6  80169755    Movie  Joaquín Reyes: Una y no más   José Miguel Contreras   \n",
       "7  70299204    Movie      Kidnapping Mr. Heineken        Daniel Alfredson   \n",
       "\n",
       "                                                cast  \\\n",
       "2  Alberto Ammann, Eloy Azorín, Verónica Echegui,...   \n",
       "3  Antonio Banderas, Dylan McDermott, Melanie Gri...   \n",
       "5  James Franco, Kate Hudson, Tom Wilkinson, Omar...   \n",
       "6                                      Joaquín Reyes   \n",
       "7  Jim Sturgess, Sam Worthington, Ryan Kwanten, A...   \n",
       "\n",
       "                                             country         date_added  \\\n",
       "2                                              Spain  September 8, 2017   \n",
       "3             Bulgaria, United States, Spain, Canada  September 8, 2017   \n",
       "5     United States, United Kingdom, Denmark, Sweden  September 8, 2017   \n",
       "6                              Country Not Available  September 8, 2017   \n",
       "7  Netherlands, Belgium, United Kingdom, United S...  September 8, 2017   \n",
       "\n",
       "   Netflix release year rating  duration  ...  \\\n",
       "2                  2016  TV-MA  1 Season  ...   \n",
       "3                  2014      R   110 min  ...   \n",
       "5                  2014      R    90 min  ...   \n",
       "6                  2017  TV-MA    78 min  ...   \n",
       "7                  2015      R    95 min  ...   \n",
       "\n",
       "                                         description IMDB rating  \\\n",
       "2  A young journalist is forced into a life of cr...         5.0   \n",
       "3  In a dystopian future, an insurance adjuster f...         6.0   \n",
       "5  A struggling couple can't believe their luck w...         5.0   \n",
       "6  Comedian and celebrity impersonator Joaquín Re...         0.0   \n",
       "7  When beer magnate Alfred \"Freddy\" Heineken is ...         6.0   \n",
       "\n",
       "   Rotten Tomatoes rating           Award Released Date IMDB rating group  \\\n",
       "2                    31.0  2 nominations.   14 Aug 2013                5%   \n",
       "3                    29.0  6 nominations.   17 Oct 2014                6%   \n",
       "5                    12.0             NaN   21 Aug 2015                5%   \n",
       "6                     0.0             NaN           NaN               NaN   \n",
       "7                    19.0             NaN   06 Mar 2015                6%   \n",
       "\n",
       "                         Title   Budget  Movie ID  Revenue  \n",
       "2                      Apaches        0  164337.0        0  \n",
       "3                     Automata  7000000  262543.0        0  \n",
       "5                  Good People        0  262338.0        0  \n",
       "6  Joaquín Reyes: Una y no más        0  474599.0        0  \n",
       "7      Kidnapping Mr. Heineken        0  228968.0  2633527  \n",
       "\n",
       "[5 rows x 21 columns]"
      ]
     },
     "execution_count": 1,
     "metadata": {},
     "output_type": "execute_result"
    }
   ],
   "source": [
    "# Dependencies and Setup\n",
    "import matplotlib.pyplot as plt\n",
    "import pandas as pd\n",
    "import numpy as np\n",
    "from scipy.interpolate import interp1d\n",
    "import requests\n",
    "import time\n",
    "from time import gmtime, strftime\n",
    "from scipy.stats import linregress\n",
    "import json\n",
    "from pprint import pprint\n",
    "import csv\n",
    "import chart_studio.plotly as py\n",
    "import plotly.express as px\n",
    "\n",
    "# Reading Netflix file\n",
    "netflix_titles_path = \"Output/TMDB_OMDB.CSV\"\n",
    "\n",
    "# Read the mouse data and the study results\n",
    "netflix_titles_temp = pd.read_csv(netflix_titles_path)\n",
    "netflix_titles_temp.replace('', np.nan, inplace=True) \n",
    "fill_values = {'Movie ID':0,'director': 'Director Not Available', 'Cast': 'Cast Not Available', 'country': 'Country Not Available', 'listed_in': 'Catagory not available'}\n",
    "netflix_titles_temp.fillna(value=fill_values, inplace=True)\n",
    "netflix_titles_temp.drop(columns=[\"Unnamed: 0\",\"Unnamed: 0.1\"],inplace=True)\n",
    "netflix_titles = netflix_titles_temp.loc[netflix_titles_temp['Movie ID'] != 0, :]\n",
    "netflix_titles.head()"
   ]
  },
  {
   "cell_type": "code",
   "execution_count": 2,
   "metadata": {},
   "outputs": [],
   "source": [
    "netflix_titles_countries = pd.DataFrame ({\"Titles\": netflix_titles[\"show_id\"],\n",
    "                                          \"Country\": netflix_titles[\"country\"]}) \n",
    "netflix_titles_listed_in = pd.DataFrame ({\"Titles\": netflix_titles[\"show_id\"],\n",
    "                                          \"ListedIn\": netflix_titles[\"listed_in\"]})\n",
    "netflix_titles_directors = pd.DataFrame ({\"Titles\": netflix_titles[\"show_id\"],\n",
    "                                          \"Director\": netflix_titles[\"director\"]})\n",
    "netflix_titles_casts = pd.DataFrame ({\"Titles\": netflix_titles[\"show_id\"],\n",
    "                                          \"Cast\": netflix_titles[\"cast\"]})"
   ]
  },
  {
   "cell_type": "code",
   "execution_count": 3,
   "metadata": {},
   "outputs": [],
   "source": [
    "netflix_titles_countries.Country = netflix_titles_countries.Country.str.split(', ')\n",
    "netflix_titles_listed_in.ListedIn = netflix_titles_listed_in.ListedIn.str.split(', ')\n",
    "netflix_titles_directors.Director = netflix_titles_directors.Director.str.split(', ')\n",
    "netflix_titles_casts.Cast = netflix_titles_casts.Cast.str.split(', ')"
   ]
  },
  {
   "cell_type": "code",
   "execution_count": 4,
   "metadata": {},
   "outputs": [],
   "source": [
    "netflix_titles_countries = netflix_titles_countries.explode('Country').reset_index(drop=True)\n",
    "netflix_titles_listed_in = netflix_titles_listed_in.explode('ListedIn').reset_index(drop=True)\n",
    "netflix_titles_directors = netflix_titles_directors.explode('Director').reset_index(drop=True)\n",
    "netflix_titles_casts = netflix_titles_casts.explode('Cast').reset_index(drop=True)"
   ]
  },
  {
   "cell_type": "code",
   "execution_count": 5,
   "metadata": {},
   "outputs": [
    {
     "data": {
      "text/html": [
       "<div>\n",
       "<style scoped>\n",
       "    .dataframe tbody tr th:only-of-type {\n",
       "        vertical-align: middle;\n",
       "    }\n",
       "\n",
       "    .dataframe tbody tr th {\n",
       "        vertical-align: top;\n",
       "    }\n",
       "\n",
       "    .dataframe thead th {\n",
       "        text-align: right;\n",
       "    }\n",
       "</style>\n",
       "<table border=\"1\" class=\"dataframe\">\n",
       "  <thead>\n",
       "    <tr style=\"text-align: right;\">\n",
       "      <th></th>\n",
       "      <th>Titles</th>\n",
       "      <th>Country</th>\n",
       "    </tr>\n",
       "  </thead>\n",
       "  <tbody>\n",
       "    <tr>\n",
       "      <th>0</th>\n",
       "      <td>80163890</td>\n",
       "      <td>Spain</td>\n",
       "    </tr>\n",
       "    <tr>\n",
       "      <th>1</th>\n",
       "      <td>70304989</td>\n",
       "      <td>Bulgaria</td>\n",
       "    </tr>\n",
       "    <tr>\n",
       "      <th>2</th>\n",
       "      <td>70304989</td>\n",
       "      <td>United States</td>\n",
       "    </tr>\n",
       "    <tr>\n",
       "      <th>3</th>\n",
       "      <td>70304989</td>\n",
       "      <td>Spain</td>\n",
       "    </tr>\n",
       "    <tr>\n",
       "      <th>4</th>\n",
       "      <td>70304989</td>\n",
       "      <td>Canada</td>\n",
       "    </tr>\n",
       "    <tr>\n",
       "      <th>5</th>\n",
       "      <td>70304990</td>\n",
       "      <td>United States</td>\n",
       "    </tr>\n",
       "    <tr>\n",
       "      <th>6</th>\n",
       "      <td>70304990</td>\n",
       "      <td>United Kingdom</td>\n",
       "    </tr>\n",
       "    <tr>\n",
       "      <th>7</th>\n",
       "      <td>70304990</td>\n",
       "      <td>Denmark</td>\n",
       "    </tr>\n",
       "    <tr>\n",
       "      <th>8</th>\n",
       "      <td>70304990</td>\n",
       "      <td>Sweden</td>\n",
       "    </tr>\n",
       "    <tr>\n",
       "      <th>9</th>\n",
       "      <td>80169755</td>\n",
       "      <td>Country Not Available</td>\n",
       "    </tr>\n",
       "    <tr>\n",
       "      <th>10</th>\n",
       "      <td>70299204</td>\n",
       "      <td>Netherlands</td>\n",
       "    </tr>\n",
       "    <tr>\n",
       "      <th>11</th>\n",
       "      <td>70299204</td>\n",
       "      <td>Belgium</td>\n",
       "    </tr>\n",
       "    <tr>\n",
       "      <th>12</th>\n",
       "      <td>70299204</td>\n",
       "      <td>United Kingdom</td>\n",
       "    </tr>\n",
       "    <tr>\n",
       "      <th>13</th>\n",
       "      <td>70299204</td>\n",
       "      <td>United States</td>\n",
       "    </tr>\n",
       "    <tr>\n",
       "      <th>14</th>\n",
       "      <td>80060297</td>\n",
       "      <td>United States</td>\n",
       "    </tr>\n",
       "    <tr>\n",
       "      <th>15</th>\n",
       "      <td>80046728</td>\n",
       "      <td>France</td>\n",
       "    </tr>\n",
       "    <tr>\n",
       "      <th>16</th>\n",
       "      <td>80046728</td>\n",
       "      <td>Belgium</td>\n",
       "    </tr>\n",
       "    <tr>\n",
       "      <th>17</th>\n",
       "      <td>80046727</td>\n",
       "      <td>United States</td>\n",
       "    </tr>\n",
       "    <tr>\n",
       "      <th>18</th>\n",
       "      <td>80046727</td>\n",
       "      <td>Uruguay</td>\n",
       "    </tr>\n",
       "    <tr>\n",
       "      <th>19</th>\n",
       "      <td>70304988</td>\n",
       "      <td>United States</td>\n",
       "    </tr>\n",
       "    <tr>\n",
       "      <th>20</th>\n",
       "      <td>80057700</td>\n",
       "      <td>United States</td>\n",
       "    </tr>\n",
       "    <tr>\n",
       "      <th>21</th>\n",
       "      <td>80045922</td>\n",
       "      <td>United States</td>\n",
       "    </tr>\n",
       "    <tr>\n",
       "      <th>22</th>\n",
       "      <td>80203094</td>\n",
       "      <td>United States,</td>\n",
       "    </tr>\n",
       "    <tr>\n",
       "      <th>23</th>\n",
       "      <td>80190843</td>\n",
       "      <td>Country Not Available</td>\n",
       "    </tr>\n",
       "    <tr>\n",
       "      <th>24</th>\n",
       "      <td>70241607</td>\n",
       "      <td>Thailand</td>\n",
       "    </tr>\n",
       "    <tr>\n",
       "      <th>25</th>\n",
       "      <td>80988892</td>\n",
       "      <td>China</td>\n",
       "    </tr>\n",
       "    <tr>\n",
       "      <th>26</th>\n",
       "      <td>80988892</td>\n",
       "      <td>Canada</td>\n",
       "    </tr>\n",
       "    <tr>\n",
       "      <th>27</th>\n",
       "      <td>80988892</td>\n",
       "      <td>United States</td>\n",
       "    </tr>\n",
       "    <tr>\n",
       "      <th>28</th>\n",
       "      <td>80159586</td>\n",
       "      <td>Belgium</td>\n",
       "    </tr>\n",
       "    <tr>\n",
       "      <th>29</th>\n",
       "      <td>80159586</td>\n",
       "      <td>United Kingdom</td>\n",
       "    </tr>\n",
       "  </tbody>\n",
       "</table>\n",
       "</div>"
      ],
      "text/plain": [
       "      Titles                Country\n",
       "0   80163890                  Spain\n",
       "1   70304989               Bulgaria\n",
       "2   70304989          United States\n",
       "3   70304989                  Spain\n",
       "4   70304989                 Canada\n",
       "5   70304990          United States\n",
       "6   70304990         United Kingdom\n",
       "7   70304990                Denmark\n",
       "8   70304990                 Sweden\n",
       "9   80169755  Country Not Available\n",
       "10  70299204            Netherlands\n",
       "11  70299204                Belgium\n",
       "12  70299204         United Kingdom\n",
       "13  70299204          United States\n",
       "14  80060297          United States\n",
       "15  80046728                 France\n",
       "16  80046728                Belgium\n",
       "17  80046727          United States\n",
       "18  80046727                Uruguay\n",
       "19  70304988          United States\n",
       "20  80057700          United States\n",
       "21  80045922          United States\n",
       "22  80203094         United States,\n",
       "23  80190843  Country Not Available\n",
       "24  70241607               Thailand\n",
       "25  80988892                  China\n",
       "26  80988892                 Canada\n",
       "27  80988892          United States\n",
       "28  80159586                Belgium\n",
       "29  80159586         United Kingdom"
      ]
     },
     "execution_count": 5,
     "metadata": {},
     "output_type": "execute_result"
    }
   ],
   "source": [
    "netflix_titles_countries.head (30)"
   ]
  },
  {
   "cell_type": "code",
   "execution_count": 6,
   "metadata": {},
   "outputs": [
    {
     "data": {
      "text/html": [
       "<div>\n",
       "<style scoped>\n",
       "    .dataframe tbody tr th:only-of-type {\n",
       "        vertical-align: middle;\n",
       "    }\n",
       "\n",
       "    .dataframe tbody tr th {\n",
       "        vertical-align: top;\n",
       "    }\n",
       "\n",
       "    .dataframe thead th {\n",
       "        text-align: right;\n",
       "    }\n",
       "</style>\n",
       "<table border=\"1\" class=\"dataframe\">\n",
       "  <thead>\n",
       "    <tr style=\"text-align: right;\">\n",
       "      <th></th>\n",
       "      <th>Titles</th>\n",
       "      <th>ListedIn</th>\n",
       "    </tr>\n",
       "  </thead>\n",
       "  <tbody>\n",
       "    <tr>\n",
       "      <th>0</th>\n",
       "      <td>80163890</td>\n",
       "      <td>Crime TV Shows</td>\n",
       "    </tr>\n",
       "    <tr>\n",
       "      <th>1</th>\n",
       "      <td>80163890</td>\n",
       "      <td>International TV Shows</td>\n",
       "    </tr>\n",
       "    <tr>\n",
       "      <th>2</th>\n",
       "      <td>80163890</td>\n",
       "      <td>Spanish-Language TV Shows</td>\n",
       "    </tr>\n",
       "    <tr>\n",
       "      <th>3</th>\n",
       "      <td>70304989</td>\n",
       "      <td>International Movies</td>\n",
       "    </tr>\n",
       "    <tr>\n",
       "      <th>4</th>\n",
       "      <td>70304989</td>\n",
       "      <td>Sci-Fi &amp; Fantasy</td>\n",
       "    </tr>\n",
       "    <tr>\n",
       "      <th>5</th>\n",
       "      <td>70304989</td>\n",
       "      <td>Thrillers</td>\n",
       "    </tr>\n",
       "    <tr>\n",
       "      <th>6</th>\n",
       "      <td>70304990</td>\n",
       "      <td>Action &amp; Adventure</td>\n",
       "    </tr>\n",
       "    <tr>\n",
       "      <th>7</th>\n",
       "      <td>70304990</td>\n",
       "      <td>Thrillers</td>\n",
       "    </tr>\n",
       "    <tr>\n",
       "      <th>8</th>\n",
       "      <td>80169755</td>\n",
       "      <td>Stand-Up Comedy</td>\n",
       "    </tr>\n",
       "    <tr>\n",
       "      <th>9</th>\n",
       "      <td>70299204</td>\n",
       "      <td>Action &amp; Adventure</td>\n",
       "    </tr>\n",
       "    <tr>\n",
       "      <th>10</th>\n",
       "      <td>70299204</td>\n",
       "      <td>Dramas</td>\n",
       "    </tr>\n",
       "    <tr>\n",
       "      <th>11</th>\n",
       "      <td>70299204</td>\n",
       "      <td>International Movies</td>\n",
       "    </tr>\n",
       "    <tr>\n",
       "      <th>12</th>\n",
       "      <td>80060297</td>\n",
       "      <td>Comedies</td>\n",
       "    </tr>\n",
       "    <tr>\n",
       "      <th>13</th>\n",
       "      <td>80060297</td>\n",
       "      <td>Independent Movies</td>\n",
       "    </tr>\n",
       "    <tr>\n",
       "      <th>14</th>\n",
       "      <td>80060297</td>\n",
       "      <td>Romantic Movies</td>\n",
       "    </tr>\n",
       "    <tr>\n",
       "      <th>15</th>\n",
       "      <td>80046728</td>\n",
       "      <td>Action &amp; Adventure</td>\n",
       "    </tr>\n",
       "    <tr>\n",
       "      <th>16</th>\n",
       "      <td>80046728</td>\n",
       "      <td>Comedies</td>\n",
       "    </tr>\n",
       "    <tr>\n",
       "      <th>17</th>\n",
       "      <td>80046728</td>\n",
       "      <td>International Movies</td>\n",
       "    </tr>\n",
       "    <tr>\n",
       "      <th>18</th>\n",
       "      <td>80046727</td>\n",
       "      <td>Documentaries</td>\n",
       "    </tr>\n",
       "    <tr>\n",
       "      <th>19</th>\n",
       "      <td>70304988</td>\n",
       "      <td>Horror Movies</td>\n",
       "    </tr>\n",
       "    <tr>\n",
       "      <th>20</th>\n",
       "      <td>70304988</td>\n",
       "      <td>Thrillers</td>\n",
       "    </tr>\n",
       "    <tr>\n",
       "      <th>21</th>\n",
       "      <td>80057700</td>\n",
       "      <td>Dramas</td>\n",
       "    </tr>\n",
       "    <tr>\n",
       "      <th>22</th>\n",
       "      <td>80057700</td>\n",
       "      <td>Independent Movies</td>\n",
       "    </tr>\n",
       "    <tr>\n",
       "      <th>23</th>\n",
       "      <td>80045922</td>\n",
       "      <td>Dramas</td>\n",
       "    </tr>\n",
       "    <tr>\n",
       "      <th>24</th>\n",
       "      <td>80045922</td>\n",
       "      <td>Independent Movies</td>\n",
       "    </tr>\n",
       "    <tr>\n",
       "      <th>25</th>\n",
       "      <td>80045922</td>\n",
       "      <td>Romantic Movies</td>\n",
       "    </tr>\n",
       "    <tr>\n",
       "      <th>26</th>\n",
       "      <td>80203094</td>\n",
       "      <td>Documentaries</td>\n",
       "    </tr>\n",
       "    <tr>\n",
       "      <th>27</th>\n",
       "      <td>80190843</td>\n",
       "      <td>Docuseries</td>\n",
       "    </tr>\n",
       "    <tr>\n",
       "      <th>28</th>\n",
       "      <td>70241607</td>\n",
       "      <td>Horror Movies</td>\n",
       "    </tr>\n",
       "    <tr>\n",
       "      <th>29</th>\n",
       "      <td>70241607</td>\n",
       "      <td>International Movies</td>\n",
       "    </tr>\n",
       "  </tbody>\n",
       "</table>\n",
       "</div>"
      ],
      "text/plain": [
       "      Titles                   ListedIn\n",
       "0   80163890             Crime TV Shows\n",
       "1   80163890     International TV Shows\n",
       "2   80163890  Spanish-Language TV Shows\n",
       "3   70304989       International Movies\n",
       "4   70304989           Sci-Fi & Fantasy\n",
       "5   70304989                  Thrillers\n",
       "6   70304990         Action & Adventure\n",
       "7   70304990                  Thrillers\n",
       "8   80169755            Stand-Up Comedy\n",
       "9   70299204         Action & Adventure\n",
       "10  70299204                     Dramas\n",
       "11  70299204       International Movies\n",
       "12  80060297                   Comedies\n",
       "13  80060297         Independent Movies\n",
       "14  80060297            Romantic Movies\n",
       "15  80046728         Action & Adventure\n",
       "16  80046728                   Comedies\n",
       "17  80046728       International Movies\n",
       "18  80046727              Documentaries\n",
       "19  70304988              Horror Movies\n",
       "20  70304988                  Thrillers\n",
       "21  80057700                     Dramas\n",
       "22  80057700         Independent Movies\n",
       "23  80045922                     Dramas\n",
       "24  80045922         Independent Movies\n",
       "25  80045922            Romantic Movies\n",
       "26  80203094              Documentaries\n",
       "27  80190843                 Docuseries\n",
       "28  70241607              Horror Movies\n",
       "29  70241607       International Movies"
      ]
     },
     "execution_count": 6,
     "metadata": {},
     "output_type": "execute_result"
    }
   ],
   "source": [
    "netflix_titles_listed_in.head (30)"
   ]
  },
  {
   "cell_type": "code",
   "execution_count": 7,
   "metadata": {},
   "outputs": [
    {
     "data": {
      "text/html": [
       "<div>\n",
       "<style scoped>\n",
       "    .dataframe tbody tr th:only-of-type {\n",
       "        vertical-align: middle;\n",
       "    }\n",
       "\n",
       "    .dataframe tbody tr th {\n",
       "        vertical-align: top;\n",
       "    }\n",
       "\n",
       "    .dataframe thead th {\n",
       "        text-align: right;\n",
       "    }\n",
       "</style>\n",
       "<table border=\"1\" class=\"dataframe\">\n",
       "  <thead>\n",
       "    <tr style=\"text-align: right;\">\n",
       "      <th></th>\n",
       "      <th>Titles</th>\n",
       "      <th>Director</th>\n",
       "    </tr>\n",
       "  </thead>\n",
       "  <tbody>\n",
       "    <tr>\n",
       "      <th>0</th>\n",
       "      <td>80163890</td>\n",
       "      <td>Director Not Available</td>\n",
       "    </tr>\n",
       "    <tr>\n",
       "      <th>1</th>\n",
       "      <td>70304989</td>\n",
       "      <td>Gabe Ibáñez</td>\n",
       "    </tr>\n",
       "    <tr>\n",
       "      <th>2</th>\n",
       "      <td>70304990</td>\n",
       "      <td>Henrik Ruben Genz</td>\n",
       "    </tr>\n",
       "    <tr>\n",
       "      <th>3</th>\n",
       "      <td>80169755</td>\n",
       "      <td>José Miguel Contreras</td>\n",
       "    </tr>\n",
       "    <tr>\n",
       "      <th>4</th>\n",
       "      <td>70299204</td>\n",
       "      <td>Daniel Alfredson</td>\n",
       "    </tr>\n",
       "    <tr>\n",
       "      <th>5</th>\n",
       "      <td>80060297</td>\n",
       "      <td>Tom O'Brien</td>\n",
       "    </tr>\n",
       "    <tr>\n",
       "      <th>6</th>\n",
       "      <td>80046728</td>\n",
       "      <td>Antoine Bardou-Jacquet</td>\n",
       "    </tr>\n",
       "    <tr>\n",
       "      <th>7</th>\n",
       "      <td>80046727</td>\n",
       "      <td>Mitch Dickman</td>\n",
       "    </tr>\n",
       "    <tr>\n",
       "      <th>8</th>\n",
       "      <td>70304988</td>\n",
       "      <td>Brad Anderson</td>\n",
       "    </tr>\n",
       "    <tr>\n",
       "      <th>9</th>\n",
       "      <td>80057700</td>\n",
       "      <td>Austin Stark</td>\n",
       "    </tr>\n",
       "    <tr>\n",
       "      <th>10</th>\n",
       "      <td>80045922</td>\n",
       "      <td>Hannah Fidell</td>\n",
       "    </tr>\n",
       "    <tr>\n",
       "      <th>11</th>\n",
       "      <td>80203094</td>\n",
       "      <td>Madeleine Gavin</td>\n",
       "    </tr>\n",
       "    <tr>\n",
       "      <th>12</th>\n",
       "      <td>80190843</td>\n",
       "      <td>Director Not Available</td>\n",
       "    </tr>\n",
       "    <tr>\n",
       "      <th>13</th>\n",
       "      <td>70241607</td>\n",
       "      <td>Sopon Sukdapisit</td>\n",
       "    </tr>\n",
       "    <tr>\n",
       "      <th>14</th>\n",
       "      <td>80988892</td>\n",
       "      <td>Kevin R. Adams</td>\n",
       "    </tr>\n",
       "    <tr>\n",
       "      <th>15</th>\n",
       "      <td>80988892</td>\n",
       "      <td>Joe Ksander</td>\n",
       "    </tr>\n",
       "    <tr>\n",
       "      <th>16</th>\n",
       "      <td>80159586</td>\n",
       "      <td>Franck Ribière</td>\n",
       "    </tr>\n",
       "    <tr>\n",
       "      <th>17</th>\n",
       "      <td>81154455</td>\n",
       "      <td>Anubhav Sinha</td>\n",
       "    </tr>\n",
       "    <tr>\n",
       "      <th>18</th>\n",
       "      <td>81052275</td>\n",
       "      <td>Tharun Bhascker</td>\n",
       "    </tr>\n",
       "    <tr>\n",
       "      <th>19</th>\n",
       "      <td>80162141</td>\n",
       "      <td>Robert Osman</td>\n",
       "    </tr>\n",
       "    <tr>\n",
       "      <th>20</th>\n",
       "      <td>80162141</td>\n",
       "      <td>Nathanael Wiseman</td>\n",
       "    </tr>\n",
       "    <tr>\n",
       "      <th>21</th>\n",
       "      <td>80095641</td>\n",
       "      <td>Jon Spira</td>\n",
       "    </tr>\n",
       "    <tr>\n",
       "      <th>22</th>\n",
       "      <td>80159880</td>\n",
       "      <td>Mez Tharatorn</td>\n",
       "    </tr>\n",
       "    <tr>\n",
       "      <th>23</th>\n",
       "      <td>81016045</td>\n",
       "      <td>Banjong Pisanthanakun</td>\n",
       "    </tr>\n",
       "    <tr>\n",
       "      <th>24</th>\n",
       "      <td>81016045</td>\n",
       "      <td>Banjong Pisanthanakun</td>\n",
       "    </tr>\n",
       "    <tr>\n",
       "      <th>25</th>\n",
       "      <td>70184051</td>\n",
       "      <td>Lone Scherfig</td>\n",
       "    </tr>\n",
       "    <tr>\n",
       "      <th>26</th>\n",
       "      <td>70184051</td>\n",
       "      <td>Lone Scherfig</td>\n",
       "    </tr>\n",
       "    <tr>\n",
       "      <th>27</th>\n",
       "      <td>70142798</td>\n",
       "      <td>Banjong Pisanthanakun</td>\n",
       "    </tr>\n",
       "    <tr>\n",
       "      <th>28</th>\n",
       "      <td>70142798</td>\n",
       "      <td>Paween Purikitpanya</td>\n",
       "    </tr>\n",
       "    <tr>\n",
       "      <th>29</th>\n",
       "      <td>70142798</td>\n",
       "      <td>Songyos Sugmakanan</td>\n",
       "    </tr>\n",
       "  </tbody>\n",
       "</table>\n",
       "</div>"
      ],
      "text/plain": [
       "      Titles                Director\n",
       "0   80163890  Director Not Available\n",
       "1   70304989             Gabe Ibáñez\n",
       "2   70304990       Henrik Ruben Genz\n",
       "3   80169755   José Miguel Contreras\n",
       "4   70299204        Daniel Alfredson\n",
       "5   80060297             Tom O'Brien\n",
       "6   80046728  Antoine Bardou-Jacquet\n",
       "7   80046727           Mitch Dickman\n",
       "8   70304988           Brad Anderson\n",
       "9   80057700            Austin Stark\n",
       "10  80045922           Hannah Fidell\n",
       "11  80203094         Madeleine Gavin\n",
       "12  80190843  Director Not Available\n",
       "13  70241607        Sopon Sukdapisit\n",
       "14  80988892          Kevin R. Adams\n",
       "15  80988892             Joe Ksander\n",
       "16  80159586          Franck Ribière\n",
       "17  81154455           Anubhav Sinha\n",
       "18  81052275         Tharun Bhascker\n",
       "19  80162141            Robert Osman\n",
       "20  80162141       Nathanael Wiseman\n",
       "21  80095641               Jon Spira\n",
       "22  80159880           Mez Tharatorn\n",
       "23  81016045   Banjong Pisanthanakun\n",
       "24  81016045   Banjong Pisanthanakun\n",
       "25  70184051           Lone Scherfig\n",
       "26  70184051           Lone Scherfig\n",
       "27  70142798   Banjong Pisanthanakun\n",
       "28  70142798     Paween Purikitpanya\n",
       "29  70142798      Songyos Sugmakanan"
      ]
     },
     "execution_count": 7,
     "metadata": {},
     "output_type": "execute_result"
    }
   ],
   "source": [
    "netflix_titles_directors.head(30)"
   ]
  },
  {
   "cell_type": "code",
   "execution_count": 8,
   "metadata": {},
   "outputs": [
    {
     "data": {
      "text/html": [
       "<div>\n",
       "<style scoped>\n",
       "    .dataframe tbody tr th:only-of-type {\n",
       "        vertical-align: middle;\n",
       "    }\n",
       "\n",
       "    .dataframe tbody tr th {\n",
       "        vertical-align: top;\n",
       "    }\n",
       "\n",
       "    .dataframe thead th {\n",
       "        text-align: right;\n",
       "    }\n",
       "</style>\n",
       "<table border=\"1\" class=\"dataframe\">\n",
       "  <thead>\n",
       "    <tr style=\"text-align: right;\">\n",
       "      <th></th>\n",
       "      <th>Titles</th>\n",
       "      <th>Cast</th>\n",
       "    </tr>\n",
       "  </thead>\n",
       "  <tbody>\n",
       "    <tr>\n",
       "      <th>0</th>\n",
       "      <td>80163890</td>\n",
       "      <td>Alberto Ammann</td>\n",
       "    </tr>\n",
       "    <tr>\n",
       "      <th>1</th>\n",
       "      <td>80163890</td>\n",
       "      <td>Eloy Azorín</td>\n",
       "    </tr>\n",
       "    <tr>\n",
       "      <th>2</th>\n",
       "      <td>80163890</td>\n",
       "      <td>Verónica Echegui</td>\n",
       "    </tr>\n",
       "    <tr>\n",
       "      <th>3</th>\n",
       "      <td>80163890</td>\n",
       "      <td>Lucía Jiménez</td>\n",
       "    </tr>\n",
       "    <tr>\n",
       "      <th>4</th>\n",
       "      <td>80163890</td>\n",
       "      <td>Claudia Traisac</td>\n",
       "    </tr>\n",
       "    <tr>\n",
       "      <th>5</th>\n",
       "      <td>70304989</td>\n",
       "      <td>Antonio Banderas</td>\n",
       "    </tr>\n",
       "    <tr>\n",
       "      <th>6</th>\n",
       "      <td>70304989</td>\n",
       "      <td>Dylan McDermott</td>\n",
       "    </tr>\n",
       "    <tr>\n",
       "      <th>7</th>\n",
       "      <td>70304989</td>\n",
       "      <td>Melanie Griffith</td>\n",
       "    </tr>\n",
       "    <tr>\n",
       "      <th>8</th>\n",
       "      <td>70304989</td>\n",
       "      <td>Birgitte Hjort Sørensen</td>\n",
       "    </tr>\n",
       "    <tr>\n",
       "      <th>9</th>\n",
       "      <td>70304989</td>\n",
       "      <td>Robert Forster</td>\n",
       "    </tr>\n",
       "    <tr>\n",
       "      <th>10</th>\n",
       "      <td>70304989</td>\n",
       "      <td>Christa Campbell</td>\n",
       "    </tr>\n",
       "    <tr>\n",
       "      <th>11</th>\n",
       "      <td>70304989</td>\n",
       "      <td>Tim McInnerny</td>\n",
       "    </tr>\n",
       "    <tr>\n",
       "      <th>12</th>\n",
       "      <td>70304989</td>\n",
       "      <td>Andy Nyman</td>\n",
       "    </tr>\n",
       "    <tr>\n",
       "      <th>13</th>\n",
       "      <td>70304989</td>\n",
       "      <td>David Ryall</td>\n",
       "    </tr>\n",
       "    <tr>\n",
       "      <th>14</th>\n",
       "      <td>70304990</td>\n",
       "      <td>James Franco</td>\n",
       "    </tr>\n",
       "    <tr>\n",
       "      <th>15</th>\n",
       "      <td>70304990</td>\n",
       "      <td>Kate Hudson</td>\n",
       "    </tr>\n",
       "    <tr>\n",
       "      <th>16</th>\n",
       "      <td>70304990</td>\n",
       "      <td>Tom Wilkinson</td>\n",
       "    </tr>\n",
       "    <tr>\n",
       "      <th>17</th>\n",
       "      <td>70304990</td>\n",
       "      <td>Omar Sy</td>\n",
       "    </tr>\n",
       "    <tr>\n",
       "      <th>18</th>\n",
       "      <td>70304990</td>\n",
       "      <td>Sam Spruell</td>\n",
       "    </tr>\n",
       "    <tr>\n",
       "      <th>19</th>\n",
       "      <td>70304990</td>\n",
       "      <td>Anna Friel</td>\n",
       "    </tr>\n",
       "    <tr>\n",
       "      <th>20</th>\n",
       "      <td>70304990</td>\n",
       "      <td>Thomas Arnold</td>\n",
       "    </tr>\n",
       "    <tr>\n",
       "      <th>21</th>\n",
       "      <td>70304990</td>\n",
       "      <td>Oliver Dimsdale</td>\n",
       "    </tr>\n",
       "    <tr>\n",
       "      <th>22</th>\n",
       "      <td>70304990</td>\n",
       "      <td>Diana Hardcastle</td>\n",
       "    </tr>\n",
       "    <tr>\n",
       "      <th>23</th>\n",
       "      <td>70304990</td>\n",
       "      <td>Michael Jibson</td>\n",
       "    </tr>\n",
       "    <tr>\n",
       "      <th>24</th>\n",
       "      <td>70304990</td>\n",
       "      <td>Diarmaid Murtagh</td>\n",
       "    </tr>\n",
       "    <tr>\n",
       "      <th>25</th>\n",
       "      <td>80169755</td>\n",
       "      <td>Joaquín Reyes</td>\n",
       "    </tr>\n",
       "    <tr>\n",
       "      <th>26</th>\n",
       "      <td>70299204</td>\n",
       "      <td>Jim Sturgess</td>\n",
       "    </tr>\n",
       "    <tr>\n",
       "      <th>27</th>\n",
       "      <td>70299204</td>\n",
       "      <td>Sam Worthington</td>\n",
       "    </tr>\n",
       "    <tr>\n",
       "      <th>28</th>\n",
       "      <td>70299204</td>\n",
       "      <td>Ryan Kwanten</td>\n",
       "    </tr>\n",
       "    <tr>\n",
       "      <th>29</th>\n",
       "      <td>70299204</td>\n",
       "      <td>Anthony Hopkins</td>\n",
       "    </tr>\n",
       "  </tbody>\n",
       "</table>\n",
       "</div>"
      ],
      "text/plain": [
       "      Titles                     Cast\n",
       "0   80163890           Alberto Ammann\n",
       "1   80163890              Eloy Azorín\n",
       "2   80163890         Verónica Echegui\n",
       "3   80163890            Lucía Jiménez\n",
       "4   80163890          Claudia Traisac\n",
       "5   70304989         Antonio Banderas\n",
       "6   70304989          Dylan McDermott\n",
       "7   70304989         Melanie Griffith\n",
       "8   70304989  Birgitte Hjort Sørensen\n",
       "9   70304989           Robert Forster\n",
       "10  70304989         Christa Campbell\n",
       "11  70304989            Tim McInnerny\n",
       "12  70304989               Andy Nyman\n",
       "13  70304989              David Ryall\n",
       "14  70304990             James Franco\n",
       "15  70304990              Kate Hudson\n",
       "16  70304990            Tom Wilkinson\n",
       "17  70304990                  Omar Sy\n",
       "18  70304990              Sam Spruell\n",
       "19  70304990               Anna Friel\n",
       "20  70304990            Thomas Arnold\n",
       "21  70304990          Oliver Dimsdale\n",
       "22  70304990         Diana Hardcastle\n",
       "23  70304990           Michael Jibson\n",
       "24  70304990         Diarmaid Murtagh\n",
       "25  80169755            Joaquín Reyes\n",
       "26  70299204             Jim Sturgess\n",
       "27  70299204          Sam Worthington\n",
       "28  70299204             Ryan Kwanten\n",
       "29  70299204          Anthony Hopkins"
      ]
     },
     "execution_count": 8,
     "metadata": {},
     "output_type": "execute_result"
    }
   ],
   "source": [
    "netflix_titles_casts.head(30)"
   ]
  },
  {
   "cell_type": "code",
   "execution_count": 9,
   "metadata": {},
   "outputs": [
    {
     "data": {
      "text/html": [
       "<div>\n",
       "<style scoped>\n",
       "    .dataframe tbody tr th:only-of-type {\n",
       "        vertical-align: middle;\n",
       "    }\n",
       "\n",
       "    .dataframe tbody tr th {\n",
       "        vertical-align: top;\n",
       "    }\n",
       "\n",
       "    .dataframe thead th {\n",
       "        text-align: right;\n",
       "    }\n",
       "</style>\n",
       "<table border=\"1\" class=\"dataframe\">\n",
       "  <thead>\n",
       "    <tr style=\"text-align: right;\">\n",
       "      <th></th>\n",
       "      <th>country</th>\n",
       "      <th>latitude</th>\n",
       "      <th>longitude</th>\n",
       "      <th>name</th>\n",
       "    </tr>\n",
       "  </thead>\n",
       "  <tbody>\n",
       "    <tr>\n",
       "      <th>0</th>\n",
       "      <td>AD</td>\n",
       "      <td>42.546245</td>\n",
       "      <td>1.601554</td>\n",
       "      <td>Andorra</td>\n",
       "    </tr>\n",
       "    <tr>\n",
       "      <th>1</th>\n",
       "      <td>AE</td>\n",
       "      <td>23.424076</td>\n",
       "      <td>53.847818</td>\n",
       "      <td>United Arab Emirates</td>\n",
       "    </tr>\n",
       "    <tr>\n",
       "      <th>2</th>\n",
       "      <td>AF</td>\n",
       "      <td>33.939110</td>\n",
       "      <td>67.709953</td>\n",
       "      <td>Afghanistan</td>\n",
       "    </tr>\n",
       "    <tr>\n",
       "      <th>3</th>\n",
       "      <td>AG</td>\n",
       "      <td>17.060816</td>\n",
       "      <td>-61.796428</td>\n",
       "      <td>Antigua and Barbuda</td>\n",
       "    </tr>\n",
       "    <tr>\n",
       "      <th>4</th>\n",
       "      <td>AI</td>\n",
       "      <td>18.220554</td>\n",
       "      <td>-63.068615</td>\n",
       "      <td>Anguilla</td>\n",
       "    </tr>\n",
       "  </tbody>\n",
       "</table>\n",
       "</div>"
      ],
      "text/plain": [
       "  country   latitude  longitude                  name\n",
       "0      AD  42.546245   1.601554               Andorra\n",
       "1      AE  23.424076  53.847818  United Arab Emirates\n",
       "2      AF  33.939110  67.709953           Afghanistan\n",
       "3      AG  17.060816 -61.796428   Antigua and Barbuda\n",
       "4      AI  18.220554 -63.068615              Anguilla"
      ]
     },
     "execution_count": 9,
     "metadata": {},
     "output_type": "execute_result"
    }
   ],
   "source": [
    "Countries_path = 'data\\countries.csv'\n",
    "lats, lons = [], []\n",
    "\n",
    "Countries = pd.read_csv(Countries_path)\n",
    "lats = [float(i) for i in Countries.latitude.tolist()]\n",
    "lons = [float(i) for i in Countries.longitude.tolist()]\n",
    "Countries.head()"
   ]
  },
  {
   "cell_type": "code",
   "execution_count": 10,
   "metadata": {},
   "outputs": [],
   "source": [
    "netflix_titles_countries_count = netflix_titles_countries.groupby(\"Country\").count()\n",
    "\n",
    "netflix_titles_countries_count.head()\n",
    "netflix_titles_countries_count_merged_position = netflix_titles_countries_count.merge (Countries, left_on='Country', right_on='name')\n",
    "netflix_titles_countries_count_merged_names = netflix_titles_countries_count_merged_position.name.tolist()"
   ]
  },
  {
   "cell_type": "code",
   "execution_count": 52,
   "metadata": {},
   "outputs": [],
   "source": [
    "\"\"\"list1 = netflix_titles_countries_count.Titles.tolist()\n",
    "\n",
    "m = interp1d ([1,max(list1)],[1,20])\n",
    "circle_radius = m(list1)\n",
    "\n",
    "bins = [0, 199999, 399999, 599999, 799999, 999999,\n",
    "        1999999, 2999999, 3999999, 4999999, 50000000]\n",
    "print(sorted(list1))\n",
    "\"\"\"\n",
    "list2 = []\n",
    "\n",
    "#list2 = [int(j) / max(list1[i]) for j,i in zip(list1, range(len(list1)))]\n",
    "\n",
    "#list2.remove(max_value)\n",
    "\n",
    "for i in range(len(list1)):\n",
    "    if list1[i] / 17 < 1:\n",
    "        list2.append (1)\n",
    "    elif list1[i] == max (list1):\n",
    "            list2.append (20)\n",
    "    elif list1[i] >150 :\n",
    "        list2.append (15)\n",
    "    else:\n",
    "        list2.append(int (list1[i] / 17))\n",
    "\n",
    "\"\"\"print (circle_radius)\n",
    "print ('----------------')\n",
    "print (list2)\"\"\"\n",
    "typelist = ['open-street-map','white-bg','carto-positron','carto-darkmatter','stamen-terrain','stamen-watercolor','satellite-streets']"
   ]
  },
  {
   "cell_type": "markdown",
   "metadata": {},
   "source": [
    "\"\"\"for i in typelist:\n",
    "        print (i)\n",
    "        fig = px.density_mapbox (netflix_titles_countries_count_merged_position, lat='latitude', lon='longitude', radius=circle_radius,\n",
    "                                zoom=1, mapbox_style=i)\n",
    "        fig.show ()\"\"\""
   ]
  },
  {
   "cell_type": "code",
   "execution_count": 53,
   "metadata": {},
   "outputs": [
    {
     "data": {
      "application/vnd.plotly.v1+json": {
       "config": {
        "plotlyServerURL": "https://plot.ly"
       },
       "data": [
        {
         "coloraxis": "coloraxis",
         "customdata": [
          [
           "Afghanistan",
           1
          ],
          [
           "Albania",
           1
          ],
          [
           "Argentina",
           33
          ],
          [
           "Armenia",
           1
          ],
          [
           "Australia",
           80
          ],
          [
           "Austria",
           6
          ],
          [
           "Azerbaijan",
           1
          ],
          [
           "Bangladesh",
           2
          ],
          [
           "Belgium",
           47
          ],
          [
           "Bermuda",
           1
          ],
          [
           "Botswana",
           1
          ],
          [
           "Brazil",
           34
          ],
          [
           "Bulgaria",
           7
          ],
          [
           "Cambodia",
           3
          ],
          [
           "Canada",
           199
          ],
          [
           "Cayman Islands",
           1
          ],
          [
           "Chile",
           14
          ],
          [
           "China",
           74
          ],
          [
           "Colombia",
           12
          ],
          [
           "Croatia",
           3
          ],
          [
           "Czech Republic",
           8
          ],
          [
           "Denmark",
           23
          ],
          [
           "Ecuador",
           1
          ],
          [
           "Egypt",
           21
          ],
          [
           "Finland",
           6
          ],
          [
           "France",
           159
          ],
          [
           "Georgia",
           1
          ],
          [
           "Germany",
           107
          ],
          [
           "Ghana",
           2
          ],
          [
           "Greece",
           2
          ],
          [
           "Hong Kong",
           67
          ],
          [
           "Hungary",
           4
          ],
          [
           "Iceland",
           5
          ],
          [
           "India",
           575
          ],
          [
           "Indonesia",
           30
          ],
          [
           "Iran",
           2
          ],
          [
           "Iraq",
           2
          ],
          [
           "Ireland",
           24
          ],
          [
           "Israel",
           15
          ],
          [
           "Italy",
           43
          ],
          [
           "Japan",
           65
          ],
          [
           "Jordan",
           4
          ],
          [
           "Kazakhstan",
           1
          ],
          [
           "Kenya",
           1
          ],
          [
           "Latvia",
           1
          ],
          [
           "Lebanon",
           3
          ],
          [
           "Liechtenstein",
           1
          ],
          [
           "Luxembourg",
           7
          ],
          [
           "Malawi",
           1
          ],
          [
           "Malaysia",
           11
          ],
          [
           "Malta",
           2
          ],
          [
           "Mexico",
           59
          ],
          [
           "Mongolia",
           1
          ],
          [
           "Montenegro",
           1
          ],
          [
           "Morocco",
           5
          ],
          [
           "Namibia",
           1
          ],
          [
           "Nepal",
           1
          ],
          [
           "Netherlands",
           23
          ],
          [
           "New Zealand",
           15
          ],
          [
           "Nicaragua",
           1
          ],
          [
           "Nigeria",
           28
          ],
          [
           "Norway",
           12
          ],
          [
           "Pakistan",
           13
          ],
          [
           "Panama",
           1
          ],
          [
           "Peru",
           6
          ],
          [
           "Philippines",
           36
          ],
          [
           "Poland",
           16
          ],
          [
           "Portugal",
           3
          ],
          [
           "Qatar",
           5
          ],
          [
           "Romania",
           4
          ],
          [
           "Russia",
           9
          ],
          [
           "Samoa",
           1
          ],
          [
           "Saudi Arabia",
           1
          ],
          [
           "Senegal",
           2
          ],
          [
           "Serbia",
           3
          ],
          [
           "Singapore",
           20
          ],
          [
           "Slovenia",
           2
          ],
          [
           "Somalia",
           1
          ],
          [
           "South Africa",
           20
          ],
          [
           "South Korea",
           50
          ],
          [
           "Spain",
           110
          ],
          [
           "Sri Lanka",
           1
          ],
          [
           "Sudan",
           1
          ],
          [
           "Sweden",
           23
          ],
          [
           "Switzerland",
           10
          ],
          [
           "Taiwan",
           16
          ],
          [
           "Thailand",
           24
          ],
          [
           "Turkey",
           27
          ],
          [
           "Uganda",
           1
          ],
          [
           "Ukraine",
           1
          ],
          [
           "United Arab Emirates",
           19
          ],
          [
           "United Kingdom",
           371
          ],
          [
           "United States",
           1772
          ],
          [
           "Uruguay",
           5
          ],
          [
           "Vatican City",
           1
          ],
          [
           "Venezuela",
           3
          ],
          [
           "Vietnam",
           2
          ],
          [
           "Zimbabwe",
           2
          ]
         ],
         "hovertemplate": "latitude=%{lat}<br>longitude=%{lon}<br>name=%{customdata[0]}<br>Titles=%{customdata[1]}<extra></extra>",
         "lat": [
          33.93911,
          41.153332,
          -38.416097,
          40.069099,
          -25.274398,
          47.516231,
          40.143105,
          23.684994,
          50.503887,
          32.321384,
          -22.328474,
          -14.235004,
          42.733883,
          12.565679,
          56.130366,
          19.513469,
          -35.675146999999996,
          35.86166,
          4.570868,
          45.1,
          49.817492,
          56.26392,
          -1.8312389999999998,
          26.820553000000004,
          61.92411,
          46.227638,
          42.315407,
          51.165690999999995,
          7.946527000000001,
          39.074208,
          22.396428,
          47.162494,
          64.96305100000001,
          20.593684,
          -0.789275,
          32.427908,
          33.223191,
          53.41291,
          31.046051000000002,
          41.87194,
          36.204824,
          30.585164000000002,
          48.019573,
          -0.023559,
          56.879635,
          33.854721000000005,
          47.166000000000004,
          49.815273,
          -13.254307999999998,
          4.210483999999999,
          35.937496,
          23.634501,
          46.862496,
          42.708678000000006,
          31.791702,
          -22.957639999999998,
          28.394857000000002,
          52.132633,
          -40.900557,
          12.865416,
          9.081999,
          60.472024,
          30.375321000000003,
          8.537981,
          -9.189967,
          12.879721,
          51.919438,
          39.399871999999995,
          25.354826,
          45.943160999999996,
          61.52401,
          -13.759029,
          23.885942,
          14.497401000000002,
          44.016521000000004,
          1.352083,
          46.151241,
          5.152149,
          -30.559482,
          35.907757000000004,
          40.463667,
          7.873054,
          12.862807,
          60.128161,
          46.818188,
          23.69781,
          15.870032,
          38.963745,
          1.373333,
          48.379433,
          23.424076,
          55.378051,
          37.09024,
          -32.522779,
          41.902916,
          6.42375,
          14.058323999999999,
          -19.015438
         ],
         "lon": [
          67.709953,
          20.168331,
          -63.616671999999994,
          45.038189,
          133.775136,
          14.550072,
          47.576927000000005,
          90.35633100000001,
          4.469936,
          -64.75737,
          24.684866,
          -51.92528,
          25.48583,
          104.990963,
          -106.34677099999999,
          -80.566956,
          -71.542969,
          104.195397,
          -74.297333,
          15.2,
          15.472961999999999,
          9.501785,
          -78.183406,
          30.802497999999996,
          25.748151,
          2.213749,
          43.356891999999995,
          10.451526,
          -1.0231940000000002,
          21.824312,
          114.10949699999999,
          19.503304,
          -19.020835,
          78.96288,
          113.921327,
          53.68804599999999,
          43.679291,
          -8.243889999999999,
          34.851612,
          12.56738,
          138.252924,
          36.238414,
          66.923684,
          37.906193,
          24.603189,
          35.862285,
          9.555373,
          6.129583,
          34.301525,
          101.97576600000001,
          14.375416,
          -102.552784,
          103.84665600000001,
          19.37439,
          -7.09262,
          18.49041,
          84.12400799999999,
          5.291266,
          174.88597099999998,
          -85.207229,
          8.675277000000001,
          8.468946,
          69.345116,
          -80.782127,
          -75.015152,
          121.77401699999999,
          19.145135999999997,
          -8.224454,
          51.183884,
          24.96676,
          105.31875600000001,
          -172.10462900000002,
          45.079162,
          -14.452361999999999,
          21.005859,
          103.819836,
          14.995463,
          46.199616,
          22.937506,
          127.766922,
          -3.7492199999999998,
          80.77179699999999,
          30.217636,
          18.643501,
          8.227511999999999,
          120.96051499999999,
          100.992541,
          35.243322,
          32.290275,
          31.16558,
          53.847818000000004,
          -3.435973,
          -95.712891,
          -55.765834999999996,
          12.453389,
          -66.58973,
          108.277199,
          29.154857
         ],
         "name": "",
         "radius": [
          1,
          1,
          1,
          1,
          4,
          1,
          1,
          1,
          2,
          1,
          1,
          2,
          1,
          1,
          15,
          1,
          1,
          4,
          1,
          15,
          1,
          1,
          1,
          1,
          1,
          1,
          1,
          15,
          1,
          6,
          1,
          1,
          3,
          1,
          1,
          15,
          1,
          1,
          1,
          1,
          1,
          2,
          3,
          1,
          1,
          1,
          1,
          1,
          1,
          1,
          1,
          1,
          1,
          3,
          1,
          1,
          1,
          1,
          1,
          1,
          1,
          1,
          1,
          1,
          1,
          1,
          1,
          2,
          1,
          1,
          1,
          1,
          1,
          1,
          1,
          1,
          1,
          1,
          1,
          1,
          1,
          1,
          2,
          1,
          6,
          1,
          1,
          1,
          1,
          1,
          1,
          1,
          1,
          1,
          1,
          15,
          1,
          20,
          1,
          1,
          1,
          1,
          1,
          1,
          1
         ],
         "subplot": "mapbox",
         "type": "densitymapbox"
        }
       ],
       "layout": {
        "coloraxis": {
         "colorscale": [
          [
           0,
           "#0d0887"
          ],
          [
           0.1111111111111111,
           "#46039f"
          ],
          [
           0.2222222222222222,
           "#7201a8"
          ],
          [
           0.3333333333333333,
           "#9c179e"
          ],
          [
           0.4444444444444444,
           "#bd3786"
          ],
          [
           0.5555555555555556,
           "#d8576b"
          ],
          [
           0.6666666666666666,
           "#ed7953"
          ],
          [
           0.7777777777777778,
           "#fb9f3a"
          ],
          [
           0.8888888888888888,
           "#fdca26"
          ],
          [
           1,
           "#f0f921"
          ]
         ]
        },
        "legend": {
         "tracegroupgap": 0
        },
        "mapbox": {
         "center": {
          "lat": 25.570922081632656,
          "lon": 23.507272571428572
         },
         "domain": {
          "x": [
           0,
           1
          ],
          "y": [
           0,
           1
          ]
         },
         "style": "carto-positron",
         "zoom": 1
        },
        "margin": {
         "t": 60
        },
        "template": {
         "data": {
          "bar": [
           {
            "error_x": {
             "color": "#2a3f5f"
            },
            "error_y": {
             "color": "#2a3f5f"
            },
            "marker": {
             "line": {
              "color": "#E5ECF6",
              "width": 0.5
             }
            },
            "type": "bar"
           }
          ],
          "barpolar": [
           {
            "marker": {
             "line": {
              "color": "#E5ECF6",
              "width": 0.5
             }
            },
            "type": "barpolar"
           }
          ],
          "carpet": [
           {
            "aaxis": {
             "endlinecolor": "#2a3f5f",
             "gridcolor": "white",
             "linecolor": "white",
             "minorgridcolor": "white",
             "startlinecolor": "#2a3f5f"
            },
            "baxis": {
             "endlinecolor": "#2a3f5f",
             "gridcolor": "white",
             "linecolor": "white",
             "minorgridcolor": "white",
             "startlinecolor": "#2a3f5f"
            },
            "type": "carpet"
           }
          ],
          "choropleth": [
           {
            "colorbar": {
             "outlinewidth": 0,
             "ticks": ""
            },
            "type": "choropleth"
           }
          ],
          "contour": [
           {
            "colorbar": {
             "outlinewidth": 0,
             "ticks": ""
            },
            "colorscale": [
             [
              0,
              "#0d0887"
             ],
             [
              0.1111111111111111,
              "#46039f"
             ],
             [
              0.2222222222222222,
              "#7201a8"
             ],
             [
              0.3333333333333333,
              "#9c179e"
             ],
             [
              0.4444444444444444,
              "#bd3786"
             ],
             [
              0.5555555555555556,
              "#d8576b"
             ],
             [
              0.6666666666666666,
              "#ed7953"
             ],
             [
              0.7777777777777778,
              "#fb9f3a"
             ],
             [
              0.8888888888888888,
              "#fdca26"
             ],
             [
              1,
              "#f0f921"
             ]
            ],
            "type": "contour"
           }
          ],
          "contourcarpet": [
           {
            "colorbar": {
             "outlinewidth": 0,
             "ticks": ""
            },
            "type": "contourcarpet"
           }
          ],
          "heatmap": [
           {
            "colorbar": {
             "outlinewidth": 0,
             "ticks": ""
            },
            "colorscale": [
             [
              0,
              "#0d0887"
             ],
             [
              0.1111111111111111,
              "#46039f"
             ],
             [
              0.2222222222222222,
              "#7201a8"
             ],
             [
              0.3333333333333333,
              "#9c179e"
             ],
             [
              0.4444444444444444,
              "#bd3786"
             ],
             [
              0.5555555555555556,
              "#d8576b"
             ],
             [
              0.6666666666666666,
              "#ed7953"
             ],
             [
              0.7777777777777778,
              "#fb9f3a"
             ],
             [
              0.8888888888888888,
              "#fdca26"
             ],
             [
              1,
              "#f0f921"
             ]
            ],
            "type": "heatmap"
           }
          ],
          "heatmapgl": [
           {
            "colorbar": {
             "outlinewidth": 0,
             "ticks": ""
            },
            "colorscale": [
             [
              0,
              "#0d0887"
             ],
             [
              0.1111111111111111,
              "#46039f"
             ],
             [
              0.2222222222222222,
              "#7201a8"
             ],
             [
              0.3333333333333333,
              "#9c179e"
             ],
             [
              0.4444444444444444,
              "#bd3786"
             ],
             [
              0.5555555555555556,
              "#d8576b"
             ],
             [
              0.6666666666666666,
              "#ed7953"
             ],
             [
              0.7777777777777778,
              "#fb9f3a"
             ],
             [
              0.8888888888888888,
              "#fdca26"
             ],
             [
              1,
              "#f0f921"
             ]
            ],
            "type": "heatmapgl"
           }
          ],
          "histogram": [
           {
            "marker": {
             "colorbar": {
              "outlinewidth": 0,
              "ticks": ""
             }
            },
            "type": "histogram"
           }
          ],
          "histogram2d": [
           {
            "colorbar": {
             "outlinewidth": 0,
             "ticks": ""
            },
            "colorscale": [
             [
              0,
              "#0d0887"
             ],
             [
              0.1111111111111111,
              "#46039f"
             ],
             [
              0.2222222222222222,
              "#7201a8"
             ],
             [
              0.3333333333333333,
              "#9c179e"
             ],
             [
              0.4444444444444444,
              "#bd3786"
             ],
             [
              0.5555555555555556,
              "#d8576b"
             ],
             [
              0.6666666666666666,
              "#ed7953"
             ],
             [
              0.7777777777777778,
              "#fb9f3a"
             ],
             [
              0.8888888888888888,
              "#fdca26"
             ],
             [
              1,
              "#f0f921"
             ]
            ],
            "type": "histogram2d"
           }
          ],
          "histogram2dcontour": [
           {
            "colorbar": {
             "outlinewidth": 0,
             "ticks": ""
            },
            "colorscale": [
             [
              0,
              "#0d0887"
             ],
             [
              0.1111111111111111,
              "#46039f"
             ],
             [
              0.2222222222222222,
              "#7201a8"
             ],
             [
              0.3333333333333333,
              "#9c179e"
             ],
             [
              0.4444444444444444,
              "#bd3786"
             ],
             [
              0.5555555555555556,
              "#d8576b"
             ],
             [
              0.6666666666666666,
              "#ed7953"
             ],
             [
              0.7777777777777778,
              "#fb9f3a"
             ],
             [
              0.8888888888888888,
              "#fdca26"
             ],
             [
              1,
              "#f0f921"
             ]
            ],
            "type": "histogram2dcontour"
           }
          ],
          "mesh3d": [
           {
            "colorbar": {
             "outlinewidth": 0,
             "ticks": ""
            },
            "type": "mesh3d"
           }
          ],
          "parcoords": [
           {
            "line": {
             "colorbar": {
              "outlinewidth": 0,
              "ticks": ""
             }
            },
            "type": "parcoords"
           }
          ],
          "pie": [
           {
            "automargin": true,
            "type": "pie"
           }
          ],
          "scatter": [
           {
            "marker": {
             "colorbar": {
              "outlinewidth": 0,
              "ticks": ""
             }
            },
            "type": "scatter"
           }
          ],
          "scatter3d": [
           {
            "line": {
             "colorbar": {
              "outlinewidth": 0,
              "ticks": ""
             }
            },
            "marker": {
             "colorbar": {
              "outlinewidth": 0,
              "ticks": ""
             }
            },
            "type": "scatter3d"
           }
          ],
          "scattercarpet": [
           {
            "marker": {
             "colorbar": {
              "outlinewidth": 0,
              "ticks": ""
             }
            },
            "type": "scattercarpet"
           }
          ],
          "scattergeo": [
           {
            "marker": {
             "colorbar": {
              "outlinewidth": 0,
              "ticks": ""
             }
            },
            "type": "scattergeo"
           }
          ],
          "scattergl": [
           {
            "marker": {
             "colorbar": {
              "outlinewidth": 0,
              "ticks": ""
             }
            },
            "type": "scattergl"
           }
          ],
          "scattermapbox": [
           {
            "marker": {
             "colorbar": {
              "outlinewidth": 0,
              "ticks": ""
             }
            },
            "type": "scattermapbox"
           }
          ],
          "scatterpolar": [
           {
            "marker": {
             "colorbar": {
              "outlinewidth": 0,
              "ticks": ""
             }
            },
            "type": "scatterpolar"
           }
          ],
          "scatterpolargl": [
           {
            "marker": {
             "colorbar": {
              "outlinewidth": 0,
              "ticks": ""
             }
            },
            "type": "scatterpolargl"
           }
          ],
          "scatterternary": [
           {
            "marker": {
             "colorbar": {
              "outlinewidth": 0,
              "ticks": ""
             }
            },
            "type": "scatterternary"
           }
          ],
          "surface": [
           {
            "colorbar": {
             "outlinewidth": 0,
             "ticks": ""
            },
            "colorscale": [
             [
              0,
              "#0d0887"
             ],
             [
              0.1111111111111111,
              "#46039f"
             ],
             [
              0.2222222222222222,
              "#7201a8"
             ],
             [
              0.3333333333333333,
              "#9c179e"
             ],
             [
              0.4444444444444444,
              "#bd3786"
             ],
             [
              0.5555555555555556,
              "#d8576b"
             ],
             [
              0.6666666666666666,
              "#ed7953"
             ],
             [
              0.7777777777777778,
              "#fb9f3a"
             ],
             [
              0.8888888888888888,
              "#fdca26"
             ],
             [
              1,
              "#f0f921"
             ]
            ],
            "type": "surface"
           }
          ],
          "table": [
           {
            "cells": {
             "fill": {
              "color": "#EBF0F8"
             },
             "line": {
              "color": "white"
             }
            },
            "header": {
             "fill": {
              "color": "#C8D4E3"
             },
             "line": {
              "color": "white"
             }
            },
            "type": "table"
           }
          ]
         },
         "layout": {
          "annotationdefaults": {
           "arrowcolor": "#2a3f5f",
           "arrowhead": 0,
           "arrowwidth": 1
          },
          "coloraxis": {
           "colorbar": {
            "outlinewidth": 0,
            "ticks": ""
           }
          },
          "colorscale": {
           "diverging": [
            [
             0,
             "#8e0152"
            ],
            [
             0.1,
             "#c51b7d"
            ],
            [
             0.2,
             "#de77ae"
            ],
            [
             0.3,
             "#f1b6da"
            ],
            [
             0.4,
             "#fde0ef"
            ],
            [
             0.5,
             "#f7f7f7"
            ],
            [
             0.6,
             "#e6f5d0"
            ],
            [
             0.7,
             "#b8e186"
            ],
            [
             0.8,
             "#7fbc41"
            ],
            [
             0.9,
             "#4d9221"
            ],
            [
             1,
             "#276419"
            ]
           ],
           "sequential": [
            [
             0,
             "#0d0887"
            ],
            [
             0.1111111111111111,
             "#46039f"
            ],
            [
             0.2222222222222222,
             "#7201a8"
            ],
            [
             0.3333333333333333,
             "#9c179e"
            ],
            [
             0.4444444444444444,
             "#bd3786"
            ],
            [
             0.5555555555555556,
             "#d8576b"
            ],
            [
             0.6666666666666666,
             "#ed7953"
            ],
            [
             0.7777777777777778,
             "#fb9f3a"
            ],
            [
             0.8888888888888888,
             "#fdca26"
            ],
            [
             1,
             "#f0f921"
            ]
           ],
           "sequentialminus": [
            [
             0,
             "#0d0887"
            ],
            [
             0.1111111111111111,
             "#46039f"
            ],
            [
             0.2222222222222222,
             "#7201a8"
            ],
            [
             0.3333333333333333,
             "#9c179e"
            ],
            [
             0.4444444444444444,
             "#bd3786"
            ],
            [
             0.5555555555555556,
             "#d8576b"
            ],
            [
             0.6666666666666666,
             "#ed7953"
            ],
            [
             0.7777777777777778,
             "#fb9f3a"
            ],
            [
             0.8888888888888888,
             "#fdca26"
            ],
            [
             1,
             "#f0f921"
            ]
           ]
          },
          "colorway": [
           "#636efa",
           "#EF553B",
           "#00cc96",
           "#ab63fa",
           "#FFA15A",
           "#19d3f3",
           "#FF6692",
           "#B6E880",
           "#FF97FF",
           "#FECB52"
          ],
          "font": {
           "color": "#2a3f5f"
          },
          "geo": {
           "bgcolor": "white",
           "lakecolor": "white",
           "landcolor": "#E5ECF6",
           "showlakes": true,
           "showland": true,
           "subunitcolor": "white"
          },
          "hoverlabel": {
           "align": "left"
          },
          "hovermode": "closest",
          "mapbox": {
           "style": "light"
          },
          "paper_bgcolor": "white",
          "plot_bgcolor": "#E5ECF6",
          "polar": {
           "angularaxis": {
            "gridcolor": "white",
            "linecolor": "white",
            "ticks": ""
           },
           "bgcolor": "#E5ECF6",
           "radialaxis": {
            "gridcolor": "white",
            "linecolor": "white",
            "ticks": ""
           }
          },
          "scene": {
           "xaxis": {
            "backgroundcolor": "#E5ECF6",
            "gridcolor": "white",
            "gridwidth": 2,
            "linecolor": "white",
            "showbackground": true,
            "ticks": "",
            "zerolinecolor": "white"
           },
           "yaxis": {
            "backgroundcolor": "#E5ECF6",
            "gridcolor": "white",
            "gridwidth": 2,
            "linecolor": "white",
            "showbackground": true,
            "ticks": "",
            "zerolinecolor": "white"
           },
           "zaxis": {
            "backgroundcolor": "#E5ECF6",
            "gridcolor": "white",
            "gridwidth": 2,
            "linecolor": "white",
            "showbackground": true,
            "ticks": "",
            "zerolinecolor": "white"
           }
          },
          "shapedefaults": {
           "line": {
            "color": "#2a3f5f"
           }
          },
          "ternary": {
           "aaxis": {
            "gridcolor": "white",
            "linecolor": "white",
            "ticks": ""
           },
           "baxis": {
            "gridcolor": "white",
            "linecolor": "white",
            "ticks": ""
           },
           "bgcolor": "#E5ECF6",
           "caxis": {
            "gridcolor": "white",
            "linecolor": "white",
            "ticks": ""
           }
          },
          "title": {
           "x": 0.05
          },
          "xaxis": {
           "automargin": true,
           "gridcolor": "white",
           "linecolor": "white",
           "ticks": "",
           "title": {
            "standoff": 15
           },
           "zerolinecolor": "white",
           "zerolinewidth": 2
          },
          "yaxis": {
           "automargin": true,
           "gridcolor": "white",
           "linecolor": "white",
           "ticks": "",
           "title": {
            "standoff": 15
           },
           "zerolinecolor": "white",
           "zerolinewidth": 2
          }
         }
        }
       }
      },
      "text/html": [
       "<div>                            <div id=\"4f08d169-7cc9-4620-b877-2515f4a1b171\" class=\"plotly-graph-div\" style=\"height:525px; width:100%;\"></div>            <script type=\"text/javascript\">                require([\"plotly\"], function(Plotly) {                    window.PLOTLYENV=window.PLOTLYENV || {};                                    if (document.getElementById(\"4f08d169-7cc9-4620-b877-2515f4a1b171\")) {                    Plotly.newPlot(                        \"4f08d169-7cc9-4620-b877-2515f4a1b171\",                        [{\"coloraxis\": \"coloraxis\", \"customdata\": [[\"Afghanistan\", 1], [\"Albania\", 1], [\"Argentina\", 33], [\"Armenia\", 1], [\"Australia\", 80], [\"Austria\", 6], [\"Azerbaijan\", 1], [\"Bangladesh\", 2], [\"Belgium\", 47], [\"Bermuda\", 1], [\"Botswana\", 1], [\"Brazil\", 34], [\"Bulgaria\", 7], [\"Cambodia\", 3], [\"Canada\", 199], [\"Cayman Islands\", 1], [\"Chile\", 14], [\"China\", 74], [\"Colombia\", 12], [\"Croatia\", 3], [\"Czech Republic\", 8], [\"Denmark\", 23], [\"Ecuador\", 1], [\"Egypt\", 21], [\"Finland\", 6], [\"France\", 159], [\"Georgia\", 1], [\"Germany\", 107], [\"Ghana\", 2], [\"Greece\", 2], [\"Hong Kong\", 67], [\"Hungary\", 4], [\"Iceland\", 5], [\"India\", 575], [\"Indonesia\", 30], [\"Iran\", 2], [\"Iraq\", 2], [\"Ireland\", 24], [\"Israel\", 15], [\"Italy\", 43], [\"Japan\", 65], [\"Jordan\", 4], [\"Kazakhstan\", 1], [\"Kenya\", 1], [\"Latvia\", 1], [\"Lebanon\", 3], [\"Liechtenstein\", 1], [\"Luxembourg\", 7], [\"Malawi\", 1], [\"Malaysia\", 11], [\"Malta\", 2], [\"Mexico\", 59], [\"Mongolia\", 1], [\"Montenegro\", 1], [\"Morocco\", 5], [\"Namibia\", 1], [\"Nepal\", 1], [\"Netherlands\", 23], [\"New Zealand\", 15], [\"Nicaragua\", 1], [\"Nigeria\", 28], [\"Norway\", 12], [\"Pakistan\", 13], [\"Panama\", 1], [\"Peru\", 6], [\"Philippines\", 36], [\"Poland\", 16], [\"Portugal\", 3], [\"Qatar\", 5], [\"Romania\", 4], [\"Russia\", 9], [\"Samoa\", 1], [\"Saudi Arabia\", 1], [\"Senegal\", 2], [\"Serbia\", 3], [\"Singapore\", 20], [\"Slovenia\", 2], [\"Somalia\", 1], [\"South Africa\", 20], [\"South Korea\", 50], [\"Spain\", 110], [\"Sri Lanka\", 1], [\"Sudan\", 1], [\"Sweden\", 23], [\"Switzerland\", 10], [\"Taiwan\", 16], [\"Thailand\", 24], [\"Turkey\", 27], [\"Uganda\", 1], [\"Ukraine\", 1], [\"United Arab Emirates\", 19], [\"United Kingdom\", 371], [\"United States\", 1772], [\"Uruguay\", 5], [\"Vatican City\", 1], [\"Venezuela\", 3], [\"Vietnam\", 2], [\"Zimbabwe\", 2]], \"hovertemplate\": \"latitude=%{lat}<br>longitude=%{lon}<br>name=%{customdata[0]}<br>Titles=%{customdata[1]}<extra></extra>\", \"lat\": [33.93911, 41.153332, -38.416097, 40.069099, -25.274398, 47.516231, 40.143105, 23.684994, 50.503887, 32.321384, -22.328474, -14.235004, 42.733883, 12.565679, 56.130366, 19.513469, -35.675146999999996, 35.86166, 4.570868, 45.1, 49.817492, 56.26392, -1.8312389999999998, 26.820553000000004, 61.92411, 46.227638, 42.315407, 51.165690999999995, 7.946527000000001, 39.074208, 22.396428, 47.162494, 64.96305100000001, 20.593684, -0.789275, 32.427908, 33.223191, 53.41291, 31.046051000000002, 41.87194, 36.204824, 30.585164000000002, 48.019573, -0.023559, 56.879635, 33.854721000000005, 47.166000000000004, 49.815273, -13.254307999999998, 4.210483999999999, 35.937496, 23.634501, 46.862496, 42.708678000000006, 31.791702, -22.957639999999998, 28.394857000000002, 52.132633, -40.900557, 12.865416, 9.081999, 60.472024, 30.375321000000003, 8.537981, -9.189967, 12.879721, 51.919438, 39.399871999999995, 25.354826, 45.943160999999996, 61.52401, -13.759029, 23.885942, 14.497401000000002, 44.016521000000004, 1.352083, 46.151241, 5.152149, -30.559482, 35.907757000000004, 40.463667, 7.873054, 12.862807, 60.128161, 46.818188, 23.69781, 15.870032, 38.963745, 1.373333, 48.379433, 23.424076, 55.378051, 37.09024, -32.522779, 41.902916, 6.42375, 14.058323999999999, -19.015438], \"lon\": [67.709953, 20.168331, -63.616671999999994, 45.038189, 133.775136, 14.550072, 47.576927000000005, 90.35633100000001, 4.469936, -64.75737, 24.684866, -51.92528, 25.48583, 104.990963, -106.34677099999999, -80.566956, -71.542969, 104.195397, -74.297333, 15.2, 15.472961999999999, 9.501785, -78.183406, 30.802497999999996, 25.748151, 2.213749, 43.356891999999995, 10.451526, -1.0231940000000002, 21.824312, 114.10949699999999, 19.503304, -19.020835, 78.96288, 113.921327, 53.68804599999999, 43.679291, -8.243889999999999, 34.851612, 12.56738, 138.252924, 36.238414, 66.923684, 37.906193, 24.603189, 35.862285, 9.555373, 6.129583, 34.301525, 101.97576600000001, 14.375416, -102.552784, 103.84665600000001, 19.37439, -7.09262, 18.49041, 84.12400799999999, 5.291266, 174.88597099999998, -85.207229, 8.675277000000001, 8.468946, 69.345116, -80.782127, -75.015152, 121.77401699999999, 19.145135999999997, -8.224454, 51.183884, 24.96676, 105.31875600000001, -172.10462900000002, 45.079162, -14.452361999999999, 21.005859, 103.819836, 14.995463, 46.199616, 22.937506, 127.766922, -3.7492199999999998, 80.77179699999999, 30.217636, 18.643501, 8.227511999999999, 120.96051499999999, 100.992541, 35.243322, 32.290275, 31.16558, 53.847818000000004, -3.435973, -95.712891, -55.765834999999996, 12.453389, -66.58973, 108.277199, 29.154857], \"name\": \"\", \"radius\": [1, 1, 1, 1, 4, 1, 1, 1, 2, 1, 1, 2, 1, 1, 15, 1, 1, 4, 1, 15, 1, 1, 1, 1, 1, 1, 1, 15, 1, 6, 1, 1, 3, 1, 1, 15, 1, 1, 1, 1, 1, 2, 3, 1, 1, 1, 1, 1, 1, 1, 1, 1, 1, 3, 1, 1, 1, 1, 1, 1, 1, 1, 1, 1, 1, 1, 1, 2, 1, 1, 1, 1, 1, 1, 1, 1, 1, 1, 1, 1, 1, 1, 2, 1, 6, 1, 1, 1, 1, 1, 1, 1, 1, 1, 1, 15, 1, 20, 1, 1, 1, 1, 1, 1, 1], \"subplot\": \"mapbox\", \"type\": \"densitymapbox\"}],                        {\"coloraxis\": {\"colorscale\": [[0.0, \"#0d0887\"], [0.1111111111111111, \"#46039f\"], [0.2222222222222222, \"#7201a8\"], [0.3333333333333333, \"#9c179e\"], [0.4444444444444444, \"#bd3786\"], [0.5555555555555556, \"#d8576b\"], [0.6666666666666666, \"#ed7953\"], [0.7777777777777778, \"#fb9f3a\"], [0.8888888888888888, \"#fdca26\"], [1.0, \"#f0f921\"]]}, \"legend\": {\"tracegroupgap\": 0}, \"mapbox\": {\"center\": {\"lat\": 25.570922081632656, \"lon\": 23.507272571428572}, \"domain\": {\"x\": [0.0, 1.0], \"y\": [0.0, 1.0]}, \"style\": \"carto-positron\", \"zoom\": 1}, \"margin\": {\"t\": 60}, \"template\": {\"data\": {\"bar\": [{\"error_x\": {\"color\": \"#2a3f5f\"}, \"error_y\": {\"color\": \"#2a3f5f\"}, \"marker\": {\"line\": {\"color\": \"#E5ECF6\", \"width\": 0.5}}, \"type\": \"bar\"}], \"barpolar\": [{\"marker\": {\"line\": {\"color\": \"#E5ECF6\", \"width\": 0.5}}, \"type\": \"barpolar\"}], \"carpet\": [{\"aaxis\": {\"endlinecolor\": \"#2a3f5f\", \"gridcolor\": \"white\", \"linecolor\": \"white\", \"minorgridcolor\": \"white\", \"startlinecolor\": \"#2a3f5f\"}, \"baxis\": {\"endlinecolor\": \"#2a3f5f\", \"gridcolor\": \"white\", \"linecolor\": \"white\", \"minorgridcolor\": \"white\", \"startlinecolor\": \"#2a3f5f\"}, \"type\": \"carpet\"}], \"choropleth\": [{\"colorbar\": {\"outlinewidth\": 0, \"ticks\": \"\"}, \"type\": \"choropleth\"}], \"contour\": [{\"colorbar\": {\"outlinewidth\": 0, \"ticks\": \"\"}, \"colorscale\": [[0.0, \"#0d0887\"], [0.1111111111111111, \"#46039f\"], [0.2222222222222222, \"#7201a8\"], [0.3333333333333333, \"#9c179e\"], [0.4444444444444444, \"#bd3786\"], [0.5555555555555556, \"#d8576b\"], [0.6666666666666666, \"#ed7953\"], [0.7777777777777778, \"#fb9f3a\"], [0.8888888888888888, \"#fdca26\"], [1.0, \"#f0f921\"]], \"type\": \"contour\"}], \"contourcarpet\": [{\"colorbar\": {\"outlinewidth\": 0, \"ticks\": \"\"}, \"type\": \"contourcarpet\"}], \"heatmap\": [{\"colorbar\": {\"outlinewidth\": 0, \"ticks\": \"\"}, \"colorscale\": [[0.0, \"#0d0887\"], [0.1111111111111111, \"#46039f\"], [0.2222222222222222, \"#7201a8\"], [0.3333333333333333, \"#9c179e\"], [0.4444444444444444, \"#bd3786\"], [0.5555555555555556, \"#d8576b\"], [0.6666666666666666, \"#ed7953\"], [0.7777777777777778, \"#fb9f3a\"], [0.8888888888888888, \"#fdca26\"], [1.0, \"#f0f921\"]], \"type\": \"heatmap\"}], \"heatmapgl\": [{\"colorbar\": {\"outlinewidth\": 0, \"ticks\": \"\"}, \"colorscale\": [[0.0, \"#0d0887\"], [0.1111111111111111, \"#46039f\"], [0.2222222222222222, \"#7201a8\"], [0.3333333333333333, \"#9c179e\"], [0.4444444444444444, \"#bd3786\"], [0.5555555555555556, \"#d8576b\"], [0.6666666666666666, \"#ed7953\"], [0.7777777777777778, \"#fb9f3a\"], [0.8888888888888888, \"#fdca26\"], [1.0, \"#f0f921\"]], \"type\": \"heatmapgl\"}], \"histogram\": [{\"marker\": {\"colorbar\": {\"outlinewidth\": 0, \"ticks\": \"\"}}, \"type\": \"histogram\"}], \"histogram2d\": [{\"colorbar\": {\"outlinewidth\": 0, \"ticks\": \"\"}, \"colorscale\": [[0.0, \"#0d0887\"], [0.1111111111111111, \"#46039f\"], [0.2222222222222222, \"#7201a8\"], [0.3333333333333333, \"#9c179e\"], [0.4444444444444444, \"#bd3786\"], [0.5555555555555556, \"#d8576b\"], [0.6666666666666666, \"#ed7953\"], [0.7777777777777778, \"#fb9f3a\"], [0.8888888888888888, \"#fdca26\"], [1.0, \"#f0f921\"]], \"type\": \"histogram2d\"}], \"histogram2dcontour\": [{\"colorbar\": {\"outlinewidth\": 0, \"ticks\": \"\"}, \"colorscale\": [[0.0, \"#0d0887\"], [0.1111111111111111, \"#46039f\"], [0.2222222222222222, \"#7201a8\"], [0.3333333333333333, \"#9c179e\"], [0.4444444444444444, \"#bd3786\"], [0.5555555555555556, \"#d8576b\"], [0.6666666666666666, \"#ed7953\"], [0.7777777777777778, \"#fb9f3a\"], [0.8888888888888888, \"#fdca26\"], [1.0, \"#f0f921\"]], \"type\": \"histogram2dcontour\"}], \"mesh3d\": [{\"colorbar\": {\"outlinewidth\": 0, \"ticks\": \"\"}, \"type\": \"mesh3d\"}], \"parcoords\": [{\"line\": {\"colorbar\": {\"outlinewidth\": 0, \"ticks\": \"\"}}, \"type\": \"parcoords\"}], \"pie\": [{\"automargin\": true, \"type\": \"pie\"}], \"scatter\": [{\"marker\": {\"colorbar\": {\"outlinewidth\": 0, \"ticks\": \"\"}}, \"type\": \"scatter\"}], \"scatter3d\": [{\"line\": {\"colorbar\": {\"outlinewidth\": 0, \"ticks\": \"\"}}, \"marker\": {\"colorbar\": {\"outlinewidth\": 0, \"ticks\": \"\"}}, \"type\": \"scatter3d\"}], \"scattercarpet\": [{\"marker\": {\"colorbar\": {\"outlinewidth\": 0, \"ticks\": \"\"}}, \"type\": \"scattercarpet\"}], \"scattergeo\": [{\"marker\": {\"colorbar\": {\"outlinewidth\": 0, \"ticks\": \"\"}}, \"type\": \"scattergeo\"}], \"scattergl\": [{\"marker\": {\"colorbar\": {\"outlinewidth\": 0, \"ticks\": \"\"}}, \"type\": \"scattergl\"}], \"scattermapbox\": [{\"marker\": {\"colorbar\": {\"outlinewidth\": 0, \"ticks\": \"\"}}, \"type\": \"scattermapbox\"}], \"scatterpolar\": [{\"marker\": {\"colorbar\": {\"outlinewidth\": 0, \"ticks\": \"\"}}, \"type\": \"scatterpolar\"}], \"scatterpolargl\": [{\"marker\": {\"colorbar\": {\"outlinewidth\": 0, \"ticks\": \"\"}}, \"type\": \"scatterpolargl\"}], \"scatterternary\": [{\"marker\": {\"colorbar\": {\"outlinewidth\": 0, \"ticks\": \"\"}}, \"type\": \"scatterternary\"}], \"surface\": [{\"colorbar\": {\"outlinewidth\": 0, \"ticks\": \"\"}, \"colorscale\": [[0.0, \"#0d0887\"], [0.1111111111111111, \"#46039f\"], [0.2222222222222222, \"#7201a8\"], [0.3333333333333333, \"#9c179e\"], [0.4444444444444444, \"#bd3786\"], [0.5555555555555556, \"#d8576b\"], [0.6666666666666666, \"#ed7953\"], [0.7777777777777778, \"#fb9f3a\"], [0.8888888888888888, \"#fdca26\"], [1.0, \"#f0f921\"]], \"type\": \"surface\"}], \"table\": [{\"cells\": {\"fill\": {\"color\": \"#EBF0F8\"}, \"line\": {\"color\": \"white\"}}, \"header\": {\"fill\": {\"color\": \"#C8D4E3\"}, \"line\": {\"color\": \"white\"}}, \"type\": \"table\"}]}, \"layout\": {\"annotationdefaults\": {\"arrowcolor\": \"#2a3f5f\", \"arrowhead\": 0, \"arrowwidth\": 1}, \"coloraxis\": {\"colorbar\": {\"outlinewidth\": 0, \"ticks\": \"\"}}, \"colorscale\": {\"diverging\": [[0, \"#8e0152\"], [0.1, \"#c51b7d\"], [0.2, \"#de77ae\"], [0.3, \"#f1b6da\"], [0.4, \"#fde0ef\"], [0.5, \"#f7f7f7\"], [0.6, \"#e6f5d0\"], [0.7, \"#b8e186\"], [0.8, \"#7fbc41\"], [0.9, \"#4d9221\"], [1, \"#276419\"]], \"sequential\": [[0.0, \"#0d0887\"], [0.1111111111111111, \"#46039f\"], [0.2222222222222222, \"#7201a8\"], [0.3333333333333333, \"#9c179e\"], [0.4444444444444444, \"#bd3786\"], [0.5555555555555556, \"#d8576b\"], [0.6666666666666666, \"#ed7953\"], [0.7777777777777778, \"#fb9f3a\"], [0.8888888888888888, \"#fdca26\"], [1.0, \"#f0f921\"]], \"sequentialminus\": [[0.0, \"#0d0887\"], [0.1111111111111111, \"#46039f\"], [0.2222222222222222, \"#7201a8\"], [0.3333333333333333, \"#9c179e\"], [0.4444444444444444, \"#bd3786\"], [0.5555555555555556, \"#d8576b\"], [0.6666666666666666, \"#ed7953\"], [0.7777777777777778, \"#fb9f3a\"], [0.8888888888888888, \"#fdca26\"], [1.0, \"#f0f921\"]]}, \"colorway\": [\"#636efa\", \"#EF553B\", \"#00cc96\", \"#ab63fa\", \"#FFA15A\", \"#19d3f3\", \"#FF6692\", \"#B6E880\", \"#FF97FF\", \"#FECB52\"], \"font\": {\"color\": \"#2a3f5f\"}, \"geo\": {\"bgcolor\": \"white\", \"lakecolor\": \"white\", \"landcolor\": \"#E5ECF6\", \"showlakes\": true, \"showland\": true, \"subunitcolor\": \"white\"}, \"hoverlabel\": {\"align\": \"left\"}, \"hovermode\": \"closest\", \"mapbox\": {\"style\": \"light\"}, \"paper_bgcolor\": \"white\", \"plot_bgcolor\": \"#E5ECF6\", \"polar\": {\"angularaxis\": {\"gridcolor\": \"white\", \"linecolor\": \"white\", \"ticks\": \"\"}, \"bgcolor\": \"#E5ECF6\", \"radialaxis\": {\"gridcolor\": \"white\", \"linecolor\": \"white\", \"ticks\": \"\"}}, \"scene\": {\"xaxis\": {\"backgroundcolor\": \"#E5ECF6\", \"gridcolor\": \"white\", \"gridwidth\": 2, \"linecolor\": \"white\", \"showbackground\": true, \"ticks\": \"\", \"zerolinecolor\": \"white\"}, \"yaxis\": {\"backgroundcolor\": \"#E5ECF6\", \"gridcolor\": \"white\", \"gridwidth\": 2, \"linecolor\": \"white\", \"showbackground\": true, \"ticks\": \"\", \"zerolinecolor\": \"white\"}, \"zaxis\": {\"backgroundcolor\": \"#E5ECF6\", \"gridcolor\": \"white\", \"gridwidth\": 2, \"linecolor\": \"white\", \"showbackground\": true, \"ticks\": \"\", \"zerolinecolor\": \"white\"}}, \"shapedefaults\": {\"line\": {\"color\": \"#2a3f5f\"}}, \"ternary\": {\"aaxis\": {\"gridcolor\": \"white\", \"linecolor\": \"white\", \"ticks\": \"\"}, \"baxis\": {\"gridcolor\": \"white\", \"linecolor\": \"white\", \"ticks\": \"\"}, \"bgcolor\": \"#E5ECF6\", \"caxis\": {\"gridcolor\": \"white\", \"linecolor\": \"white\", \"ticks\": \"\"}}, \"title\": {\"x\": 0.05}, \"xaxis\": {\"automargin\": true, \"gridcolor\": \"white\", \"linecolor\": \"white\", \"ticks\": \"\", \"title\": {\"standoff\": 15}, \"zerolinecolor\": \"white\", \"zerolinewidth\": 2}, \"yaxis\": {\"automargin\": true, \"gridcolor\": \"white\", \"linecolor\": \"white\", \"ticks\": \"\", \"title\": {\"standoff\": 15}, \"zerolinecolor\": \"white\", \"zerolinewidth\": 2}}}},                        {\"responsive\": true}                    ).then(function(){\n",
       "                            \n",
       "var gd = document.getElementById('4f08d169-7cc9-4620-b877-2515f4a1b171');\n",
       "var x = new MutationObserver(function (mutations, observer) {{\n",
       "        var display = window.getComputedStyle(gd).display;\n",
       "        if (!display || display === 'none') {{\n",
       "            console.log([gd, 'removed!']);\n",
       "            Plotly.purge(gd);\n",
       "            observer.disconnect();\n",
       "        }}\n",
       "}});\n",
       "\n",
       "// Listen for the removal of the full notebook cells\n",
       "var notebookContainer = gd.closest('#notebook-container');\n",
       "if (notebookContainer) {{\n",
       "    x.observe(notebookContainer, {childList: true});\n",
       "}}\n",
       "\n",
       "// Listen for the clearing of the current output cell\n",
       "var outputEl = gd.closest('.output');\n",
       "if (outputEl) {{\n",
       "    x.observe(outputEl, {childList: true});\n",
       "}}\n",
       "\n",
       "                        })                };                });            </script>        </div>"
      ]
     },
     "metadata": {},
     "output_type": "display_data"
    }
   ],
   "source": [
    "fig = px.density_mapbox (netflix_titles_countries_count_merged_position, lat='latitude', lon='longitude', radius=list2,\n",
    "                                zoom=1, mapbox_style='carto-positron', hover_data=['name','Titles'])\n",
    "fig.show ()"
   ]
  },
  {
   "cell_type": "code",
   "execution_count": 54,
   "metadata": {},
   "outputs": [
    {
     "data": {
      "text/html": [
       "<div>\n",
       "<style scoped>\n",
       "    .dataframe tbody tr th:only-of-type {\n",
       "        vertical-align: middle;\n",
       "    }\n",
       "\n",
       "    .dataframe tbody tr th {\n",
       "        vertical-align: top;\n",
       "    }\n",
       "\n",
       "    .dataframe thead th {\n",
       "        text-align: right;\n",
       "    }\n",
       "</style>\n",
       "<table border=\"1\" class=\"dataframe\">\n",
       "  <thead>\n",
       "    <tr style=\"text-align: right;\">\n",
       "      <th></th>\n",
       "      <th>Titles</th>\n",
       "      <th>Country</th>\n",
       "    </tr>\n",
       "    <tr>\n",
       "      <th>ListedIn</th>\n",
       "      <th></th>\n",
       "      <th></th>\n",
       "    </tr>\n",
       "  </thead>\n",
       "  <tbody>\n",
       "    <tr>\n",
       "      <th>Action &amp; Adventure</th>\n",
       "      <td>761</td>\n",
       "      <td>761</td>\n",
       "    </tr>\n",
       "    <tr>\n",
       "      <th>Anime Features</th>\n",
       "      <td>16</td>\n",
       "      <td>16</td>\n",
       "    </tr>\n",
       "    <tr>\n",
       "      <th>Anime Series</th>\n",
       "      <td>18</td>\n",
       "      <td>18</td>\n",
       "    </tr>\n",
       "    <tr>\n",
       "      <th>British TV Shows</th>\n",
       "      <td>76</td>\n",
       "      <td>76</td>\n",
       "    </tr>\n",
       "    <tr>\n",
       "      <th>Children &amp; Family Movies</th>\n",
       "      <td>437</td>\n",
       "      <td>437</td>\n",
       "    </tr>\n",
       "    <tr>\n",
       "      <th>Classic &amp; Cult TV</th>\n",
       "      <td>6</td>\n",
       "      <td>6</td>\n",
       "    </tr>\n",
       "    <tr>\n",
       "      <th>Classic Movies</th>\n",
       "      <td>93</td>\n",
       "      <td>93</td>\n",
       "    </tr>\n",
       "    <tr>\n",
       "      <th>Comedies</th>\n",
       "      <td>1162</td>\n",
       "      <td>1162</td>\n",
       "    </tr>\n",
       "    <tr>\n",
       "      <th>Crime TV Shows</th>\n",
       "      <td>119</td>\n",
       "      <td>119</td>\n",
       "    </tr>\n",
       "    <tr>\n",
       "      <th>Cult Movies</th>\n",
       "      <td>67</td>\n",
       "      <td>67</td>\n",
       "    </tr>\n",
       "    <tr>\n",
       "      <th>Documentaries</th>\n",
       "      <td>717</td>\n",
       "      <td>717</td>\n",
       "    </tr>\n",
       "    <tr>\n",
       "      <th>Docuseries</th>\n",
       "      <td>32</td>\n",
       "      <td>32</td>\n",
       "    </tr>\n",
       "    <tr>\n",
       "      <th>Dramas</th>\n",
       "      <td>1840</td>\n",
       "      <td>1840</td>\n",
       "    </tr>\n",
       "    <tr>\n",
       "      <th>Faith &amp; Spirituality</th>\n",
       "      <td>52</td>\n",
       "      <td>52</td>\n",
       "    </tr>\n",
       "    <tr>\n",
       "      <th>Horror Movies</th>\n",
       "      <td>307</td>\n",
       "      <td>307</td>\n",
       "    </tr>\n",
       "    <tr>\n",
       "      <th>Independent Movies</th>\n",
       "      <td>631</td>\n",
       "      <td>631</td>\n",
       "    </tr>\n",
       "    <tr>\n",
       "      <th>International Movies</th>\n",
       "      <td>1928</td>\n",
       "      <td>1928</td>\n",
       "    </tr>\n",
       "    <tr>\n",
       "      <th>International TV Shows</th>\n",
       "      <td>253</td>\n",
       "      <td>253</td>\n",
       "    </tr>\n",
       "    <tr>\n",
       "      <th>Kids' TV</th>\n",
       "      <td>30</td>\n",
       "      <td>30</td>\n",
       "    </tr>\n",
       "    <tr>\n",
       "      <th>Korean TV Shows</th>\n",
       "      <td>25</td>\n",
       "      <td>25</td>\n",
       "    </tr>\n",
       "    <tr>\n",
       "      <th>LGBTQ Movies</th>\n",
       "      <td>72</td>\n",
       "      <td>72</td>\n",
       "    </tr>\n",
       "    <tr>\n",
       "      <th>Movies</th>\n",
       "      <td>45</td>\n",
       "      <td>45</td>\n",
       "    </tr>\n",
       "    <tr>\n",
       "      <th>Music &amp; Musicals</th>\n",
       "      <td>222</td>\n",
       "      <td>222</td>\n",
       "    </tr>\n",
       "    <tr>\n",
       "      <th>Reality TV</th>\n",
       "      <td>16</td>\n",
       "      <td>16</td>\n",
       "    </tr>\n",
       "    <tr>\n",
       "      <th>Romantic Movies</th>\n",
       "      <td>416</td>\n",
       "      <td>416</td>\n",
       "    </tr>\n",
       "    <tr>\n",
       "      <th>Romantic TV Shows</th>\n",
       "      <td>84</td>\n",
       "      <td>84</td>\n",
       "    </tr>\n",
       "    <tr>\n",
       "      <th>Sci-Fi &amp; Fantasy</th>\n",
       "      <td>283</td>\n",
       "      <td>283</td>\n",
       "    </tr>\n",
       "    <tr>\n",
       "      <th>Science &amp; Nature TV</th>\n",
       "      <td>8</td>\n",
       "      <td>8</td>\n",
       "    </tr>\n",
       "    <tr>\n",
       "      <th>Spanish-Language TV Shows</th>\n",
       "      <td>20</td>\n",
       "      <td>20</td>\n",
       "    </tr>\n",
       "    <tr>\n",
       "      <th>Sports Movies</th>\n",
       "      <td>179</td>\n",
       "      <td>179</td>\n",
       "    </tr>\n",
       "    <tr>\n",
       "      <th>Stand-Up Comedy</th>\n",
       "      <td>223</td>\n",
       "      <td>223</td>\n",
       "    </tr>\n",
       "    <tr>\n",
       "      <th>Stand-Up Comedy &amp; Talk Shows</th>\n",
       "      <td>6</td>\n",
       "      <td>6</td>\n",
       "    </tr>\n",
       "    <tr>\n",
       "      <th>TV Action &amp; Adventure</th>\n",
       "      <td>36</td>\n",
       "      <td>36</td>\n",
       "    </tr>\n",
       "    <tr>\n",
       "      <th>TV Comedies</th>\n",
       "      <td>74</td>\n",
       "      <td>74</td>\n",
       "    </tr>\n",
       "    <tr>\n",
       "      <th>TV Dramas</th>\n",
       "      <td>215</td>\n",
       "      <td>215</td>\n",
       "    </tr>\n",
       "    <tr>\n",
       "      <th>TV Horror</th>\n",
       "      <td>29</td>\n",
       "      <td>29</td>\n",
       "    </tr>\n",
       "    <tr>\n",
       "      <th>TV Mysteries</th>\n",
       "      <td>47</td>\n",
       "      <td>47</td>\n",
       "    </tr>\n",
       "    <tr>\n",
       "      <th>TV Sci-Fi &amp; Fantasy</th>\n",
       "      <td>39</td>\n",
       "      <td>39</td>\n",
       "    </tr>\n",
       "    <tr>\n",
       "      <th>TV Shows</th>\n",
       "      <td>6</td>\n",
       "      <td>6</td>\n",
       "    </tr>\n",
       "    <tr>\n",
       "      <th>TV Thrillers</th>\n",
       "      <td>23</td>\n",
       "      <td>23</td>\n",
       "    </tr>\n",
       "    <tr>\n",
       "      <th>Teen TV Shows</th>\n",
       "      <td>5</td>\n",
       "      <td>5</td>\n",
       "    </tr>\n",
       "    <tr>\n",
       "      <th>Thrillers</th>\n",
       "      <td>510</td>\n",
       "      <td>510</td>\n",
       "    </tr>\n",
       "  </tbody>\n",
       "</table>\n",
       "</div>"
      ],
      "text/plain": [
       "                              Titles  Country\n",
       "ListedIn                                     \n",
       "Action & Adventure               761      761\n",
       "Anime Features                    16       16\n",
       "Anime Series                      18       18\n",
       "British TV Shows                  76       76\n",
       "Children & Family Movies         437      437\n",
       "Classic & Cult TV                  6        6\n",
       "Classic Movies                    93       93\n",
       "Comedies                        1162     1162\n",
       "Crime TV Shows                   119      119\n",
       "Cult Movies                       67       67\n",
       "Documentaries                    717      717\n",
       "Docuseries                        32       32\n",
       "Dramas                          1840     1840\n",
       "Faith & Spirituality              52       52\n",
       "Horror Movies                    307      307\n",
       "Independent Movies               631      631\n",
       "International Movies            1928     1928\n",
       "International TV Shows           253      253\n",
       "Kids' TV                          30       30\n",
       "Korean TV Shows                   25       25\n",
       "LGBTQ Movies                      72       72\n",
       "Movies                            45       45\n",
       "Music & Musicals                 222      222\n",
       "Reality TV                        16       16\n",
       "Romantic Movies                  416      416\n",
       "Romantic TV Shows                 84       84\n",
       "Sci-Fi & Fantasy                 283      283\n",
       "Science & Nature TV                8        8\n",
       "Spanish-Language TV Shows         20       20\n",
       "Sports Movies                    179      179\n",
       "Stand-Up Comedy                  223      223\n",
       "Stand-Up Comedy & Talk Shows       6        6\n",
       "TV Action & Adventure             36       36\n",
       "TV Comedies                       74       74\n",
       "TV Dramas                        215      215\n",
       "TV Horror                         29       29\n",
       "TV Mysteries                      47       47\n",
       "TV Sci-Fi & Fantasy               39       39\n",
       "TV Shows                           6        6\n",
       "TV Thrillers                      23       23\n",
       "Teen TV Shows                      5        5\n",
       "Thrillers                        510      510"
      ]
     },
     "execution_count": 54,
     "metadata": {},
     "output_type": "execute_result"
    }
   ],
   "source": [
    "netflix_genre_countries = netflix_titles_listed_in.merge (netflix_titles_countries, left_on='Titles',right_on='Titles')\n",
    "netflix_groupby_genre_countries = netflix_genre_countries.groupby('ListedIn').count()\n",
    "netflix_groupby_genre_countries"
   ]
  },
  {
   "cell_type": "markdown",
   "metadata": {},
   "source": [
    "## Number of Countries produced each content Type (All)"
   ]
  },
  {
   "cell_type": "code",
   "execution_count": 55,
   "metadata": {},
   "outputs": [
    {
     "data": {
      "image/png": "[encoded data removed]",
      "text/plain": [
       "<Figure size 1440x504 with 1 Axes>"
      ]
     },
     "metadata": {
      "needs_background": "light"
     },
     "output_type": "display_data"
    },
    {
     "name": "stdout",
     "output_type": "stream",
     "text": [
      "42\n"
     ]
    }
   ],
   "source": [
    "plt.figure(figsize=(20,7))\n",
    "plt.ylabel(\"Number of Countries\")\n",
    "plt.xlabel(\"Content Type\")\n",
    "plt.xticks(rotation=90)\n",
    "plt.bar(netflix_groupby_genre_countries.index, netflix_groupby_genre_countries['Country'])\n",
    "plt.show()\n",
    "print (len(netflix_groupby_genre_countries.index))"
   ]
  },
  {
   "cell_type": "markdown",
   "metadata": {},
   "source": [
    "## Top 10 content types and number of countries produced them"
   ]
  },
  {
   "cell_type": "code",
   "execution_count": 56,
   "metadata": {},
   "outputs": [
    {
     "data": {
      "image/png": "[encoded data removed]",
      "text/plain": [
       "<Figure size 936x936 with 1 Axes>"
      ]
     },
     "metadata": {},
     "output_type": "display_data"
    }
   ],
   "source": [
    "netflix_groupby_genre_countries_sorted = netflix_groupby_genre_countries.sort_values ('Country', ascending=False)\n",
    "netflix_groupby_genre_countries_sorted_top10 = netflix_groupby_genre_countries_sorted.iloc[:10]\n",
    "\n",
    "plt.figure(figsize=(13,13))\n",
    "plt.ylabel(\"Number of Countries\")\n",
    "plt.xlabel(\"Content Type\")\n",
    "colors = [\"yellow\",\"green\",\"lightblue\",\"orange\",\"red\",\"purple\",\"pink\",\"yellowgreen\",\"lightskyblue\",\"lightcoral\"]\n",
    "explode = (0.1,0,0,0,0,0,0,0,0,0)\n",
    "plt.pie(netflix_groupby_genre_countries_sorted_top10['Country'], explode=explode, colors=colors,\n",
    "        labels=netflix_groupby_genre_countries_sorted_top10.index,shadow=True,startangle=40)\n",
    "\n",
    "plt.show()\n"
   ]
  },
  {
   "cell_type": "code",
   "execution_count": 92,
   "metadata": {},
   "outputs": [
    {
     "data": {
      "text/html": [
       "<div>\n",
       "<style scoped>\n",
       "    .dataframe tbody tr th:only-of-type {\n",
       "        vertical-align: middle;\n",
       "    }\n",
       "\n",
       "    .dataframe tbody tr th {\n",
       "        vertical-align: top;\n",
       "    }\n",
       "\n",
       "    .dataframe thead th {\n",
       "        text-align: right;\n",
       "    }\n",
       "</style>\n",
       "<table border=\"1\" class=\"dataframe\">\n",
       "  <thead>\n",
       "    <tr style=\"text-align: right;\">\n",
       "      <th></th>\n",
       "      <th>Cast</th>\n",
       "      <th>Director</th>\n",
       "      <th>Revenue</th>\n",
       "    </tr>\n",
       "  </thead>\n",
       "  <tbody>\n",
       "    <tr>\n",
       "      <th>4780</th>\n",
       "      <td>Chris Pratt</td>\n",
       "      <td>Anthony Russo</td>\n",
       "      <td>2046239637</td>\n",
       "    </tr>\n",
       "    <tr>\n",
       "      <th>22416</th>\n",
       "      <td>Scarlett Johansson</td>\n",
       "      <td>Anthony Russo</td>\n",
       "      <td>2046239637</td>\n",
       "    </tr>\n",
       "    <tr>\n",
       "      <th>2026</th>\n",
       "      <td>Anthony Mackie</td>\n",
       "      <td>Joe Russo</td>\n",
       "      <td>2046239637</td>\n",
       "    </tr>\n",
       "    <tr>\n",
       "      <th>2024</th>\n",
       "      <td>Anthony Mackie</td>\n",
       "      <td>Anthony Russo</td>\n",
       "      <td>2046239637</td>\n",
       "    </tr>\n",
       "    <tr>\n",
       "      <th>11270</th>\n",
       "      <td>Jeremy Renner</td>\n",
       "      <td>Anthony Russo</td>\n",
       "      <td>2046239637</td>\n",
       "    </tr>\n",
       "    <tr>\n",
       "      <th>21162</th>\n",
       "      <td>Robert Downey Jr.</td>\n",
       "      <td>Joe Russo</td>\n",
       "      <td>2046239637</td>\n",
       "    </tr>\n",
       "    <tr>\n",
       "      <th>21159</th>\n",
       "      <td>Robert Downey Jr.</td>\n",
       "      <td>Anthony Russo</td>\n",
       "      <td>2046239637</td>\n",
       "    </tr>\n",
       "    <tr>\n",
       "      <th>22553</th>\n",
       "      <td>Sebastian Stan</td>\n",
       "      <td>Anthony Russo</td>\n",
       "      <td>2046239637</td>\n",
       "    </tr>\n",
       "    <tr>\n",
       "      <th>22554</th>\n",
       "      <td>Sebastian Stan</td>\n",
       "      <td>Joe Russo</td>\n",
       "      <td>2046239637</td>\n",
       "    </tr>\n",
       "    <tr>\n",
       "      <th>11271</th>\n",
       "      <td>Jeremy Renner</td>\n",
       "      <td>Joe Russo</td>\n",
       "      <td>2046239637</td>\n",
       "    </tr>\n",
       "  </tbody>\n",
       "</table>\n",
       "</div>"
      ],
      "text/plain": [
       "                     Cast       Director     Revenue\n",
       "4780          Chris Pratt  Anthony Russo  2046239637\n",
       "22416  Scarlett Johansson  Anthony Russo  2046239637\n",
       "2026       Anthony Mackie      Joe Russo  2046239637\n",
       "2024       Anthony Mackie  Anthony Russo  2046239637\n",
       "11270       Jeremy Renner  Anthony Russo  2046239637\n",
       "21162   Robert Downey Jr.      Joe Russo  2046239637\n",
       "21159   Robert Downey Jr.  Anthony Russo  2046239637\n",
       "22553      Sebastian Stan  Anthony Russo  2046239637\n",
       "22554      Sebastian Stan      Joe Russo  2046239637\n",
       "11271       Jeremy Renner      Joe Russo  2046239637"
      ]
     },
     "execution_count": 92,
     "metadata": {},
     "output_type": "execute_result"
    }
   ],
   "source": [
    "### Top 20 tiltes based on the revenue \n",
    "netflix_directors_casts = netflix_titles_casts.merge (netflix_titles_directors, left_on='Titles',right_on='Titles')\n",
    "netflix_titles_costs = netflix_titles.filter(['show_id','title','Budget','Revenue'], axis=1)\n",
    "\n",
    "netflix_directors_casts_revenue = netflix_directors_casts.merge (netflix_titles_costs, left_on='Titles',right_on='show_id')\n",
    "netflix_groupby_directors_casts_costs = netflix_directors_casts_revenue.groupby(['Cast','Director'])['Revenue'].max().reset_index()\n",
    "#netflix_groupby_directors_casts.sort_values ('Titles', ascending=False)\n",
    "TopPairDirectorCast = netflix_groupby_directors_casts_costs.sort_values(['Revenue'], ascending=False)\n",
    "TopPairDirectorCast.head (10)"
   ]
  },
  {
   "cell_type": "code",
   "execution_count": 141,
   "metadata": {},
   "outputs": [
    {
     "data": {
      "text/plain": [
       "array([('Movie', 1943), ('Movie', 1944), ('Movie', 1945), ('Movie', 1946),\n",
       "       ('Movie', 1954), ('Movie', 1955), ('Movie', 1956), ('Movie', 1958),\n",
       "       ('Movie', 1960), ('Movie', 1962), ('Movie', 1964), ('Movie', 1965),\n",
       "       ('Movie', 1966), ('Movie', 1967), ('Movie', 1968), ('Movie', 1969),\n",
       "       ('Movie', 1970), ('Movie', 1971), ('Movie', 1972), ('Movie', 1973),\n",
       "       ('Movie', 1974), ('Movie', 1975), ('Movie', 1976), ('Movie', 1977),\n",
       "       ('Movie', 1978), ('Movie', 1979), ('Movie', 1980), ('Movie', 1981),\n",
       "       ('Movie', 1982), ('Movie', 1983), ('Movie', 1984), ('Movie', 1985),\n",
       "       ('Movie', 1986), ('Movie', 1987), ('Movie', 1988), ('Movie', 1989),\n",
       "       ('Movie', 1990), ('Movie', 1991), ('Movie', 1992), ('Movie', 1993),\n",
       "       ('Movie', 1994), ('Movie', 1995), ('Movie', 1996), ('Movie', 1997),\n",
       "       ('Movie', 1998), ('Movie', 1999), ('Movie', 2000), ('Movie', 2001),\n",
       "       ('Movie', 2002), ('Movie', 2003), ('Movie', 2004), ('Movie', 2005),\n",
       "       ('Movie', 2006), ('Movie', 2007), ('Movie', 2008), ('Movie', 2009),\n",
       "       ('Movie', 2010), ('Movie', 2011), ('Movie', 2012), ('Movie', 2013),\n",
       "       ('Movie', 2014), ('Movie', 2015), ('Movie', 2016), ('Movie', 2017),\n",
       "       ('Movie', 2018), ('Movie', 2019), ('Movie', 2020),\n",
       "       ('TV Show', 1946), ('TV Show', 1968), ('TV Show', 1972),\n",
       "       ('TV Show', 1977), ('TV Show', 1986), ('TV Show', 1988),\n",
       "       ('TV Show', 1990), ('TV Show', 1998), ('TV Show', 2001),\n",
       "       ('TV Show', 2002), ('TV Show', 2004), ('TV Show', 2006),\n",
       "       ('TV Show', 2008), ('TV Show', 2009), ('TV Show', 2010),\n",
       "       ('TV Show', 2011), ('TV Show', 2012), ('TV Show', 2013),\n",
       "       ('TV Show', 2014), ('TV Show', 2015), ('TV Show', 2016),\n",
       "       ('TV Show', 2017), ('TV Show', 2018), ('TV Show', 2019),\n",
       "       ('TV Show', 2020)], dtype=object)"
      ]
     },
     "execution_count": 141,
     "metadata": {},
     "output_type": "execute_result"
    }
   ],
   "source": [
    "netflix_titles_type_years = pd.DataFrame (netflix_titles.groupby(['type','Netflix release year'])['show_id'].count ())\n",
    "netflix_titles_type_years.index.values"
   ]
  },
  {
   "cell_type": "code",
   "execution_count": 129,
   "metadata": {},
   "outputs": [
    {
     "ename": "KeyError",
     "evalue": "'type'",
     "output_type": "error",
     "traceback": [
      "\u001b[1;31m---------------------------------------------------------------------------\u001b[0m",
      "\u001b[1;31mKeyError\u001b[0m                                  Traceback (most recent call last)",
      "\u001b[1;32m~\\anaconda3\\lib\\site-packages\\pandas\\core\\indexes\\base.py\u001b[0m in \u001b[0;36mget_loc\u001b[1;34m(self, key, method, tolerance)\u001b[0m\n\u001b[0;32m   2645\u001b[0m             \u001b[1;32mtry\u001b[0m\u001b[1;33m:\u001b[0m\u001b[1;33m\u001b[0m\u001b[1;33m\u001b[0m\u001b[0m\n\u001b[1;32m-> 2646\u001b[1;33m                 \u001b[1;32mreturn\u001b[0m \u001b[0mself\u001b[0m\u001b[1;33m.\u001b[0m\u001b[0m_engine\u001b[0m\u001b[1;33m.\u001b[0m\u001b[0mget_loc\u001b[0m\u001b[1;33m(\u001b[0m\u001b[0mkey\u001b[0m\u001b[1;33m)\u001b[0m\u001b[1;33m\u001b[0m\u001b[1;33m\u001b[0m\u001b[0m\n\u001b[0m\u001b[0;32m   2647\u001b[0m             \u001b[1;32mexcept\u001b[0m \u001b[0mKeyError\u001b[0m\u001b[1;33m:\u001b[0m\u001b[1;33m\u001b[0m\u001b[1;33m\u001b[0m\u001b[0m\n",
      "\u001b[1;32mpandas\\_libs\\index.pyx\u001b[0m in \u001b[0;36mpandas._libs.index.IndexEngine.get_loc\u001b[1;34m()\u001b[0m\n",
      "\u001b[1;32mpandas\\_libs\\index.pyx\u001b[0m in \u001b[0;36mpandas._libs.index.IndexEngine.get_loc\u001b[1;34m()\u001b[0m\n",
      "\u001b[1;32mpandas\\_libs\\hashtable_class_helper.pxi\u001b[0m in \u001b[0;36mpandas._libs.hashtable.PyObjectHashTable.get_item\u001b[1;34m()\u001b[0m\n",
      "\u001b[1;32mpandas\\_libs\\hashtable_class_helper.pxi\u001b[0m in \u001b[0;36mpandas._libs.hashtable.PyObjectHashTable.get_item\u001b[1;34m()\u001b[0m\n",
      "\u001b[1;31mKeyError\u001b[0m: 'type'",
      "\nDuring handling of the above exception, another exception occurred:\n",
      "\u001b[1;31mKeyError\u001b[0m                                  Traceback (most recent call last)",
      "\u001b[1;32m<ipython-input-129-45398062c3a4>\u001b[0m in \u001b[0;36m<module>\u001b[1;34m\u001b[0m\n\u001b[0;32m      8\u001b[0m \"\"\"\n\u001b[0;32m      9\u001b[0m \u001b[1;33m\u001b[0m\u001b[0m\n\u001b[1;32m---> 10\u001b[1;33m \u001b[0mtemp\u001b[0m \u001b[1;33m=\u001b[0m \u001b[0mnetflix_titles_type_years\u001b[0m\u001b[1;33m.\u001b[0m\u001b[0mloc\u001b[0m\u001b[1;33m[\u001b[0m\u001b[0mnetflix_titles_type_years\u001b[0m\u001b[1;33m[\u001b[0m\u001b[1;34m\"type\"\u001b[0m\u001b[1;33m]\u001b[0m \u001b[1;33m==\u001b[0m \u001b[1;34m'Movie'\u001b[0m\u001b[1;33m,\u001b[0m\u001b[1;33m[\u001b[0m\u001b[1;34m'Netflix release year'\u001b[0m\u001b[1;33m]\u001b[0m\u001b[1;33m]\u001b[0m\u001b[1;33m\u001b[0m\u001b[1;33m\u001b[0m\u001b[0m\n\u001b[0m",
      "\u001b[1;32m~\\anaconda3\\lib\\site-packages\\pandas\\core\\frame.py\u001b[0m in \u001b[0;36m__getitem__\u001b[1;34m(self, key)\u001b[0m\n\u001b[0;32m   2798\u001b[0m             \u001b[1;32mif\u001b[0m \u001b[0mself\u001b[0m\u001b[1;33m.\u001b[0m\u001b[0mcolumns\u001b[0m\u001b[1;33m.\u001b[0m\u001b[0mnlevels\u001b[0m \u001b[1;33m>\u001b[0m \u001b[1;36m1\u001b[0m\u001b[1;33m:\u001b[0m\u001b[1;33m\u001b[0m\u001b[1;33m\u001b[0m\u001b[0m\n\u001b[0;32m   2799\u001b[0m                 \u001b[1;32mreturn\u001b[0m \u001b[0mself\u001b[0m\u001b[1;33m.\u001b[0m\u001b[0m_getitem_multilevel\u001b[0m\u001b[1;33m(\u001b[0m\u001b[0mkey\u001b[0m\u001b[1;33m)\u001b[0m\u001b[1;33m\u001b[0m\u001b[1;33m\u001b[0m\u001b[0m\n\u001b[1;32m-> 2800\u001b[1;33m             \u001b[0mindexer\u001b[0m \u001b[1;33m=\u001b[0m \u001b[0mself\u001b[0m\u001b[1;33m.\u001b[0m\u001b[0mcolumns\u001b[0m\u001b[1;33m.\u001b[0m\u001b[0mget_loc\u001b[0m\u001b[1;33m(\u001b[0m\u001b[0mkey\u001b[0m\u001b[1;33m)\u001b[0m\u001b[1;33m\u001b[0m\u001b[1;33m\u001b[0m\u001b[0m\n\u001b[0m\u001b[0;32m   2801\u001b[0m             \u001b[1;32mif\u001b[0m \u001b[0mis_integer\u001b[0m\u001b[1;33m(\u001b[0m\u001b[0mindexer\u001b[0m\u001b[1;33m)\u001b[0m\u001b[1;33m:\u001b[0m\u001b[1;33m\u001b[0m\u001b[1;33m\u001b[0m\u001b[0m\n\u001b[0;32m   2802\u001b[0m                 \u001b[0mindexer\u001b[0m \u001b[1;33m=\u001b[0m \u001b[1;33m[\u001b[0m\u001b[0mindexer\u001b[0m\u001b[1;33m]\u001b[0m\u001b[1;33m\u001b[0m\u001b[1;33m\u001b[0m\u001b[0m\n",
      "\u001b[1;32m~\\anaconda3\\lib\\site-packages\\pandas\\core\\indexes\\base.py\u001b[0m in \u001b[0;36mget_loc\u001b[1;34m(self, key, method, tolerance)\u001b[0m\n\u001b[0;32m   2646\u001b[0m                 \u001b[1;32mreturn\u001b[0m \u001b[0mself\u001b[0m\u001b[1;33m.\u001b[0m\u001b[0m_engine\u001b[0m\u001b[1;33m.\u001b[0m\u001b[0mget_loc\u001b[0m\u001b[1;33m(\u001b[0m\u001b[0mkey\u001b[0m\u001b[1;33m)\u001b[0m\u001b[1;33m\u001b[0m\u001b[1;33m\u001b[0m\u001b[0m\n\u001b[0;32m   2647\u001b[0m             \u001b[1;32mexcept\u001b[0m \u001b[0mKeyError\u001b[0m\u001b[1;33m:\u001b[0m\u001b[1;33m\u001b[0m\u001b[1;33m\u001b[0m\u001b[0m\n\u001b[1;32m-> 2648\u001b[1;33m                 \u001b[1;32mreturn\u001b[0m \u001b[0mself\u001b[0m\u001b[1;33m.\u001b[0m\u001b[0m_engine\u001b[0m\u001b[1;33m.\u001b[0m\u001b[0mget_loc\u001b[0m\u001b[1;33m(\u001b[0m\u001b[0mself\u001b[0m\u001b[1;33m.\u001b[0m\u001b[0m_maybe_cast_indexer\u001b[0m\u001b[1;33m(\u001b[0m\u001b[0mkey\u001b[0m\u001b[1;33m)\u001b[0m\u001b[1;33m)\u001b[0m\u001b[1;33m\u001b[0m\u001b[1;33m\u001b[0m\u001b[0m\n\u001b[0m\u001b[0;32m   2649\u001b[0m         \u001b[0mindexer\u001b[0m \u001b[1;33m=\u001b[0m \u001b[0mself\u001b[0m\u001b[1;33m.\u001b[0m\u001b[0mget_indexer\u001b[0m\u001b[1;33m(\u001b[0m\u001b[1;33m[\u001b[0m\u001b[0mkey\u001b[0m\u001b[1;33m]\u001b[0m\u001b[1;33m,\u001b[0m \u001b[0mmethod\u001b[0m\u001b[1;33m=\u001b[0m\u001b[0mmethod\u001b[0m\u001b[1;33m,\u001b[0m \u001b[0mtolerance\u001b[0m\u001b[1;33m=\u001b[0m\u001b[0mtolerance\u001b[0m\u001b[1;33m)\u001b[0m\u001b[1;33m\u001b[0m\u001b[1;33m\u001b[0m\u001b[0m\n\u001b[0;32m   2650\u001b[0m         \u001b[1;32mif\u001b[0m \u001b[0mindexer\u001b[0m\u001b[1;33m.\u001b[0m\u001b[0mndim\u001b[0m \u001b[1;33m>\u001b[0m \u001b[1;36m1\u001b[0m \u001b[1;32mor\u001b[0m \u001b[0mindexer\u001b[0m\u001b[1;33m.\u001b[0m\u001b[0msize\u001b[0m \u001b[1;33m>\u001b[0m \u001b[1;36m1\u001b[0m\u001b[1;33m:\u001b[0m\u001b[1;33m\u001b[0m\u001b[1;33m\u001b[0m\u001b[0m\n",
      "\u001b[1;32mpandas\\_libs\\index.pyx\u001b[0m in \u001b[0;36mpandas._libs.index.IndexEngine.get_loc\u001b[1;34m()\u001b[0m\n",
      "\u001b[1;32mpandas\\_libs\\index.pyx\u001b[0m in \u001b[0;36mpandas._libs.index.IndexEngine.get_loc\u001b[1;34m()\u001b[0m\n",
      "\u001b[1;32mpandas\\_libs\\hashtable_class_helper.pxi\u001b[0m in \u001b[0;36mpandas._libs.hashtable.PyObjectHashTable.get_item\u001b[1;34m()\u001b[0m\n",
      "\u001b[1;32mpandas\\_libs\\hashtable_class_helper.pxi\u001b[0m in \u001b[0;36mpandas._libs.hashtable.PyObjectHashTable.get_item\u001b[1;34m()\u001b[0m\n",
      "\u001b[1;31mKeyError\u001b[0m: 'type'"
     ]
    }
   ],
   "source": [
    "\"\"\"\n",
    "plt.plot(\n",
    "         , netflix_titles_type_years.loc[netflix_titles_type_years['type'] == 'Movie','show_id'])\n",
    "\n",
    "plt.plot(netflix_titles_type_years.loc[netflix_titles_type_years['type'] == 'TV Show','Netflix release year']\n",
    "         , netflix_titles_type_years.loc[netflix_titles_type_years['type'] == 'TV Show','show_id'])\n",
    "plt.show()\n",
    "\"\"\"\n",
    "\n",
    "temp = netflix_titles_type_years.loc[netflix_titles_type_years[\"type\"] == 'Movie',['Netflix release year']]"
   ]
  },
  {
   "cell_type": "code",
   "execution_count": null,
   "metadata": {},
   "outputs": [],
   "source": []
  },
  {
   "cell_type": "code",
   "execution_count": null,
   "metadata": {},
   "outputs": [],
   "source": []
  }
 ],
 "metadata": {
  "kernelspec": {
   "display_name": "Python 3",
   "language": "python",
   "name": "python3"
  },
  "language_info": {
   "codemirror_mode": {
    "name": "ipython",
    "version": 3
   },
   "file_extension": ".py",
   "mimetype": "text/x-python",
   "name": "python",
   "nbconvert_exporter": "python",
   "pygments_lexer": "ipython3",
   "version": "3.8.3"
  }
 },
 "nbformat": 4,
 "nbformat_minor": 4
}
